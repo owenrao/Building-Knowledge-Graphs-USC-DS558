{
 "cells": [
  {
   "cell_type": "markdown",
   "metadata": {},
   "source": [
    "# Task1: OWL using Protege"
   ]
  },
  {
   "cell_type": "markdown",
   "metadata": {},
   "source": [
    "## Task 1-1: Class & Property Hierarchies\n",
    "- Created a new owl ontology file with name Vehicle.owl\n",
    "- Configured protege regarding naming of entities according to the guide.\n",
    "- Saved the file.\n",
    "- Installed Pellet Reasoner and restarted.\n",
    "- Created classes according to the hierarchy.\n",
    "- Renamed the three classes to the provided URI\n",
    "- Selected the classes and set them disjoint with any same level classes.\n",
    "- Created the data properties and set their ranges to xds:integer only."
   ]
  },
  {
   "cell_type": "markdown",
   "metadata": {},
   "source": [
    "## Task 1-2: Add object property to clas\n",
    "- Select Vehicles class and set it as subclass of \"hasBrand some Brand\" and \"hasSpeed some xds:integer\""
   ]
  },
  {
   "cell_type": "markdown",
   "metadata": {},
   "source": [
    "## Task 1-3: Add datatype properties to class\n",
    "- Set each Vehicle subclasses to its brand. eg: \"hasBrand exactly 1 Honda\".\n",
    "- Created instances on \"Individuals by Class\" window and set their properties accordingly."
   ]
  },
  {
   "cell_type": "markdown",
   "metadata": {},
   "source": [
    "## Task 1-4: Automatically add instances to class using ‘equivalent to’ property\n",
    "- Created a subclass under Vehicle called ExpensiveCar.\n",
    "- Set it as subclass of \"hasMoney some xds:integer[>=40000]\"\n",
    "- Right click it and convert to defined class\n",
    "- Ctrl+R to sync the reasoner. 3 instances are now part of this class."
   ]
  },
  {
   "cell_type": "markdown",
   "metadata": {},
   "source": [
    "# Task2: PSL"
   ]
  },
  {
   "cell_type": "markdown",
   "metadata": {},
   "source": [
    "Other than required data, I also created Similar Titile and Year(not only Date). Some titles have very small difference, but they should be counted in. Some Movies have very different publish date, but regarding year they must be the same."
   ]
  },
  {
   "cell_type": "markdown",
   "metadata": {},
   "source": [
    "Regarding the PSL rules, I believe there are only a few possibilities:\n",
    "- they have the exactly same Title AND same Year(or Date)/Director\n",
    "- they have similar Title AND same Date/Director\n",
    "- any combination of same Title, Similar Title, Date, Director"
   ]
  },
  {
   "cell_type": "markdown",
   "metadata": {},
   "source": [
    "Regarding the result evaluation:"
   ]
  },
  {
   "cell_type": "code",
   "execution_count": 7,
   "metadata": {},
   "outputs": [],
   "source": [
    "gt = {}\n",
    "with open(\"Movie_PSL/data/same_movie_truth.txt\") as file:\n",
    "    for line in file.readlines():\n",
    "        a,b,t = line.strip().split(\"\\t\")\n",
    "        gt[(a,b)] = float(t)"
   ]
  },
  {
   "cell_type": "code",
   "execution_count": 13,
   "metadata": {},
   "outputs": [],
   "source": [
    "target = {}\n",
    "with open(\"Movie_PSL/inferred-predicates/SAMEMOVIE.txt\") as file:\n",
    "    for line in file.readlines():\n",
    "        a,b,t = line.strip().split(\"\\t\")\n",
    "        target[(a,b)] = round(float(t),0)"
   ]
  },
  {
   "cell_type": "code",
   "execution_count": 22,
   "metadata": {},
   "outputs": [
    {
     "name": "stdout",
     "output_type": "stream",
     "text": [
      "('a-122', 'b-120')\n",
      "('a-360', 'b-346')\n",
      "('a-1326', 'b-1148')\n"
     ]
    }
   ],
   "source": [
    "TP = 0\n",
    "FP = 0\n",
    "FN = 0\n",
    "for k,v in gt.items():\n",
    "    if v:\n",
    "        try:\n",
    "            pred_v = target[k]\n",
    "            if pred_v<v:\n",
    "                print(k)\n",
    "                FN += 1\n",
    "            else:\n",
    "                TP += 1\n",
    "        except KeyError:\n",
    "            print(k)\n",
    "            FN += 1\n",
    "    else:\n",
    "        try:\n",
    "            pred_v = target[k]\n",
    "            if pred_v:\n",
    "                FP += 1\n",
    "        except KeyError:\n",
    "            pass"
   ]
  },
  {
   "cell_type": "code",
   "execution_count": 25,
   "metadata": {},
   "outputs": [
    {
     "name": "stdout",
     "output_type": "stream",
     "text": [
      "Precision: 1.0\n",
      "Recall: 0.9822485207100592\n",
      "F-1: 0.9910447761194029\n"
     ]
    }
   ],
   "source": [
    "precision = TP/(TP+FP)\n",
    "recall = TP/(TP+FN)\n",
    "F1 = 2*precision*recall/(precision+recall)\n",
    "print(f\"Precision: {precision}\")\n",
    "print(f\"Recall: {recall}\")\n",
    "print(f\"F-1: {F1}\")"
   ]
  },
  {
   "cell_type": "markdown",
   "metadata": {},
   "source": [
    "There are 3 False Negatives. I reviewed them and found out that they may have the same Title or Director, but their date are completely different. One of them has 2014-10 and 2012-11. But I didnt have time to do a similar Director Name check, which I developed a Waterman Algorithm but takes too long for all the combinations."
   ]
  }
 ],
 "metadata": {
  "kernelspec": {
   "display_name": "Python 3.7.13 ('newenv')",
   "language": "python",
   "name": "python3"
  },
  "language_info": {
   "codemirror_mode": {
    "name": "ipython",
    "version": 3
   },
   "file_extension": ".py",
   "mimetype": "text/x-python",
   "name": "python",
   "nbconvert_exporter": "python",
   "pygments_lexer": "ipython3",
   "version": "3.7.13"
  },
  "orig_nbformat": 4,
  "vscode": {
   "interpreter": {
    "hash": "87ef2c4983d124858e7bc65373e634017d4d0da0a01665b9091a743c5bc24cc8"
   }
  }
 },
 "nbformat": 4,
 "nbformat_minor": 2
}
