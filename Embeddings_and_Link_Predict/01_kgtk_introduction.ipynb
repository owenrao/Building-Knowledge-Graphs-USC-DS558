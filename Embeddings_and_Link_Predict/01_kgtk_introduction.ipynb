{
  "cells": [
    {
      "cell_type": "markdown",
      "id": "51d077a7",
      "metadata": {
        "id": "51d077a7"
      },
      "source": [
        "# Query knowledge graphs with KGTK Kypher"
      ]
    },
    {
      "cell_type": "markdown",
      "id": "a0bef068",
      "metadata": {
        "id": "a0bef068"
      },
      "source": [
        "This tutorial gives an overview of the core features of the KGTK Kypher query language.  \n",
        "\n",
        "For additional details refer to the reading list at the end. "
      ]
    },
    {
      "cell_type": "markdown",
      "id": "1617744d-8f2d-4af9-af36-9d8b570b4aa0",
      "metadata": {
        "id": "1617744d-8f2d-4af9-af36-9d8b570b4aa0"
      },
      "source": [
        "## Step 0: Install KGTK"
      ]
    },
    {
      "cell_type": "markdown",
      "id": "fd4818d0-ffd4-4bfd-bc15-6a28e6067d62",
      "metadata": {
        "id": "fd4818d0-ffd4-4bfd-bc15-6a28e6067d62"
      },
      "source": [
        "Only run the following cell if KGTK is not installed.\n",
        " For example, if running in [Google Colab](https://colab.research.google.com/)"
      ]
    },
    {
      "cell_type": "code",
      "execution_count": 1,
      "id": "30d32722-d768-4b12-8723-3596c33cdaab",
      "metadata": {
        "id": "30d32722-d768-4b12-8723-3596c33cdaab",
        "colab": {
          "base_uri": "https://localhost:8080/",
          "height": 1000
        },
        "outputId": "5a1ac1c3-5cda-4c16-a30d-870459710ea4"
      },
      "outputs": [
        {
          "output_type": "stream",
          "name": "stdout",
          "text": [
            "Looking in indexes: https://pypi.org/simple, https://us-python.pkg.dev/colab-wheels/public/simple/\n",
            "Collecting kgtk\n",
            "  Downloading kgtk-1.4.3-py3-none-any.whl (602 kB)\n",
            "\u001b[K     |████████████████████████████████| 602 kB 2.1 MB/s \n",
            "\u001b[?25hRequirement already satisfied: dill>=0.3.2 in /usr/local/lib/python3.7/dist-packages (from kgtk) (0.3.5.1)\n",
            "Collecting sklearn\n",
            "  Downloading sklearn-0.0.tar.gz (1.1 kB)\n",
            "Collecting rltk\n",
            "  Downloading rltk-2.0.0a20-py3-none-any.whl (81 kB)\n",
            "\u001b[K     |████████████████████████████████| 81 kB 7.5 MB/s \n",
            "\u001b[?25hCollecting pycountry\n",
            "  Downloading pycountry-22.3.5.tar.gz (10.1 MB)\n",
            "\u001b[K     |████████████████████████████████| 10.1 MB 25.1 MB/s \n",
            "\u001b[?25h  Installing build dependencies ... \u001b[?25l\u001b[?25hdone\n",
            "  Getting requirements to build wheel ... \u001b[?25l\u001b[?25hdone\n",
            "    Preparing wheel metadata ... \u001b[?25l\u001b[?25hdone\n",
            "Collecting rfc3986\n",
            "  Downloading rfc3986-2.0.0-py2.py3-none-any.whl (31 kB)\n",
            "Collecting mypy\n",
            "  Downloading mypy-0.982-cp37-cp37m-manylinux_2_17_x86_64.manylinux2014_x86_64.whl (15.1 MB)\n",
            "\u001b[K     |████████████████████████████████| 15.1 MB 49.5 MB/s \n",
            "\u001b[?25hCollecting thinc==7.4.0\n",
            "  Downloading thinc-7.4.0-cp37-cp37m-manylinux1_x86_64.whl (2.2 MB)\n",
            "\u001b[K     |████████████████████████████████| 2.2 MB 42.7 MB/s \n",
            "\u001b[?25hCollecting rdflib>=6.0.2\n",
            "  Downloading rdflib-6.2.0-py3-none-any.whl (500 kB)\n",
            "\u001b[K     |████████████████████████████████| 500 kB 65.2 MB/s \n",
            "\u001b[?25hCollecting loguru\n",
            "  Downloading loguru-0.6.0-py3-none-any.whl (58 kB)\n",
            "\u001b[K     |████████████████████████████████| 58 kB 6.2 MB/s \n",
            "\u001b[?25hCollecting plac==1.1.3\n",
            "  Downloading plac-1.1.3-py2.py3-none-any.whl (20 kB)\n",
            "Collecting SPARQLWrapper\n",
            "  Downloading SPARQLWrapper-2.0.0-py3-none-any.whl (28 kB)\n",
            "Collecting pyshacl>=0.17.1\n",
            "  Downloading pyshacl-0.20.0-py3-none-any.whl (1.2 MB)\n",
            "\u001b[K     |████████████████████████████████| 1.2 MB 56.5 MB/s \n",
            "\u001b[?25hRequirement already satisfied: tqdm in /usr/local/lib/python3.7/dist-packages (from kgtk) (4.64.1)\n",
            "Collecting pyrallel.lib==0.0.9\n",
            "  Downloading pyrallel.lib-0.0.9-py3-none-any.whl (24 kB)\n",
            "Collecting rdflib-jsonld>=0.6.2\n",
            "  Downloading rdflib_jsonld-0.6.2-py2.py3-none-any.whl (4.0 kB)\n",
            "Collecting shortuuid\n",
            "  Downloading shortuuid-1.0.9-py3-none-any.whl (9.4 kB)\n",
            "Requirement already satisfied: attrs in /usr/local/lib/python3.7/dist-packages (from kgtk) (22.1.0)\n",
            "Collecting parsley>=1.3\n",
            "  Downloading Parsley-1.3-py2.py3-none-any.whl (88 kB)\n",
            "\u001b[K     |████████████████████████████████| 88 kB 9.6 MB/s \n",
            "\u001b[?25hCollecting odictliteral\n",
            "  Downloading odictliteral-1.0.0.tar.gz (3.1 kB)\n",
            "Collecting torchbiggraph\n",
            "  Downloading torchbiggraph-1.0.0-py3-none-any.whl (99 kB)\n",
            "\u001b[K     |████████████████████████████████| 99 kB 9.0 MB/s \n",
            "\u001b[?25hCollecting iso-639\n",
            "  Downloading iso-639-0.4.5.tar.gz (167 kB)\n",
            "\u001b[K     |████████████████████████████████| 167 kB 58.2 MB/s \n",
            "\u001b[?25hCollecting redis\n",
            "  Downloading redis-4.3.4-py3-none-any.whl (246 kB)\n",
            "\u001b[K     |████████████████████████████████| 246 kB 64.9 MB/s \n",
            "\u001b[?25hCollecting sentence-transformers\n",
            "  Downloading sentence-transformers-2.2.2.tar.gz (85 kB)\n",
            "\u001b[K     |████████████████████████████████| 85 kB 5.5 MB/s \n",
            "\u001b[?25hCollecting usc-isi-i2-mgzip>=0.2.1.3\n",
            "  Downloading usc_isi_i2_mgzip-0.2.1.3-py3-none-any.whl (11 kB)\n",
            "Collecting sh>=1.13\n",
            "  Downloading sh-1.14.3.tar.gz (62 kB)\n",
            "\u001b[K     |████████████████████████████████| 62 kB 1.6 MB/s \n",
            "\u001b[?25hRequirement already satisfied: seaborn in /usr/local/lib/python3.7/dist-packages (from kgtk) (0.11.2)\n",
            "Collecting lz4\n",
            "  Downloading lz4-4.0.2-cp37-cp37m-manylinux_2_17_x86_64.manylinux2014_x86_64.whl (1.2 MB)\n",
            "\u001b[K     |████████████████████████████████| 1.2 MB 60.4 MB/s \n",
            "\u001b[?25hCollecting unidecode\n",
            "  Downloading Unidecode-1.3.6-py3-none-any.whl (235 kB)\n",
            "\u001b[K     |████████████████████████████████| 235 kB 50.8 MB/s \n",
            "\u001b[?25hCollecting simplejson\n",
            "  Downloading simplejson-3.17.6-cp37-cp37m-manylinux_2_5_x86_64.manylinux1_x86_64.manylinux_2_12_x86_64.manylinux2010_x86_64.whl (130 kB)\n",
            "\u001b[K     |████████████████████████████████| 130 kB 69.9 MB/s \n",
            "\u001b[?25hCollecting multiprocess>=0.70\n",
            "  Downloading multiprocess-0.70.13-py37-none-any.whl (115 kB)\n",
            "\u001b[K     |████████████████████████████████| 115 kB 56.7 MB/s \n",
            "\u001b[?25hCollecting typing>=3.6\n",
            "  Downloading typing-3.7.4.3.tar.gz (78 kB)\n",
            "\u001b[K     |████████████████████████████████| 78 kB 8.7 MB/s \n",
            "\u001b[?25hRequirement already satisfied: murmurhash<1.1.0,>=0.28.0 in /usr/local/lib/python3.7/dist-packages (from thinc==7.4.0->kgtk) (1.0.8)\n",
            "Requirement already satisfied: preshed<3.1.0,>=1.0.1 in /usr/local/lib/python3.7/dist-packages (from thinc==7.4.0->kgtk) (3.0.7)\n",
            "Collecting blis<0.5.0,>=0.4.0\n",
            "  Downloading blis-0.4.1-cp37-cp37m-manylinux1_x86_64.whl (3.7 MB)\n",
            "\u001b[K     |████████████████████████████████| 3.7 MB 25.7 MB/s \n",
            "\u001b[?25hRequirement already satisfied: wasabi<1.1.0,>=0.0.9 in /usr/local/lib/python3.7/dist-packages (from thinc==7.4.0->kgtk) (0.10.1)\n",
            "Collecting catalogue<1.1.0,>=0.0.7\n",
            "  Downloading catalogue-1.0.1-py2.py3-none-any.whl (16 kB)\n",
            "Collecting srsly<1.1.0,>=0.0.6\n",
            "  Downloading srsly-1.0.5-cp37-cp37m-manylinux2014_x86_64.whl (184 kB)\n",
            "\u001b[K     |████████████████████████████████| 184 kB 57.5 MB/s \n",
            "\u001b[?25hRequirement already satisfied: numpy>=1.7.0 in /usr/local/lib/python3.7/dist-packages (from thinc==7.4.0->kgtk) (1.21.6)\n",
            "Requirement already satisfied: cymem<2.1.0,>=2.0.2 in /usr/local/lib/python3.7/dist-packages (from thinc==7.4.0->kgtk) (2.0.6)\n",
            "Requirement already satisfied: typing-extensions>=3.6.4 in /usr/local/lib/python3.7/dist-packages (from catalogue<1.1.0,>=0.0.7->thinc==7.4.0->kgtk) (4.1.1)\n",
            "Requirement already satisfied: zipp>=0.5 in /usr/local/lib/python3.7/dist-packages (from catalogue<1.1.0,>=0.0.7->thinc==7.4.0->kgtk) (3.8.1)\n",
            "Collecting html5lib<2,>=1.1\n",
            "  Downloading html5lib-1.1-py2.py3-none-any.whl (112 kB)\n",
            "\u001b[K     |████████████████████████████████| 112 kB 59.6 MB/s \n",
            "\u001b[?25hCollecting prettytable<3.0.0,>=2.2.1\n",
            "  Downloading prettytable-2.5.0-py3-none-any.whl (24 kB)\n",
            "Requirement already satisfied: packaging>=21.3 in /usr/local/lib/python3.7/dist-packages (from pyshacl>=0.17.1->kgtk) (21.3)\n",
            "Collecting owlrl<7,>=6.0.2\n",
            "  Downloading owlrl-6.0.2-py3-none-any.whl (54 kB)\n",
            "\u001b[K     |████████████████████████████████| 54 kB 2.9 MB/s \n",
            "\u001b[?25hRequirement already satisfied: webencodings in /usr/local/lib/python3.7/dist-packages (from html5lib<2,>=1.1->pyshacl>=0.17.1->kgtk) (0.5.1)\n",
            "Requirement already satisfied: six>=1.9 in /usr/local/lib/python3.7/dist-packages (from html5lib<2,>=1.1->pyshacl>=0.17.1->kgtk) (1.15.0)\n",
            "Requirement already satisfied: pyparsing!=3.0.5,>=2.0.2 in /usr/local/lib/python3.7/dist-packages (from packaging>=21.3->pyshacl>=0.17.1->kgtk) (3.0.9)\n",
            "Requirement already satisfied: wcwidth in /usr/local/lib/python3.7/dist-packages (from prettytable<3.0.0,>=2.2.1->pyshacl>=0.17.1->kgtk) (0.2.5)\n",
            "Requirement already satisfied: importlib-metadata in /usr/local/lib/python3.7/dist-packages (from prettytable<3.0.0,>=2.2.1->pyshacl>=0.17.1->kgtk) (5.0.0)\n",
            "Requirement already satisfied: setuptools in /usr/local/lib/python3.7/dist-packages (from rdflib>=6.0.2->kgtk) (57.4.0)\n",
            "Collecting isodate\n",
            "  Downloading isodate-0.6.1-py2.py3-none-any.whl (41 kB)\n",
            "\u001b[K     |████████████████████████████████| 41 kB 613 kB/s \n",
            "\u001b[?25hRequirement already satisfied: tomli>=1.1.0 in /usr/local/lib/python3.7/dist-packages (from mypy->kgtk) (2.0.1)\n",
            "Collecting typed-ast<2,>=1.4.0\n",
            "  Downloading typed_ast-1.5.4-cp37-cp37m-manylinux_2_5_x86_64.manylinux1_x86_64.manylinux_2_12_x86_64.manylinux2010_x86_64.whl (843 kB)\n",
            "\u001b[K     |████████████████████████████████| 843 kB 49.2 MB/s \n",
            "\u001b[?25hCollecting mypy-extensions>=0.4.3\n",
            "  Downloading mypy_extensions-0.4.3-py2.py3-none-any.whl (4.5 kB)\n",
            "Requirement already satisfied: async-timeout>=4.0.2 in /usr/local/lib/python3.7/dist-packages (from redis->kgtk) (4.0.2)\n",
            "Collecting deprecated>=1.2.3\n",
            "  Downloading Deprecated-1.2.13-py2.py3-none-any.whl (9.6 kB)\n",
            "Requirement already satisfied: wrapt<2,>=1.10 in /usr/local/lib/python3.7/dist-packages (from deprecated>=1.2.3->redis->kgtk) (1.14.1)\n",
            "Requirement already satisfied: pandas>=1.2.0 in /usr/local/lib/python3.7/dist-packages (from rltk->kgtk) (1.3.5)\n",
            "Requirement already satisfied: dask>=0.19.2 in /usr/local/lib/python3.7/dist-packages (from rltk->kgtk) (2022.2.0)\n",
            "Requirement already satisfied: distributed>=1.23 in /usr/local/lib/python3.7/dist-packages (from rltk->kgtk) (2022.2.0)\n",
            "Requirement already satisfied: matplotlib>=2.0.0 in /usr/local/lib/python3.7/dist-packages (from rltk->kgtk) (3.2.2)\n",
            "Requirement already satisfied: Cython>=0.28.0 in /usr/local/lib/python3.7/dist-packages (from rltk->kgtk) (0.29.32)\n",
            "Requirement already satisfied: scipy>=1.1.0 in /usr/local/lib/python3.7/dist-packages (from rltk->kgtk) (1.7.3)\n",
            "Requirement already satisfied: cloudpickle>=1.1.1 in /usr/local/lib/python3.7/dist-packages (from dask>=0.19.2->rltk->kgtk) (1.5.0)\n",
            "Requirement already satisfied: partd>=0.3.10 in /usr/local/lib/python3.7/dist-packages (from dask>=0.19.2->rltk->kgtk) (1.3.0)\n",
            "Requirement already satisfied: fsspec>=0.6.0 in /usr/local/lib/python3.7/dist-packages (from dask>=0.19.2->rltk->kgtk) (2022.8.2)\n",
            "Requirement already satisfied: toolz>=0.8.2 in /usr/local/lib/python3.7/dist-packages (from dask>=0.19.2->rltk->kgtk) (0.12.0)\n",
            "Requirement already satisfied: pyyaml>=5.3.1 in /usr/local/lib/python3.7/dist-packages (from dask>=0.19.2->rltk->kgtk) (6.0)\n",
            "Requirement already satisfied: psutil>=5.0 in /usr/local/lib/python3.7/dist-packages (from distributed>=1.23->rltk->kgtk) (5.4.8)\n",
            "Requirement already satisfied: msgpack>=0.6.0 in /usr/local/lib/python3.7/dist-packages (from distributed>=1.23->rltk->kgtk) (1.0.4)\n",
            "Requirement already satisfied: tblib>=1.6.0 in /usr/local/lib/python3.7/dist-packages (from distributed>=1.23->rltk->kgtk) (1.7.0)\n",
            "Requirement already satisfied: click>=6.6 in /usr/local/lib/python3.7/dist-packages (from distributed>=1.23->rltk->kgtk) (7.1.2)\n",
            "Requirement already satisfied: jinja2 in /usr/local/lib/python3.7/dist-packages (from distributed>=1.23->rltk->kgtk) (2.11.3)\n",
            "Requirement already satisfied: sortedcontainers!=2.0.0,!=2.0.1 in /usr/local/lib/python3.7/dist-packages (from distributed>=1.23->rltk->kgtk) (2.4.0)\n",
            "Requirement already satisfied: zict>=0.1.3 in /usr/local/lib/python3.7/dist-packages (from distributed>=1.23->rltk->kgtk) (2.2.0)\n",
            "Requirement already satisfied: tornado>=5 in /usr/local/lib/python3.7/dist-packages (from distributed>=1.23->rltk->kgtk) (5.1.1)\n",
            "Requirement already satisfied: kiwisolver>=1.0.1 in /usr/local/lib/python3.7/dist-packages (from matplotlib>=2.0.0->rltk->kgtk) (1.4.4)\n",
            "Requirement already satisfied: python-dateutil>=2.1 in /usr/local/lib/python3.7/dist-packages (from matplotlib>=2.0.0->rltk->kgtk) (2.8.2)\n",
            "Requirement already satisfied: cycler>=0.10 in /usr/local/lib/python3.7/dist-packages (from matplotlib>=2.0.0->rltk->kgtk) (0.11.0)\n",
            "Requirement already satisfied: pytz>=2017.3 in /usr/local/lib/python3.7/dist-packages (from pandas>=1.2.0->rltk->kgtk) (2022.4)\n",
            "Requirement already satisfied: locket in /usr/local/lib/python3.7/dist-packages (from partd>=0.3.10->dask>=0.19.2->rltk->kgtk) (1.0.0)\n",
            "Requirement already satisfied: heapdict in /usr/local/lib/python3.7/dist-packages (from zict>=0.1.3->distributed>=1.23->rltk->kgtk) (1.0.1)\n",
            "Requirement already satisfied: MarkupSafe>=0.23 in /usr/local/lib/python3.7/dist-packages (from jinja2->distributed>=1.23->rltk->kgtk) (2.0.1)\n",
            "Collecting transformers<5.0.0,>=4.6.0\n",
            "  Downloading transformers-4.22.2-py3-none-any.whl (4.9 MB)\n",
            "\u001b[K     |████████████████████████████████| 4.9 MB 57.6 MB/s \n",
            "\u001b[?25hRequirement already satisfied: torch>=1.6.0 in /usr/local/lib/python3.7/dist-packages (from sentence-transformers->kgtk) (1.12.1+cu113)\n",
            "Requirement already satisfied: torchvision in /usr/local/lib/python3.7/dist-packages (from sentence-transformers->kgtk) (0.13.1+cu113)\n",
            "Requirement already satisfied: scikit-learn in /usr/local/lib/python3.7/dist-packages (from sentence-transformers->kgtk) (1.0.2)\n",
            "Requirement already satisfied: nltk in /usr/local/lib/python3.7/dist-packages (from sentence-transformers->kgtk) (3.7)\n",
            "Collecting sentencepiece\n",
            "  Downloading sentencepiece-0.1.97-cp37-cp37m-manylinux_2_17_x86_64.manylinux2014_x86_64.whl (1.3 MB)\n",
            "\u001b[K     |████████████████████████████████| 1.3 MB 55.6 MB/s \n",
            "\u001b[?25hCollecting huggingface-hub>=0.4.0\n",
            "  Downloading huggingface_hub-0.10.0-py3-none-any.whl (163 kB)\n",
            "\u001b[K     |████████████████████████████████| 163 kB 56.5 MB/s \n",
            "\u001b[?25hRequirement already satisfied: filelock in /usr/local/lib/python3.7/dist-packages (from huggingface-hub>=0.4.0->sentence-transformers->kgtk) (3.8.0)\n",
            "Requirement already satisfied: requests in /usr/local/lib/python3.7/dist-packages (from huggingface-hub>=0.4.0->sentence-transformers->kgtk) (2.23.0)\n",
            "Requirement already satisfied: regex!=2019.12.17 in /usr/local/lib/python3.7/dist-packages (from transformers<5.0.0,>=4.6.0->sentence-transformers->kgtk) (2022.6.2)\n",
            "Collecting tokenizers!=0.11.3,<0.13,>=0.11.1\n",
            "  Downloading tokenizers-0.12.1-cp37-cp37m-manylinux_2_12_x86_64.manylinux2010_x86_64.whl (6.6 MB)\n",
            "\u001b[K     |████████████████████████████████| 6.6 MB 46.5 MB/s \n",
            "\u001b[?25hRequirement already satisfied: joblib in /usr/local/lib/python3.7/dist-packages (from nltk->sentence-transformers->kgtk) (1.2.0)\n",
            "Requirement already satisfied: certifi>=2017.4.17 in /usr/local/lib/python3.7/dist-packages (from requests->huggingface-hub>=0.4.0->sentence-transformers->kgtk) (2022.9.24)\n",
            "Requirement already satisfied: urllib3!=1.25.0,!=1.25.1,<1.26,>=1.21.1 in /usr/local/lib/python3.7/dist-packages (from requests->huggingface-hub>=0.4.0->sentence-transformers->kgtk) (1.24.3)\n",
            "Requirement already satisfied: idna<3,>=2.5 in /usr/local/lib/python3.7/dist-packages (from requests->huggingface-hub>=0.4.0->sentence-transformers->kgtk) (2.10)\n",
            "Requirement already satisfied: chardet<4,>=3.0.2 in /usr/local/lib/python3.7/dist-packages (from requests->huggingface-hub>=0.4.0->sentence-transformers->kgtk) (3.0.4)\n",
            "Requirement already satisfied: threadpoolctl>=2.0.0 in /usr/local/lib/python3.7/dist-packages (from scikit-learn->sentence-transformers->kgtk) (3.1.0)\n",
            "Requirement already satisfied: h5py>=2.8 in /usr/local/lib/python3.7/dist-packages (from torchbiggraph->kgtk) (3.1.0)\n",
            "Requirement already satisfied: cached-property in /usr/local/lib/python3.7/dist-packages (from h5py>=2.8->torchbiggraph->kgtk) (1.5.2)\n",
            "Requirement already satisfied: pillow!=8.3.*,>=5.3.0 in /usr/local/lib/python3.7/dist-packages (from torchvision->sentence-transformers->kgtk) (7.1.2)\n",
            "Building wheels for collected packages: sh, typing, iso-639, odictliteral, pycountry, sentence-transformers, sklearn\n",
            "  Building wheel for sh (setup.py) ... \u001b[?25l\u001b[?25hdone\n",
            "  Created wheel for sh: filename=sh-1.14.3-py2.py3-none-any.whl size=39656 sha256=ee9ac9939efb8e86885ebb936d414e3613dffcdd7459aee1d20a76ca510659f9\n",
            "  Stored in directory: /root/.cache/pip/wheels/e0/d2/e1/3290bef6382cfc1ec5e659353e5f403fc1eb385ea5f615519a\n",
            "  Building wheel for typing (setup.py) ... \u001b[?25l\u001b[?25hdone\n",
            "  Created wheel for typing: filename=typing-3.7.4.3-py3-none-any.whl size=26325 sha256=149b86a6a3aa54baa1714ca048bb35e25bed11550e1e9445e9502111fae58458\n",
            "  Stored in directory: /root/.cache/pip/wheels/35/f3/15/01aa6571f0a72ee6ae7b827c1491c37a1f72d686fd22b43b0e\n",
            "  Building wheel for iso-639 (setup.py) ... \u001b[?25l\u001b[?25hdone\n",
            "  Created wheel for iso-639: filename=iso_639-0.4.5-py3-none-any.whl size=169061 sha256=82b5ec83dbe6f86aa2d3a78502c6a64f8a85c8be1b5e8bea5dc5a013a1d7f8f4\n",
            "  Stored in directory: /root/.cache/pip/wheels/47/60/19/6d020fc92138ed1b113a18271e83ea4b5525fe770cb45b9a2e\n",
            "  Building wheel for odictliteral (setup.py) ... \u001b[?25l\u001b[?25hdone\n",
            "  Created wheel for odictliteral: filename=odictliteral-1.0.0-py3-none-any.whl size=3123 sha256=1cacfbbaccfd1759d255b025b5a907eec0aa59688375b058017fa81eb36f6bbb\n",
            "  Stored in directory: /root/.cache/pip/wheels/3f/25/10/2ce4f3d7e604b790796f487e5e77a90b544eb2302d0ace109b\n",
            "  Building wheel for pycountry (PEP 517) ... \u001b[?25l\u001b[?25hdone\n",
            "  Created wheel for pycountry: filename=pycountry-22.3.5-py2.py3-none-any.whl size=10681845 sha256=3e50963e513dae513bbd429c978300dfe9006f13570a1c28e7c357f100090089\n",
            "  Stored in directory: /root/.cache/pip/wheels/0e/06/e8/7ee176e95ea9a8a8c3b3afcb1869f20adbd42413d4611c6eb4\n",
            "  Building wheel for sentence-transformers (setup.py) ... \u001b[?25l\u001b[?25hdone\n",
            "  Created wheel for sentence-transformers: filename=sentence_transformers-2.2.2-py3-none-any.whl size=125938 sha256=3d2c8471d9a0740a694bddc15789d082d1a9e156d1e71e430cbc7eca07d1e395\n",
            "  Stored in directory: /root/.cache/pip/wheels/bf/06/fb/d59c1e5bd1dac7f6cf61ec0036cc3a10ab8fecaa6b2c3d3ee9\n",
            "  Building wheel for sklearn (setup.py) ... \u001b[?25l\u001b[?25hdone\n",
            "  Created wheel for sklearn: filename=sklearn-0.0-py2.py3-none-any.whl size=1310 sha256=e291105a94602b0aa98da7889152d7000a73394e17169297930d438d5f496c5a\n",
            "  Stored in directory: /root/.cache/pip/wheels/46/ef/c3/157e41f5ee1372d1be90b09f74f82b10e391eaacca8f22d33e\n",
            "Successfully built sh typing iso-639 odictliteral pycountry sentence-transformers sklearn\n",
            "Installing collected packages: isodate, typing, tokenizers, rdflib, multiprocess, huggingface-hub, typed-ast, transformers, srsly, sentencepiece, pyrallel.lib, prettytable, plac, owlrl, mypy-extensions, html5lib, deprecated, catalogue, blis, usc-isi-i2-mgzip, unidecode, torchbiggraph, thinc, SPARQLWrapper, sklearn, simplejson, shortuuid, sh, sentence-transformers, rltk, rfc3986, redis, rdflib-jsonld, pyshacl, pycountry, parsley, odictliteral, mypy, lz4, loguru, iso-639, kgtk\n",
            "  Attempting uninstall: srsly\n",
            "    Found existing installation: srsly 2.4.4\n",
            "    Uninstalling srsly-2.4.4:\n",
            "      Successfully uninstalled srsly-2.4.4\n",
            "  Attempting uninstall: prettytable\n",
            "    Found existing installation: prettytable 3.4.1\n",
            "    Uninstalling prettytable-3.4.1:\n",
            "      Successfully uninstalled prettytable-3.4.1\n",
            "  Attempting uninstall: html5lib\n",
            "    Found existing installation: html5lib 1.0.1\n",
            "    Uninstalling html5lib-1.0.1:\n",
            "      Successfully uninstalled html5lib-1.0.1\n",
            "  Attempting uninstall: catalogue\n",
            "    Found existing installation: catalogue 2.0.8\n",
            "    Uninstalling catalogue-2.0.8:\n",
            "      Successfully uninstalled catalogue-2.0.8\n",
            "  Attempting uninstall: blis\n",
            "    Found existing installation: blis 0.7.8\n",
            "    Uninstalling blis-0.7.8:\n",
            "      Successfully uninstalled blis-0.7.8\n",
            "  Attempting uninstall: thinc\n",
            "    Found existing installation: thinc 8.1.2\n",
            "    Uninstalling thinc-8.1.2:\n",
            "      Successfully uninstalled thinc-8.1.2\n",
            "\u001b[31mERROR: pip's dependency resolver does not currently take into account all the packages that are installed. This behaviour is the source of the following dependency conflicts.\n",
            "spacy 3.4.1 requires catalogue<2.1.0,>=2.0.6, but you have catalogue 1.0.1 which is incompatible.\n",
            "spacy 3.4.1 requires srsly<3.0.0,>=2.4.3, but you have srsly 1.0.5 which is incompatible.\n",
            "spacy 3.4.1 requires thinc<8.2.0,>=8.1.0, but you have thinc 7.4.0 which is incompatible.\n",
            "confection 0.0.2 requires srsly<3.0.0,>=2.4.0, but you have srsly 1.0.5 which is incompatible.\u001b[0m\n",
            "Successfully installed SPARQLWrapper-2.0.0 blis-0.4.1 catalogue-1.0.1 deprecated-1.2.13 html5lib-1.1 huggingface-hub-0.10.0 iso-639-0.4.5 isodate-0.6.1 kgtk-1.4.3 loguru-0.6.0 lz4-4.0.2 multiprocess-0.70.13 mypy-0.982 mypy-extensions-0.4.3 odictliteral-1.0.0 owlrl-6.0.2 parsley-1.3 plac-1.1.3 prettytable-2.5.0 pycountry-22.3.5 pyrallel.lib-0.0.9 pyshacl-0.20.0 rdflib-6.2.0 rdflib-jsonld-0.6.2 redis-4.3.4 rfc3986-2.0.0 rltk-2.0.0a20 sentence-transformers-2.2.2 sentencepiece-0.1.97 sh-1.14.3 shortuuid-1.0.9 simplejson-3.17.6 sklearn-0.0 srsly-1.0.5 thinc-7.4.0 tokenizers-0.12.1 torchbiggraph-1.0.0 transformers-4.22.2 typed-ast-1.5.4 typing-3.7.4.3 unidecode-1.3.6 usc-isi-i2-mgzip-0.2.1.3\n"
          ]
        },
        {
          "output_type": "display_data",
          "data": {
            "application/vnd.colab-display-data+json": {
              "pip_warning": {
                "packages": [
                  "typing"
                ]
              }
            }
          },
          "metadata": {}
        }
      ],
      "source": [
        "!pip install kgtk"
      ]
    },
    {
      "cell_type": "markdown",
      "id": "28ca9cbc",
      "metadata": {
        "id": "28ca9cbc"
      },
      "source": [
        "### Notebook data setup"
      ]
    },
    {
      "cell_type": "code",
      "execution_count": 2,
      "id": "2d11ddcf",
      "metadata": {
        "id": "2d11ddcf"
      },
      "outputs": [],
      "source": [
        "import os\n",
        "import os.path\n",
        "\n",
        "from kgtk.configure_kgtk_notebooks import ConfigureKGTK"
      ]
    },
    {
      "cell_type": "code",
      "execution_count": 3,
      "id": "cfe8ba35",
      "metadata": {
        "tags": [
          "parameters"
        ],
        "id": "cfe8ba35"
      },
      "outputs": [],
      "source": [
        "# Parameters\n",
        "\n",
        "# Folders on local machine where to create the output and temporary files:\n",
        "input_path = None\n",
        "output_path = \"/tmp/projects\"\n",
        "project_name = \"tutorial-kypher\""
      ]
    },
    {
      "cell_type": "code",
      "execution_count": 4,
      "id": "0e28525d",
      "metadata": {
        "id": "0e28525d",
        "colab": {
          "base_uri": "https://localhost:8080/"
        },
        "outputId": "e3530445-e2f1-4a85-8038-792928729fb4"
      },
      "outputs": [
        {
          "output_type": "stream",
          "name": "stdout",
          "text": [
            "User home: /root\n",
            "Current dir: /content\n",
            "KGTK dir: /\n",
            "Use-cases dir: //use-cases\n",
            "--2022-10-07 22:01:46--  https://github.com/usc-isi-i2/kgtk-tutorial-files/raw/main/datasets/arnold/all.tsv.gz\n",
            "Resolving github.com (github.com)... 20.27.177.113\n",
            "Connecting to github.com (github.com)|20.27.177.113|:443... connected.\n",
            "HTTP request sent, awaiting response... 301 Moved Permanently\n",
            "Location: https://github.com/usc-isi-i2/kgtk-notebooks/raw/main/datasets/arnold/all.tsv.gz [following]\n",
            "--2022-10-07 22:01:46--  https://github.com/usc-isi-i2/kgtk-notebooks/raw/main/datasets/arnold/all.tsv.gz\n",
            "Reusing existing connection to github.com:443.\n",
            "HTTP request sent, awaiting response... 302 Found\n",
            "Location: https://raw.githubusercontent.com/usc-isi-i2/kgtk-notebooks/main/datasets/arnold/all.tsv.gz [following]\n",
            "--2022-10-07 22:01:47--  https://raw.githubusercontent.com/usc-isi-i2/kgtk-notebooks/main/datasets/arnold/all.tsv.gz\n",
            "Resolving raw.githubusercontent.com (raw.githubusercontent.com)... 185.199.110.133, 185.199.108.133, 185.199.109.133, ...\n",
            "Connecting to raw.githubusercontent.com (raw.githubusercontent.com)|185.199.110.133|:443... connected.\n",
            "HTTP request sent, awaiting response... 200 OK\n",
            "Length: 45510513 (43M) [application/octet-stream]\n",
            "Saving to: ‘/root/isi-kgtk-tutorial/tutorial-kypher_input/all.tsv.gz’\n",
            "\n",
            "     0K .......... .......... .......... .......... ..........  0% 1.72M 25s\n",
            "    50K .......... .......... .......... .......... ..........  0% 2.29M 22s\n",
            "   100K .......... .......... .......... .......... ..........  0% 8.15M 16s\n",
            "   150K .......... .......... .......... .......... ..........  0% 10.1M 13s\n",
            "   200K .......... .......... .......... .......... ..........  0% 3.53M 13s\n",
            "   250K .......... .......... .......... .......... ..........  0% 14.9M 11s\n",
            "   300K .......... .......... .......... .......... ..........  0% 17.6M 10s\n",
            "   350K .......... .......... .......... .......... ..........  0% 18.1M 9s\n",
            "   400K .......... .......... .......... .......... ..........  1% 16.5M 8s\n",
            "   450K .......... .......... .......... .......... ..........  1% 22.4M 8s\n",
            "   500K .......... .......... .......... .......... ..........  1% 4.55M 8s\n",
            "   550K .......... .......... .......... .......... ..........  1% 30.6M 7s\n",
            "   600K .......... .......... .......... .......... ..........  1% 20.7M 7s\n",
            "   650K .......... .......... .......... .......... ..........  1% 22.4M 7s\n",
            "   700K .......... .......... .......... .......... ..........  1% 47.6M 6s\n",
            "   750K .......... .......... .......... .......... ..........  1% 44.3M 6s\n",
            "   800K .......... .......... .......... .......... ..........  1% 25.9M 6s\n",
            "   850K .......... .......... .......... .......... ..........  2% 41.1M 5s\n",
            "   900K .......... .......... .......... .......... ..........  2% 52.0M 5s\n",
            "   950K .......... .......... .......... .......... ..........  2% 40.6M 5s\n",
            "  1000K .......... .......... .......... .......... ..........  2% 47.0M 5s\n",
            "  1050K .......... .......... .......... .......... ..........  2% 4.77M 5s\n",
            "  1100K .......... .......... .......... .......... ..........  2% 45.5M 5s\n",
            "  1150K .......... .......... .......... .......... ..........  2% 51.0M 5s\n",
            "  1200K .......... .......... .......... .......... ..........  2% 70.4M 4s\n",
            "  1250K .......... .......... .......... .......... ..........  2% 45.5M 4s\n",
            "  1300K .......... .......... .......... .......... ..........  3% 36.3M 4s\n",
            "  1350K .......... .......... .......... .......... ..........  3%  118M 4s\n",
            "  1400K .......... .......... .......... .......... ..........  3%  118M 4s\n",
            "  1450K .......... .......... .......... .......... ..........  3% 35.8M 4s\n",
            "  1500K .......... .......... .......... .......... ..........  3% 60.8M 4s\n",
            "  1550K .......... .......... .......... .......... ..........  3% 96.0M 4s\n",
            "  1600K .......... .......... .......... .......... ..........  3%  131M 3s\n",
            "  1650K .......... .......... .......... .......... ..........  3% 37.4M 3s\n",
            "  1700K .......... .......... .......... .......... ..........  3%  117M 3s\n",
            "  1750K .......... .......... .......... .......... ..........  4% 66.0M 3s\n",
            "  1800K .......... .......... .......... .......... ..........  4% 46.8M 3s\n",
            "  1850K .......... .......... .......... .......... ..........  4%  162M 3s\n",
            "  1900K .......... .......... .......... .......... ..........  4% 71.1M 3s\n",
            "  1950K .......... .......... .......... .......... ..........  4%  125M 3s\n",
            "  2000K .......... .......... .......... .......... ..........  4% 75.0M 3s\n",
            "  2050K .......... .......... .......... .......... ..........  4% 94.2M 3s\n",
            "  2100K .......... .......... .......... .......... ..........  4%  137M 3s\n",
            "  2150K .......... .......... .......... .......... ..........  4% 5.21M 3s\n",
            "  2200K .......... .......... .......... .......... ..........  5%  169M 3s\n",
            "  2250K .......... .......... .......... .......... ..........  5% 43.2M 3s\n",
            "  2300K .......... .......... .......... .......... ..........  5%  112M 3s\n",
            "  2350K .......... .......... .......... .......... ..........  5%  197M 3s\n",
            "  2400K .......... .......... .......... .......... ..........  5%  104M 3s\n",
            "  2450K .......... .......... .......... .......... ..........  5%  155M 3s\n",
            "  2500K .......... .......... .......... .......... ..........  5% 54.1M 3s\n",
            "  2550K .......... .......... .......... .......... ..........  5%  164M 2s\n",
            "  2600K .......... .......... .......... .......... ..........  5%  212M 2s\n",
            "  2650K .......... .......... .......... .......... ..........  6% 57.3M 2s\n",
            "  2700K .......... .......... .......... .......... ..........  6%  165M 2s\n",
            "  2750K .......... .......... .......... .......... ..........  6%  113M 2s\n",
            "  2800K .......... .......... .......... .......... ..........  6%  208M 2s\n",
            "  2850K .......... .......... .......... .......... ..........  6% 24.3M 2s\n",
            "  2900K .......... .......... .......... .......... ..........  6%  143M 2s\n",
            "  2950K .......... .......... .......... .......... ..........  6%  179M 2s\n",
            "  3000K .......... .......... .......... .......... ..........  6%  179M 2s\n",
            "  3050K .......... .......... .......... .......... ..........  6%  178M 2s\n",
            "  3100K .......... .......... .......... .......... ..........  7%  205M 2s\n",
            "  3150K .......... .......... .......... .......... ..........  7%  177M 2s\n",
            "  3200K .......... .......... .......... .......... ..........  7%  210M 2s\n",
            "  3250K .......... .......... .......... .......... ..........  7%  186M 2s\n",
            "  3300K .......... .......... .......... .......... ..........  7%  226M 2s\n",
            "  3350K .......... .......... .......... .......... ..........  7%  171M 2s\n",
            "  3400K .......... .......... .......... .......... ..........  7%  223M 2s\n",
            "  3450K .......... .......... .......... .......... ..........  7%  180M 2s\n",
            "  3500K .......... .......... .......... .......... ..........  7%  165M 2s\n",
            "  3550K .......... .......... .......... .......... ..........  8%  194M 2s\n",
            "  3600K .......... .......... .......... .......... ..........  8%  170M 2s\n",
            "  3650K .......... .......... .......... .......... ..........  8%  205M 2s\n",
            "  3700K .......... .......... .......... .......... ..........  8%  113M 2s\n",
            "  3750K .......... .......... .......... .......... ..........  8%  214M 2s\n",
            "  3800K .......... .......... .......... .......... ..........  8%  159M 2s\n",
            "  3850K .......... .......... .......... .......... ..........  8%  125M 2s\n",
            "  3900K .......... .......... .......... .......... ..........  8%  180M 2s\n",
            "  3950K .......... .......... .......... .......... ..........  9%  155M 2s\n",
            "  4000K .......... .......... .......... .......... ..........  9%  173M 2s\n",
            "  4050K .......... .......... .......... .......... ..........  9%  171M 2s\n",
            "  4100K .......... .......... .......... .......... ..........  9%  160M 2s\n",
            "  4150K .......... .......... .......... .......... ..........  9%  180M 2s\n",
            "  4200K .......... .......... .......... .......... ..........  9%  169M 2s\n",
            "  4250K .......... .......... .......... .......... ..........  9%  194M 2s\n",
            "  4300K .......... .......... .......... .......... ..........  9% 5.56M 2s\n",
            "  4350K .......... .......... .......... .......... ..........  9%  182M 2s\n",
            "  4400K .......... .......... .......... .......... .......... 10% 96.7M 2s\n",
            "  4450K .......... .......... .......... .......... .......... 10%  210M 2s\n",
            "  4500K .......... .......... .......... .......... .......... 10%  200M 2s\n",
            "  4550K .......... .......... .......... .......... .......... 10%  137M 2s\n",
            "  4600K .......... .......... .......... .......... .......... 10%  155M 2s\n",
            "  4650K .......... .......... .......... .......... .......... 10%  164M 1s\n",
            "  4700K .......... .......... .......... .......... .......... 10%  170M 1s\n",
            "  4750K .......... .......... .......... .......... .......... 10%  179M 1s\n",
            "  4800K .......... .......... .......... .......... .......... 10%  189M 1s\n",
            "  4850K .......... .......... .......... .......... .......... 11% 95.2M 1s\n",
            "  4900K .......... .......... .......... .......... .......... 11%  140M 1s\n",
            "  4950K .......... .......... .......... .......... .......... 11%  197M 1s\n",
            "  5000K .......... .......... .......... .......... .......... 11%  169M 1s\n",
            "  5050K .......... .......... .......... .......... .......... 11%  158M 1s\n",
            "  5100K .......... .......... .......... .......... .......... 11%  187M 1s\n",
            "  5150K .......... .......... .......... .......... .......... 11%  192M 1s\n",
            "  5200K .......... .......... .......... .......... .......... 11%  167M 1s\n",
            "  5250K .......... .......... .......... .......... .......... 11%  166M 1s\n",
            "  5300K .......... .......... .......... .......... .......... 12%  223M 1s\n",
            "  5350K .......... .......... .......... .......... .......... 12%  190M 1s\n",
            "  5400K .......... .......... .......... .......... .......... 12%  229M 1s\n",
            "  5450K .......... .......... .......... .......... .......... 12%  229M 1s\n",
            "  5500K .......... .......... .......... .......... .......... 12%  221M 1s\n",
            "  5550K .......... .......... .......... .......... .......... 12% 63.9M 1s\n",
            "  5600K .......... .......... .......... .......... .......... 12%  155M 1s\n",
            "  5650K .......... .......... .......... .......... .......... 12%  166M 1s\n",
            "  5700K .......... .......... .......... .......... .......... 12%  189M 1s\n",
            "  5750K .......... .......... .......... .......... .......... 13%  129M 1s\n",
            "  5800K .......... .......... .......... .......... .......... 13%  158M 1s\n",
            "  5850K .......... .......... .......... .......... .......... 13%  186M 1s\n",
            "  5900K .......... .......... .......... .......... .......... 13%  153M 1s\n",
            "  5950K .......... .......... .......... .......... .......... 13%  181M 1s\n",
            "  6000K .......... .......... .......... .......... .......... 13%  190M 1s\n",
            "  6050K .......... .......... .......... .......... .......... 13%  174M 1s\n",
            "  6100K .......... .......... .......... .......... .......... 13%  173M 1s\n",
            "  6150K .......... .......... .......... .......... .......... 13%  191M 1s\n",
            "  6200K .......... .......... .......... .......... .......... 14%  164M 1s\n",
            "  6250K .......... .......... .......... .......... .......... 14%  186M 1s\n",
            "  6300K .......... .......... .......... .......... .......... 14%  218M 1s\n",
            "  6350K .......... .......... .......... .......... .......... 14%  193M 1s\n",
            "  6400K .......... .......... .......... .......... .......... 14%  137M 1s\n",
            "  6450K .......... .......... .......... .......... .......... 14%  159M 1s\n",
            "  6500K .......... .......... .......... .......... .......... 14%  169M 1s\n",
            "  6550K .......... .......... .......... .......... .......... 14%  227M 1s\n",
            "  6600K .......... .......... .......... .......... .......... 14%  171M 1s\n",
            "  6650K .......... .......... .......... .......... .......... 15%  181M 1s\n",
            "  6700K .......... .......... .......... .......... .......... 15%  176M 1s\n",
            "  6750K .......... .......... .......... .......... .......... 15%  192M 1s\n",
            "  6800K .......... .......... .......... .......... .......... 15%  172M 1s\n",
            "  6850K .......... .......... .......... .......... .......... 15%  208M 1s\n",
            "  6900K .......... .......... .......... .......... .......... 15%  143M 1s\n",
            "  6950K .......... .......... .......... .......... .......... 15%  201M 1s\n",
            "  7000K .......... .......... .......... .......... .......... 15%  172M 1s\n",
            "  7050K .......... .......... .......... .......... .......... 15%  224M 1s\n",
            "  7100K .......... .......... .......... .......... .......... 16%  222M 1s\n",
            "  7150K .......... .......... .......... .......... .......... 16%  198M 1s\n",
            "  7200K .......... .......... .......... .......... .......... 16%  210M 1s\n",
            "  7250K .......... .......... .......... .......... .......... 16% 6.16M 1s\n",
            "  7300K .......... .......... .......... .......... .......... 16%  192M 1s\n",
            "  7350K .......... .......... .......... .......... .......... 16%  225M 1s\n",
            "  7400K .......... .......... .......... .......... .......... 16%  144M 1s\n",
            "  7450K .......... .......... .......... .......... .......... 16% 53.4M 1s\n",
            "  7500K .......... .......... .......... .......... .......... 16%  170M 1s\n",
            "  7550K .......... .......... .......... .......... .......... 17%  113M 1s\n",
            "  7600K .......... .......... .......... .......... .......... 17%  205M 1s\n",
            "  7650K .......... .......... .......... .......... .......... 17%  121M 1s\n",
            "  7700K .......... .......... .......... .......... .......... 17%  206M 1s\n",
            "  7750K .......... .......... .......... .......... .......... 17%  172M 1s\n",
            "  7800K .......... .......... .......... .......... .......... 17%  231M 1s\n",
            "  7850K .......... .......... .......... .......... .......... 17%  189M 1s\n",
            "  7900K .......... .......... .......... .......... .......... 17%  198M 1s\n",
            "  7950K .......... .......... .......... .......... .......... 18%  221M 1s\n",
            "  8000K .......... .......... .......... .......... .......... 18%  176M 1s\n",
            "  8050K .......... .......... .......... .......... .......... 18%  167M 1s\n",
            "  8100K .......... .......... .......... .......... .......... 18%  195M 1s\n",
            "  8150K .......... .......... .......... .......... .......... 18%  189M 1s\n",
            "  8200K .......... .......... .......... .......... .......... 18%  162M 1s\n",
            "  8250K .......... .......... .......... .......... .......... 18%  227M 1s\n",
            "  8300K .......... .......... .......... .......... .......... 18%  234M 1s\n",
            "  8350K .......... .......... .......... .......... .......... 18% 31.2M 1s\n",
            "  8400K .......... .......... .......... .......... .......... 19%  128M 1s\n",
            "  8450K .......... .......... .......... .......... .......... 19%  200M 1s\n",
            "  8500K .......... .......... .......... .......... .......... 19%  211M 1s\n",
            "  8550K .......... .......... .......... .......... .......... 19%  168M 1s\n",
            "  8600K .......... .......... .......... .......... .......... 19%  163M 1s\n",
            "  8650K .......... .......... .......... .......... .......... 19%  152M 1s\n",
            "  8700K .......... .......... .......... .......... .......... 19%  167M 1s\n",
            "  8750K .......... .......... .......... .......... .......... 19%  232M 1s\n",
            "  8800K .......... .......... .......... .......... .......... 19%  230M 1s\n",
            "  8850K .......... .......... .......... .......... .......... 20%  145M 1s\n",
            "  8900K .......... .......... .......... .......... .......... 20%  154M 1s\n",
            "  8950K .......... .......... .......... .......... .......... 20%  186M 1s\n",
            "  9000K .......... .......... .......... .......... .......... 20%  199M 1s\n",
            "  9050K .......... .......... .......... .......... .......... 20%  219M 1s\n",
            "  9100K .......... .......... .......... .......... .......... 20%  227M 1s\n",
            "  9150K .......... .......... .......... .......... .......... 20%  162M 1s\n",
            "  9200K .......... .......... .......... .......... .......... 20%  147M 1s\n",
            "  9250K .......... .......... .......... .......... .......... 20%  183M 1s\n",
            "  9300K .......... .......... .......... .......... .......... 21%  193M 1s\n",
            "  9350K .......... .......... .......... .......... .......... 21%  178M 1s\n",
            "  9400K .......... .......... .......... .......... .......... 21%  198M 1s\n",
            "  9450K .......... .......... .......... .......... .......... 21%  233M 1s\n",
            "  9500K .......... .......... .......... .......... .......... 21%  138M 1s\n",
            "  9550K .......... .......... .......... .......... .......... 21%  213M 1s\n",
            "  9600K .......... .......... .......... .......... .......... 21%  184M 1s\n",
            "  9650K .......... .......... .......... .......... .......... 21%  197M 1s\n",
            "  9700K .......... .......... .......... .......... .......... 21%  173M 1s\n",
            "  9750K .......... .......... .......... .......... .......... 22%  208M 1s\n",
            "  9800K .......... .......... .......... .......... .......... 22%  171M 1s\n",
            "  9850K .......... .......... .......... .......... .......... 22%  211M 1s\n",
            "  9900K .......... .......... .......... .......... .......... 22%  233M 1s\n",
            "  9950K .......... .......... .......... .......... .......... 22%  209M 1s\n",
            " 10000K .......... .......... .......... .......... .......... 22%  199M 1s\n",
            " 10050K .......... .......... .......... .......... .......... 22% 5.94M 1s\n",
            " 10100K .......... .......... .......... .......... .......... 22%  152M 1s\n",
            " 10150K .......... .......... .......... .......... .......... 22%  235M 1s\n",
            " 10200K .......... .......... .......... .......... .......... 23%  177M 1s\n",
            " 10250K .......... .......... .......... .......... .......... 23%  225M 1s\n",
            " 10300K .......... .......... .......... .......... .......... 23%  226M 1s\n",
            " 10350K .......... .......... .......... .......... .......... 23%  170M 1s\n",
            " 10400K .......... .......... .......... .......... .......... 23%  150M 1s\n",
            " 10450K .......... .......... .......... .......... .......... 23%  176M 1s\n",
            " 10500K .......... .......... .......... .......... .......... 23%  223M 1s\n",
            " 10550K .......... .......... .......... .......... .......... 23%  225M 1s\n",
            " 10600K .......... .......... .......... .......... .......... 23%  135M 1s\n",
            " 10650K .......... .......... .......... .......... .......... 24%  184M 1s\n",
            " 10700K .......... .......... .......... .......... .......... 24%  154M 1s\n",
            " 10750K .......... .......... .......... .......... .......... 24%  211M 1s\n",
            " 10800K .......... .......... .......... .......... .......... 24%  193M 1s\n",
            " 10850K .......... .......... .......... .......... .......... 24%  230M 1s\n",
            " 10900K .......... .......... .......... .......... .......... 24% 68.7M 1s\n",
            " 10950K .......... .......... .......... .......... .......... 24%  191M 1s\n",
            " 11000K .......... .......... .......... .......... .......... 24%  226M 1s\n",
            " 11050K .......... .......... .......... .......... .......... 24%  226M 1s\n",
            " 11100K .......... .......... .......... .......... .......... 25%  153M 1s\n",
            " 11150K .......... .......... .......... .......... .......... 25%  182M 1s\n",
            " 11200K .......... .......... .......... .......... .......... 25% 30.7M 1s\n",
            " 11250K .......... .......... .......... .......... .......... 25%  140M 1s\n",
            " 11300K .......... .......... .......... .......... .......... 25%  200M 1s\n",
            " 11350K .......... .......... .......... .......... .......... 25%  216M 1s\n",
            " 11400K .......... .......... .......... .......... .......... 25%  174M 1s\n",
            " 11450K .......... .......... .......... .......... .......... 25%  154M 1s\n",
            " 11500K .......... .......... .......... .......... .......... 25%  165M 1s\n",
            " 11550K .......... .......... .......... .......... .......... 26%  212M 1s\n",
            " 11600K .......... .......... .......... .......... .......... 26%  210M 1s\n",
            " 11650K .......... .......... .......... .......... .......... 26%  231M 1s\n",
            " 11700K .......... .......... .......... .......... .......... 26%  189M 1s\n",
            " 11750K .......... .......... .......... .......... .......... 26%  150M 1s\n",
            " 11800K .......... .......... .......... .......... .......... 26%  179M 1s\n",
            " 11850K .......... .......... .......... .......... .......... 26%  223M 1s\n",
            " 11900K .......... .......... .......... .......... .......... 26%  235M 1s\n",
            " 11950K .......... .......... .......... .......... .......... 27%  220M 1s\n",
            " 12000K .......... .......... .......... .......... .......... 27%  203M 1s\n",
            " 12050K .......... .......... .......... .......... .......... 27%  144M 1s\n",
            " 12100K .......... .......... .......... .......... .......... 27%  194M 1s\n",
            " 12150K .......... .......... .......... .......... .......... 27%  221M 1s\n",
            " 12200K .......... .......... .......... .......... .......... 27%  194M 1s\n",
            " 12250K .......... .......... .......... .......... .......... 27%  166M 1s\n",
            " 12300K .......... .......... .......... .......... .......... 27%  168M 1s\n",
            " 12350K .......... .......... .......... .......... .......... 27%  219M 1s\n",
            " 12400K .......... .......... .......... .......... .......... 28%  195M 1s\n",
            " 12450K .......... .......... .......... .......... .......... 28%  220M 1s\n",
            " 12500K .......... .......... .......... .......... .......... 28%  173M 1s\n",
            " 12550K .......... .......... .......... .......... .......... 28%  150M 1s\n",
            " 12600K .......... .......... .......... .......... .......... 28%  226M 1s\n",
            " 12650K .......... .......... .......... .......... .......... 28%  230M 1s\n",
            " 12700K .......... .......... .......... .......... .......... 28%  181M 1s\n",
            " 12750K .......... .......... .......... .......... .......... 28%  187M 1s\n",
            " 12800K .......... .......... .......... .......... .......... 28%  230M 1s\n",
            " 12850K .......... .......... .......... .......... .......... 29% 5.56M 1s\n",
            " 12900K .......... .......... .......... .......... .......... 29% 74.3M 1s\n",
            " 12950K .......... .......... .......... .......... .......... 29%  180M 1s\n",
            " 13000K .......... .......... .......... .......... .......... 29%  192M 1s\n",
            " 13050K .......... .......... .......... .......... .......... 29%  131M 1s\n",
            " 13100K .......... .......... .......... .......... .......... 29%  166M 1s\n",
            " 13150K .......... .......... .......... .......... .......... 29%  186M 1s\n",
            " 13200K .......... .......... .......... .......... .......... 29%  220M 1s\n",
            " 13250K .......... .......... .......... .......... .......... 29%  227M 1s\n",
            " 13300K .......... .......... .......... .......... .......... 30%  147M 1s\n",
            " 13350K .......... .......... .......... .......... .......... 30%  154M 1s\n",
            " 13400K .......... .......... .......... .......... .......... 30%  193M 1s\n",
            " 13450K .......... .......... .......... .......... .......... 30%  115M 1s\n",
            " 13500K .......... .......... .......... .......... .......... 30%  113M 1s\n",
            " 13550K .......... .......... .......... .......... .......... 30%  122M 1s\n",
            " 13600K .......... .......... .......... .......... .......... 30%  165M 1s\n",
            " 13650K .......... .......... .......... .......... .......... 30%  230M 1s\n",
            " 13700K .......... .......... .......... .......... .......... 30%  190M 1s\n",
            " 13750K .......... .......... .......... .......... .......... 31%  234M 1s\n",
            " 13800K .......... .......... .......... .......... .......... 31%  217M 1s\n",
            " 13850K .......... .......... .......... .......... .......... 31%  231M 1s\n",
            " 13900K .......... .......... .......... .......... .......... 31%  210M 1s\n",
            " 13950K .......... .......... .......... .......... .......... 31%  194M 1s\n",
            " 14000K .......... .......... .......... .......... .......... 31%  234M 1s\n",
            " 14050K .......... .......... .......... .......... .......... 31% 55.2M 1s\n",
            " 14100K .......... .......... .......... .......... .......... 31%  142M 1s\n",
            " 14150K .......... .......... .......... .......... .......... 31%  152M 1s\n",
            " 14200K .......... .......... .......... .......... .......... 32%  223M 1s\n",
            " 14250K .......... .......... .......... .......... .......... 32%  236M 1s\n",
            " 14300K .......... .......... .......... .......... .......... 32%  177M 1s\n",
            " 14350K .......... .......... .......... .......... .......... 32%  145M 1s\n",
            " 14400K .......... .......... .......... .......... .......... 32%  173M 1s\n",
            " 14450K .......... .......... .......... .......... .......... 32%  220M 1s\n",
            " 14500K .......... .......... .......... .......... .......... 32%  236M 1s\n",
            " 14550K .......... .......... .......... .......... .......... 32%  195M 1s\n",
            " 14600K .......... .......... .......... .......... .......... 32%  137M 1s\n",
            " 14650K .......... .......... .......... .......... .......... 33%  184M 1s\n",
            " 14700K .......... .......... .......... .......... .......... 33%  226M 1s\n",
            " 14750K .......... .......... .......... .......... .......... 33%  234M 1s\n",
            " 14800K .......... .......... .......... .......... .......... 33%  235M 1s\n",
            " 14850K .......... .......... .......... .......... .......... 33%  191M 1s\n",
            " 14900K .......... .......... .......... .......... .......... 33%  122M 1s\n",
            " 14950K .......... .......... .......... .......... .......... 33%  197M 1s\n",
            " 15000K .......... .......... .......... .......... .......... 33%  228M 1s\n",
            " 15050K .......... .......... .......... .......... .......... 33%  221M 1s\n",
            " 15100K .......... .......... .......... .......... .......... 34%  138M 1s\n",
            " 15150K .......... .......... .......... .......... .......... 34%  194M 1s\n",
            " 15200K .......... .......... .......... .......... .......... 34%  231M 1s\n",
            " 15250K .......... .......... .......... .......... .......... 34%  178M 0s\n",
            " 15300K .......... .......... .......... .......... .......... 34%  174M 0s\n",
            " 15350K .......... .......... .......... .......... .......... 34%  147M 0s\n",
            " 15400K .......... .......... .......... .......... .......... 34%  199M 0s\n",
            " 15450K .......... .......... .......... .......... .......... 34%  234M 0s\n",
            " 15500K .......... .......... .......... .......... .......... 34%  192M 0s\n",
            " 15550K .......... .......... .......... .......... .......... 35%  230M 0s\n",
            " 15600K .......... .......... .......... .......... .......... 35%  192M 0s\n",
            " 15650K .......... .......... .......... .......... .......... 35%  211M 0s\n",
            " 15700K .......... .......... .......... .......... .......... 35% 5.42M 0s\n",
            " 15750K .......... .......... .......... .......... .......... 35%  202M 0s\n",
            " 15800K .......... .......... .......... .......... .......... 35%  200M 0s\n",
            " 15850K .......... .......... .......... .......... .......... 35%  206M 0s\n",
            " 15900K .......... .......... .......... .......... .......... 35%  221M 0s\n",
            " 15950K .......... .......... .......... .......... .......... 36%  173M 0s\n",
            " 16000K .......... .......... .......... .......... .......... 36%  186M 0s\n",
            " 16050K .......... .......... .......... .......... .......... 36%  197M 0s\n",
            " 16100K .......... .......... .......... .......... .......... 36%  215M 0s\n",
            " 16150K .......... .......... .......... .......... .......... 36%  231M 0s\n",
            " 16200K .......... .......... .......... .......... .......... 36% 64.3M 0s\n",
            " 16250K .......... .......... .......... .......... .......... 36%  131M 0s\n",
            " 16300K .......... .......... .......... .......... .......... 36%  190M 0s\n",
            " 16350K .......... .......... .......... .......... .......... 36%  214M 0s\n",
            " 16400K .......... .......... .......... .......... .......... 37%  231M 0s\n",
            " 16450K .......... .......... .......... .......... .......... 37%  187M 0s\n",
            " 16500K .......... .......... .......... .......... .......... 37%  152M 0s\n",
            " 16550K .......... .......... .......... .......... .......... 37%  195M 0s\n",
            " 16600K .......... .......... .......... .......... .......... 37%  229M 0s\n",
            " 16650K .......... .......... .......... .......... .......... 37%  228M 0s\n",
            " 16700K .......... .......... .......... .......... .......... 37%  230M 0s\n",
            " 16750K .......... .......... .......... .......... .......... 37% 28.2M 0s\n",
            " 16800K .......... .......... .......... .......... .......... 37%  137M 0s\n",
            " 16850K .......... .......... .......... .......... .......... 38%  150M 0s\n",
            " 16900K .......... .......... .......... .......... .......... 38%  179M 0s\n",
            " 16950K .......... .......... .......... .......... .......... 38%  225M 0s\n",
            " 17000K .......... .......... .......... .......... .......... 38%  170M 0s\n",
            " 17050K .......... .......... .......... .......... .......... 38%  141M 0s\n",
            " 17100K .......... .......... .......... .......... .......... 38%  162M 0s\n",
            " 17150K .......... .......... .......... .......... .......... 38%  230M 0s\n",
            " 17200K .......... .......... .......... .......... .......... 38%  235M 0s\n",
            " 17250K .......... .......... .......... .......... .......... 38%  174M 0s\n",
            " 17300K .......... .......... .......... .......... .......... 39%  141M 0s\n",
            " 17350K .......... .......... .......... .......... .......... 39%  193M 0s\n",
            " 17400K .......... .......... .......... .......... .......... 39%  218M 0s\n",
            " 17450K .......... .......... .......... .......... .......... 39%  232M 0s\n",
            " 17500K .......... .......... .......... .......... .......... 39%  195M 0s\n",
            " 17550K .......... .......... .......... .......... .......... 39%  171M 0s\n",
            " 17600K .......... .......... .......... .......... .......... 39%  152M 0s\n",
            " 17650K .......... .......... .......... .......... .......... 39%  189M 0s\n",
            " 17700K .......... .......... .......... .......... .......... 39%  229M 0s\n",
            " 17750K .......... .......... .......... .......... .......... 40%  201M 0s\n",
            " 17800K .......... .......... .......... .......... .......... 40%  172M 0s\n",
            " 17850K .......... .......... .......... .......... .......... 40%  164M 0s\n",
            " 17900K .......... .......... .......... .......... .......... 40%  236M 0s\n",
            " 17950K .......... .......... .......... .......... .......... 40%  236M 0s\n",
            " 18000K .......... .......... .......... .......... .......... 40%  140M 0s\n",
            " 18050K .......... .......... .......... .......... .......... 40%  146M 0s\n",
            " 18100K .......... .......... .......... .......... .......... 40%  197M 0s\n",
            " 18150K .......... .......... .......... .......... .......... 40%  218M 0s\n",
            " 18200K .......... .......... .......... .......... .......... 41%  164M 0s\n",
            " 18250K .......... .......... .......... .......... .......... 41%  226M 0s\n",
            " 18300K .......... .......... .......... .......... .......... 41%  218M 0s\n",
            " 18350K .......... .......... .......... .......... .......... 41%  229M 0s\n",
            " 18400K .......... .......... .......... .......... .......... 41%  223M 0s\n",
            " 18450K .......... .......... .......... .......... .......... 41%  180M 0s\n",
            " 18500K .......... .......... .......... .......... .......... 41%  241M 0s\n",
            " 18550K .......... .......... .......... .......... .......... 41% 5.80M 0s\n",
            " 18600K .......... .......... .......... .......... .......... 41%  141M 0s\n",
            " 18650K .......... .......... .......... .......... .......... 42%  227M 0s\n",
            " 18700K .......... .......... .......... .......... .......... 42%  196M 0s\n",
            " 18750K .......... .......... .......... .......... .......... 42%  223M 0s\n",
            " 18800K .......... .......... .......... .......... .......... 42%  157M 0s\n",
            " 18850K .......... .......... .......... .......... .......... 42%  173M 0s\n",
            " 18900K .......... .......... .......... .......... .......... 42%  236M 0s\n",
            " 18950K .......... .......... .......... .......... .......... 42%  187M 0s\n",
            " 19000K .......... .......... .......... .......... .......... 42%  231M 0s\n",
            " 19050K .......... .......... .......... .......... .......... 42%  175M 0s\n",
            " 19100K .......... .......... .......... .......... .......... 43%  133M 0s\n",
            " 19150K .......... .......... .......... .......... .......... 43%  170M 0s\n",
            " 19200K .......... .......... .......... .......... .......... 43%  190M 0s\n",
            " 19250K .......... .......... .......... .......... .......... 43%  239M 0s\n",
            " 19300K .......... .......... .......... .......... .......... 43%  223M 0s\n",
            " 19350K .......... .......... .......... .......... .......... 43%  217M 0s\n",
            " 19400K .......... .......... .......... .......... .......... 43%  147M 0s\n",
            " 19450K .......... .......... .......... .......... .......... 43%  195M 0s\n",
            " 19500K .......... .......... .......... .......... .......... 43%  208M 0s\n",
            " 19550K .......... .......... .......... .......... .......... 44%  213M 0s\n",
            " 19600K .......... .......... .......... .......... .......... 44%  217M 0s\n",
            " 19650K .......... .......... .......... .......... .......... 44% 21.5M 0s\n",
            " 19700K .......... .......... .......... .......... .......... 44%  123M 0s\n",
            " 19750K .......... .......... .......... .......... .......... 44%  166M 0s\n",
            " 19800K .......... .......... .......... .......... .......... 44%  231M 0s\n",
            " 19850K .......... .......... .......... .......... .......... 44%  175M 0s\n",
            " 19900K .......... .......... .......... .......... .......... 44%  143M 0s\n",
            " 19950K .......... .......... .......... .......... .......... 45%  225M 0s\n",
            " 20000K .......... .......... .......... .......... .......... 45%  230M 0s\n",
            " 20050K .......... .......... .......... .......... .......... 45%  235M 0s\n",
            " 20100K .......... .......... .......... .......... .......... 45%  140M 0s\n",
            " 20150K .......... .......... .......... .......... .......... 45%  150M 0s\n",
            " 20200K .......... .......... .......... .......... .......... 45%  229M 0s\n",
            " 20250K .......... .......... .......... .......... .......... 45%  224M 0s\n",
            " 20300K .......... .......... .......... .......... .......... 45%  173M 0s\n",
            " 20350K .......... .......... .......... .......... .......... 45%  170M 0s\n",
            " 20400K .......... .......... .......... .......... .......... 46%  169M 0s\n",
            " 20450K .......... .......... .......... .......... .......... 46%  179M 0s\n",
            " 20500K .......... .......... .......... .......... .......... 46%  224M 0s\n",
            " 20550K .......... .......... .......... .......... .......... 46%  231M 0s\n",
            " 20600K .......... .......... .......... .......... .......... 46%  172M 0s\n",
            " 20650K .......... .......... .......... .......... .......... 46%  155M 0s\n",
            " 20700K .......... .......... .......... .......... .......... 46%  219M 0s\n",
            " 20750K .......... .......... .......... .......... .......... 46%  227M 0s\n",
            " 20800K .......... .......... .......... .......... .......... 46%  239M 0s\n",
            " 20850K .......... .......... .......... .......... .......... 47%  162M 0s\n",
            " 20900K .......... .......... .......... .......... .......... 47%  200M 0s\n",
            " 20950K .......... .......... .......... .......... .......... 47%  161M 0s\n",
            " 21000K .......... .......... .......... .......... .......... 47%  233M 0s\n",
            " 21050K .......... .......... .......... .......... .......... 47%  224M 0s\n",
            " 21100K .......... .......... .......... .......... .......... 47%  166M 0s\n",
            " 21150K .......... .......... .......... .......... .......... 47%  211M 0s\n",
            " 21200K .......... .......... .......... .......... .......... 47%  230M 0s\n",
            " 21250K .......... .......... .......... .......... .......... 47%  217M 0s\n",
            " 21300K .......... .......... .......... .......... .......... 48%  233M 0s\n",
            " 21350K .......... .......... .......... .......... .......... 48% 5.53M 0s\n",
            " 21400K .......... .......... .......... .......... .......... 48%  137M 0s\n",
            " 21450K .......... .......... .......... .......... .......... 48%  226M 0s\n",
            " 21500K .......... .......... .......... .......... .......... 48%  226M 0s\n",
            " 21550K .......... .......... .......... .......... .......... 48%  154M 0s\n",
            " 21600K .......... .......... .......... .......... .......... 48%  148M 0s\n",
            " 21650K .......... .......... .......... .......... .......... 48%  150M 0s\n",
            " 21700K .......... .......... .......... .......... .......... 48%  222M 0s\n",
            " 21750K .......... .......... .......... .......... .......... 49%  223M 0s\n",
            " 21800K .......... .......... .......... .......... .......... 49%  163M 0s\n",
            " 21850K .......... .......... .......... .......... .......... 49%  126M 0s\n",
            " 21900K .......... .......... .......... .......... .......... 49%  199M 0s\n",
            " 21950K .......... .......... .......... .......... .......... 49%  230M 0s\n",
            " 22000K .......... .......... .......... .......... .......... 49%  232M 0s\n",
            " 22050K .......... .......... .......... .......... .......... 49%  205M 0s\n",
            " 22100K .......... .......... .......... .......... .......... 49%  182M 0s\n",
            " 22150K .......... .......... .......... .......... .......... 49%  148M 0s\n",
            " 22200K .......... .......... .......... .......... .......... 50%  231M 0s\n",
            " 22250K .......... .......... .......... .......... .......... 50%  236M 0s\n",
            " 22300K .......... .......... .......... .......... .......... 50%  195M 0s\n",
            " 22350K .......... .......... .......... .......... .......... 50%  203M 0s\n",
            " 22400K .......... .......... .......... .......... .......... 50%  194M 0s\n",
            " 22450K .......... .......... .......... .......... .......... 50%  227M 0s\n",
            " 22500K .......... .......... .......... .......... .......... 50% 29.7M 0s\n",
            " 22550K .......... .......... .......... .......... .......... 50%  160M 0s\n",
            " 22600K .......... .......... .......... .......... .......... 50%  169M 0s\n",
            " 22650K .......... .......... .......... .......... .......... 51%  173M 0s\n",
            " 22700K .......... .......... .......... .......... .......... 51%  195M 0s\n",
            " 22750K .......... .......... .......... .......... .......... 51%  134M 0s\n",
            " 22800K .......... .......... .......... .......... .......... 51%  156M 0s\n",
            " 22850K .......... .......... .......... .......... .......... 51%  230M 0s\n",
            " 22900K .......... .......... .......... .......... .......... 51%  231M 0s\n",
            " 22950K .......... .......... .......... .......... .......... 51%  139M 0s\n",
            " 23000K .......... .......... .......... .......... .......... 51%  172M 0s\n",
            " 23050K .......... .......... .......... .......... .......... 51%  231M 0s\n",
            " 23100K .......... .......... .......... .......... .......... 52%  223M 0s\n",
            " 23150K .......... .......... .......... .......... .......... 52%  129M 0s\n",
            " 23200K .......... .......... .......... .......... .......... 52%  164M 0s\n",
            " 23250K .......... .......... .......... .......... .......... 52%  211M 0s\n",
            " 23300K .......... .......... .......... .......... .......... 52%  136M 0s\n",
            " 23350K .......... .......... .......... .......... .......... 52%  224M 0s\n",
            " 23400K .......... .......... .......... .......... .......... 52%  175M 0s\n",
            " 23450K .......... .......... .......... .......... .......... 52%  146M 0s\n",
            " 23500K .......... .......... .......... .......... .......... 52%  208M 0s\n",
            " 23550K .......... .......... .......... .......... .......... 53%  190M 0s\n",
            " 23600K .......... .......... .......... .......... .......... 53%  165M 0s\n",
            " 23650K .......... .......... .......... .......... .......... 53%  198M 0s\n",
            " 23700K .......... .......... .......... .......... .......... 53%  219M 0s\n",
            " 23750K .......... .......... .......... .......... .......... 53%  159M 0s\n",
            " 23800K .......... .......... .......... .......... .......... 53%  239M 0s\n",
            " 23850K .......... .......... .......... .......... .......... 53%  167M 0s\n",
            " 23900K .......... .......... .......... .......... .......... 53%  176M 0s\n",
            " 23950K .......... .......... .......... .......... .......... 54%  203M 0s\n",
            " 24000K .......... .......... .......... .......... .......... 54%  239M 0s\n",
            " 24050K .......... .......... .......... .......... .......... 54%  241M 0s\n",
            " 24100K .......... .......... .......... .......... .......... 54%  224M 0s\n",
            " 24150K .......... .......... .......... .......... .......... 54%  188M 0s\n",
            " 24200K .......... .......... .......... .......... .......... 54% 5.67M 0s\n",
            " 24250K .......... .......... .......... .......... .......... 54%  154M 0s\n",
            " 24300K .......... .......... .......... .......... .......... 54%  178M 0s\n",
            " 24350K .......... .......... .......... .......... .......... 54%  209M 0s\n",
            " 24400K .......... .......... .......... .......... .......... 55%  168M 0s\n",
            " 24450K .......... .......... .......... .......... .......... 55%  165M 0s\n",
            " 24500K .......... .......... .......... .......... .......... 55%  178M 0s\n",
            " 24550K .......... .......... .......... .......... .......... 55%  216M 0s\n",
            " 24600K .......... .......... .......... .......... .......... 55%  200M 0s\n",
            " 24650K .......... .......... .......... .......... .......... 55%  197M 0s\n",
            " 24700K .......... .......... .......... .......... .......... 55%  150M 0s\n",
            " 24750K .......... .......... .......... .......... .......... 55%  187M 0s\n",
            " 24800K .......... .......... .......... .......... .......... 55%  185M 0s\n",
            " 24850K .......... .......... .......... .......... .......... 56%  210M 0s\n",
            " 24900K .......... .......... .......... .......... .......... 56%  238M 0s\n",
            " 24950K .......... .......... .......... .......... .......... 56%  275M 0s\n",
            " 25000K .......... .......... .......... .......... .......... 56%  161M 0s\n",
            " 25050K .......... .......... .......... .......... .......... 56%  172M 0s\n",
            " 25100K .......... .......... .......... .......... .......... 56%  269M 0s\n",
            " 25150K .......... .......... .......... .......... .......... 56%  286M 0s\n",
            " 25200K .......... .......... .......... .......... .......... 56%  290M 0s\n",
            " 25250K .......... .......... .......... .......... .......... 56% 9.53M 0s\n",
            " 25300K .......... .......... .......... .......... .......... 57%  278M 0s\n",
            " 25350K .......... .......... .......... .......... .......... 57%  370M 0s\n",
            " 25400K .......... .......... .......... .......... .......... 57%  389M 0s\n",
            " 25450K .......... .......... .......... .......... .......... 57%  407M 0s\n",
            " 25500K .......... .......... .......... .......... .......... 57%  270M 0s\n",
            " 25550K .......... .......... .......... .......... .......... 57%  286M 0s\n",
            " 25600K .......... .......... .......... .......... .......... 57%  253M 0s\n",
            " 25650K .......... .......... .......... .......... .......... 57%  366M 0s\n",
            " 25700K .......... .......... .......... .......... .......... 57%  396M 0s\n",
            " 25750K .......... .......... .......... .......... .......... 58%  332M 0s\n",
            " 25800K .......... .......... .......... .......... .......... 58%  412M 0s\n",
            " 25850K .......... .......... .......... .......... .......... 58%  401M 0s\n",
            " 25900K .......... .......... .......... .......... .......... 58%  239M 0s\n",
            " 25950K .......... .......... .......... .......... .......... 58%  167M 0s\n",
            " 26000K .......... .......... .......... .......... .......... 58%  135M 0s\n",
            " 26050K .......... .......... .......... .......... .......... 58%  186M 0s\n",
            " 26100K .......... .......... .......... .......... .......... 58%  167M 0s\n",
            " 26150K .......... .......... .......... .......... .......... 58%  144M 0s\n",
            " 26200K .......... .......... .......... .......... .......... 59%  212M 0s\n",
            " 26250K .......... .......... .......... .......... .......... 59%  185M 0s\n",
            " 26300K .......... .......... .......... .......... .......... 59%  232M 0s\n",
            " 26350K .......... .......... .......... .......... .......... 59%  189M 0s\n",
            " 26400K .......... .......... .......... .......... .......... 59%  155M 0s\n",
            " 26450K .......... .......... .......... .......... .......... 59%  162M 0s\n",
            " 26500K .......... .......... .......... .......... .......... 59%  188M 0s\n",
            " 26550K .......... .......... .......... .......... .......... 59%  230M 0s\n",
            " 26600K .......... .......... .......... .......... .......... 59%  222M 0s\n",
            " 26650K .......... .......... .......... .......... .......... 60%  217M 0s\n",
            " 26700K .......... .......... .......... .......... .......... 60%  228M 0s\n",
            " 26750K .......... .......... .......... .......... .......... 60%  191M 0s\n",
            " 26800K .......... .......... .......... .......... .......... 60%  231M 0s\n",
            " 26850K .......... .......... .......... .......... .......... 60%  220M 0s\n",
            " 26900K .......... .......... .......... .......... .......... 60%  208M 0s\n",
            " 26950K .......... .......... .......... .......... .......... 60%  229M 0s\n",
            " 27000K .......... .......... .......... .......... .......... 60%  195M 0s\n",
            " 27050K .......... .......... .......... .......... .......... 60% 6.64M 0s\n",
            " 27100K .......... .......... .......... .......... .......... 61%  161M 0s\n",
            " 27150K .......... .......... .......... .......... .......... 61%  219M 0s\n",
            " 27200K .......... .......... .......... .......... .......... 61%  235M 0s\n",
            " 27250K .......... .......... .......... .......... .......... 61%  156M 0s\n",
            " 27300K .......... .......... .......... .......... .......... 61%  149M 0s\n",
            " 27350K .......... .......... .......... .......... .......... 61%  207M 0s\n",
            " 27400K .......... .......... .......... .......... .......... 61%  221M 0s\n",
            " 27450K .......... .......... .......... .......... .......... 61%  221M 0s\n",
            " 27500K .......... .......... .......... .......... .......... 61%  169M 0s\n",
            " 27550K .......... .......... .......... .......... .......... 62%  143M 0s\n",
            " 27600K .......... .......... .......... .......... .......... 62%  213M 0s\n",
            " 27650K .......... .......... .......... .......... .......... 62%  215M 0s\n",
            " 27700K .......... .......... .......... .......... .......... 62%  230M 0s\n",
            " 27750K .......... .......... .......... .......... .......... 62%  213M 0s\n",
            " 27800K .......... .......... .......... .......... .......... 62%  150M 0s\n",
            " 27850K .......... .......... .......... .......... .......... 62%  177M 0s\n",
            " 27900K .......... .......... .......... .......... .......... 62%  226M 0s\n",
            " 27950K .......... .......... .......... .......... .......... 63%  200M 0s\n",
            " 28000K .......... .......... .......... .......... .......... 63%  225M 0s\n",
            " 28050K .......... .......... .......... .......... .......... 63%  214M 0s\n",
            " 28100K .......... .......... .......... .......... .......... 63% 25.5M 0s\n",
            " 28150K .......... .......... .......... .......... .......... 63%  169M 0s\n",
            " 28200K .......... .......... .......... .......... .......... 63%  153M 0s\n",
            " 28250K .......... .......... .......... .......... .......... 63%  129M 0s\n",
            " 28300K .......... .......... .......... .......... .......... 63% 88.8M 0s\n",
            " 28350K .......... .......... .......... .......... .......... 63%  138M 0s\n",
            " 28400K .......... .......... .......... .......... .......... 64%  183M 0s\n",
            " 28450K .......... .......... .......... .......... .......... 64%  221M 0s\n",
            " 28500K .......... .......... .......... .......... .......... 64% 73.3M 0s\n",
            " 28550K .......... .......... .......... .......... .......... 64%  180M 0s\n",
            " 28600K .......... .......... .......... .......... .......... 64%  155M 0s\n",
            " 28650K .......... .......... .......... .......... .......... 64%  147M 0s\n",
            " 28700K .......... .......... .......... .......... .......... 64%  174M 0s\n",
            " 28750K .......... .......... .......... .......... .......... 64%  202M 0s\n",
            " 28800K .......... .......... .......... .......... .......... 64%  241M 0s\n",
            " 28850K .......... .......... .......... .......... .......... 65%  143M 0s\n",
            " 28900K .......... .......... .......... .......... .......... 65%  136M 0s\n",
            " 28950K .......... .......... .......... .......... .......... 65%  158M 0s\n",
            " 29000K .......... .......... .......... .......... .......... 65%  131M 0s\n",
            " 29050K .......... .......... .......... .......... .......... 65%  168M 0s\n",
            " 29100K .......... .......... .......... .......... .......... 65%  192M 0s\n",
            " 29150K .......... .......... .......... .......... .......... 65%  205M 0s\n",
            " 29200K .......... .......... .......... .......... .......... 65%  220M 0s\n",
            " 29250K .......... .......... .......... .......... .......... 65%  170M 0s\n",
            " 29300K .......... .......... .......... .......... .......... 66%  173M 0s\n",
            " 29350K .......... .......... .......... .......... .......... 66%  163M 0s\n",
            " 29400K .......... .......... .......... .......... .......... 66%  225M 0s\n",
            " 29450K .......... .......... .......... .......... .......... 66%  204M 0s\n",
            " 29500K .......... .......... .......... .......... .......... 66%  224M 0s\n",
            " 29550K .......... .......... .......... .......... .......... 66%  242M 0s\n",
            " 29600K .......... .......... .......... .......... .......... 66%  219M 0s\n",
            " 29650K .......... .......... .......... .......... .......... 66%  190M 0s\n",
            " 29700K .......... .......... .......... .......... .......... 66% 5.72M 0s\n",
            " 29750K .......... .......... .......... .......... .......... 67% 93.5M 0s\n",
            " 29800K .......... .......... .......... .......... .......... 67%  170M 0s\n",
            " 29850K .......... .......... .......... .......... .......... 67%  173M 0s\n",
            " 29900K .......... .......... .......... .......... .......... 67%  120M 0s\n",
            " 29950K .......... .......... .......... .......... .......... 67%  225M 0s\n",
            " 30000K .......... .......... .......... .......... .......... 67%  222M 0s\n",
            " 30050K .......... .......... .......... .......... .......... 67%  219M 0s\n",
            " 30100K .......... .......... .......... .......... .......... 67%  134M 0s\n",
            " 30150K .......... .......... .......... .......... .......... 67%  142M 0s\n",
            " 30200K .......... .......... .......... .......... .......... 68%  231M 0s\n",
            " 30250K .......... .......... .......... .......... .......... 68%  218M 0s\n",
            " 30300K .......... .......... .......... .......... .......... 68%  218M 0s\n",
            " 30350K .......... .......... .......... .......... .......... 68%  132M 0s\n",
            " 30400K .......... .......... .......... .......... .......... 68%  211M 0s\n",
            " 30450K .......... .......... .......... .......... .......... 68%  216M 0s\n",
            " 30500K .......... .......... .......... .......... .......... 68%  216M 0s\n",
            " 30550K .......... .......... .......... .......... .......... 68%  204M 0s\n",
            " 30600K .......... .......... .......... .......... .......... 68%  231M 0s\n",
            " 30650K .......... .......... .......... .......... .......... 69%  214M 0s\n",
            " 30700K .......... .......... .......... .......... .......... 69%  223M 0s\n",
            " 30750K .......... .......... .......... .......... .......... 69%  186M 0s\n",
            " 30800K .......... .......... .......... .......... .......... 69%  222M 0s\n",
            " 30850K .......... .......... .......... .......... .......... 69%  213M 0s\n",
            " 30900K .......... .......... .......... .......... .......... 69%  216M 0s\n",
            " 30950K .......... .......... .......... .......... .......... 69% 81.0M 0s\n",
            " 31000K .......... .......... .......... .......... .......... 69%  167M 0s\n",
            " 31050K .......... .......... .......... .......... .......... 69%  191M 0s\n",
            " 31100K .......... .......... .......... .......... .......... 70%  234M 0s\n",
            " 31150K .......... .......... .......... .......... .......... 70%  194M 0s\n",
            " 31200K .......... .......... .......... .......... .......... 70%  187M 0s\n",
            " 31250K .......... .......... .......... .......... .......... 70% 86.5M 0s\n",
            " 31300K .......... .......... .......... .......... .......... 70%  218M 0s\n",
            " 31350K .......... .......... .......... .......... .......... 70%  191M 0s\n",
            " 31400K .......... .......... .......... .......... .......... 70%  126M 0s\n",
            " 31450K .......... .......... .......... .......... .......... 70%  172M 0s\n",
            " 31500K .......... .......... .......... .......... .......... 70%  155M 0s\n",
            " 31550K .......... .......... .......... .......... .......... 71%  188M 0s\n",
            " 31600K .......... .......... .......... .......... .......... 71%  195M 0s\n",
            " 31650K .......... .......... .......... .......... .......... 71%  207M 0s\n",
            " 31700K .......... .......... .......... .......... .......... 71%  206M 0s\n",
            " 31750K .......... .......... .......... .......... .......... 71% 50.1M 0s\n",
            " 31800K .......... .......... .......... .......... .......... 71%  150M 0s\n",
            " 31850K .......... .......... .......... .......... .......... 71%  226M 0s\n",
            " 31900K .......... .......... .......... .......... .......... 71%  128M 0s\n",
            " 31950K .......... .......... .......... .......... .......... 72%  185M 0s\n",
            " 32000K .......... .......... .......... .......... .......... 72%  188M 0s\n",
            " 32050K .......... .......... .......... .......... .......... 72%  209M 0s\n",
            " 32100K .......... .......... .......... .......... .......... 72%  198M 0s\n",
            " 32150K .......... .......... .......... .......... .......... 72%  151M 0s\n",
            " 32200K .......... .......... .......... .......... .......... 72%  168M 0s\n",
            " 32250K .......... .......... .......... .......... .......... 72%  190M 0s\n",
            " 32300K .......... .......... .......... .......... .......... 72%  222M 0s\n",
            " 32350K .......... .......... .......... .......... .......... 72%  228M 0s\n",
            " 32400K .......... .......... .......... .......... .......... 73%  227M 0s\n",
            " 32450K .......... .......... .......... .......... .......... 73%  207M 0s\n",
            " 32500K .......... .......... .......... .......... .......... 73% 5.46M 0s\n",
            " 32550K .......... .......... .......... .......... .......... 73%  130M 0s\n",
            " 32600K .......... .......... .......... .......... .......... 73%  112M 0s\n",
            " 32650K .......... .......... .......... .......... .......... 73%  139M 0s\n",
            " 32700K .......... .......... .......... .......... .......... 73%  145M 0s\n",
            " 32750K .......... .......... .......... .......... .......... 73%  207M 0s\n",
            " 32800K .......... .......... .......... .......... .......... 73%  185M 0s\n",
            " 32850K .......... .......... .......... .......... .......... 74%  190M 0s\n",
            " 32900K .......... .......... .......... .......... .......... 74%  214M 0s\n",
            " 32950K .......... .......... .......... .......... .......... 74%  232M 0s\n",
            " 33000K .......... .......... .......... .......... .......... 74%  175M 0s\n",
            " 33050K .......... .......... .......... .......... .......... 74%  182M 0s\n",
            " 33100K .......... .......... .......... .......... .......... 74%  118M 0s\n",
            " 33150K .......... .......... .......... .......... .......... 74%  153M 0s\n",
            " 33200K .......... .......... .......... .......... .......... 74%  224M 0s\n",
            " 33250K .......... .......... .......... .......... .......... 74%  189M 0s\n",
            " 33300K .......... .......... .......... .......... .......... 75%  203M 0s\n",
            " 33350K .......... .......... .......... .......... .......... 75%  231M 0s\n",
            " 33400K .......... .......... .......... .......... .......... 75%  222M 0s\n",
            " 33450K .......... .......... .......... .......... .......... 75%  211M 0s\n",
            " 33500K .......... .......... .......... .......... .......... 75%  200M 0s\n",
            " 33550K .......... .......... .......... .......... .......... 75%  208M 0s\n",
            " 33600K .......... .......... .......... .......... .......... 75%  226M 0s\n",
            " 33650K .......... .......... .......... .......... .......... 75% 39.3M 0s\n",
            " 33700K .......... .......... .......... .......... .......... 75%  170M 0s\n",
            " 33750K .......... .......... .......... .......... .......... 76%  128M 0s\n",
            " 33800K .......... .......... .......... .......... .......... 76%  234M 0s\n",
            " 33850K .......... .......... .......... .......... .......... 76%  151M 0s\n",
            " 33900K .......... .......... .......... .......... .......... 76%  152M 0s\n",
            " 33950K .......... .......... .......... .......... .......... 76%  204M 0s\n",
            " 34000K .......... .......... .......... .......... .......... 76%  222M 0s\n",
            " 34050K .......... .......... .......... .......... .......... 76%  229M 0s\n",
            " 34100K .......... .......... .......... .......... .......... 76%  172M 0s\n",
            " 34150K .......... .......... .......... .......... .......... 76%  165M 0s\n",
            " 34200K .......... .......... .......... .......... .......... 77%  225M 0s\n",
            " 34250K .......... .......... .......... .......... .......... 77%  181M 0s\n",
            " 34300K .......... .......... .......... .......... .......... 77%  222M 0s\n",
            " 34350K .......... .......... .......... .......... .......... 77%  206M 0s\n",
            " 34400K .......... .......... .......... .......... .......... 77%  209M 0s\n",
            " 34450K .......... .......... .......... .......... .......... 77%  224M 0s\n",
            " 34500K .......... .......... .......... .......... .......... 77%  226M 0s\n",
            " 34550K .......... .......... .......... .......... .......... 77%  129M 0s\n",
            " 34600K .......... .......... .......... .......... .......... 77%  179M 0s\n",
            " 34650K .......... .......... .......... .......... .......... 78%  194M 0s\n",
            " 34700K .......... .......... .......... .......... .......... 78%  146M 0s\n",
            " 34750K .......... .......... .......... .......... .......... 78%  182M 0s\n",
            " 34800K .......... .......... .......... .......... .......... 78%  220M 0s\n",
            " 34850K .......... .......... .......... .......... .......... 78%  231M 0s\n",
            " 34900K .......... .......... .......... .......... .......... 78%  215M 0s\n",
            " 34950K .......... .......... .......... .......... .......... 78%  142M 0s\n",
            " 35000K .......... .......... .......... .......... .......... 78%  185M 0s\n",
            " 35050K .......... .......... .......... .......... .......... 78%  189M 0s\n",
            " 35100K .......... .......... .......... .......... .......... 79%  231M 0s\n",
            " 35150K .......... .......... .......... .......... .......... 79%  205M 0s\n",
            " 35200K .......... .......... .......... .......... .......... 79%  216M 0s\n",
            " 35250K .......... .......... .......... .......... .......... 79%  227M 0s\n",
            " 35300K .......... .......... .......... .......... .......... 79% 5.23M 0s\n",
            " 35350K .......... .......... .......... .......... .......... 79%  114M 0s\n",
            " 35400K .......... .......... .......... .......... .......... 79%  169M 0s\n",
            " 35450K .......... .......... .......... .......... .......... 79%  212M 0s\n",
            " 35500K .......... .......... .......... .......... .......... 79%  236M 0s\n",
            " 35550K .......... .......... .......... .......... .......... 80%  204M 0s\n",
            " 35600K .......... .......... .......... .......... .......... 80%  128M 0s\n",
            " 35650K .......... .......... .......... .......... .......... 80%  189M 0s\n",
            " 35700K .......... .......... .......... .......... .......... 80%  226M 0s\n",
            " 35750K .......... .......... .......... .......... .......... 80%  222M 0s\n",
            " 35800K .......... .......... .......... .......... .......... 80%  224M 0s\n",
            " 35850K .......... .......... .......... .......... .......... 80%  178M 0s\n",
            " 35900K .......... .......... .......... .......... .......... 80%  197M 0s\n",
            " 35950K .......... .......... .......... .......... .......... 81%  137M 0s\n",
            " 36000K .......... .......... .......... .......... .......... 81%  226M 0s\n",
            " 36050K .......... .......... .......... .......... .......... 81%  206M 0s\n",
            " 36100K .......... .......... .......... .......... .......... 81%  238M 0s\n",
            " 36150K .......... .......... .......... .......... .......... 81%  219M 0s\n",
            " 36200K .......... .......... .......... .......... .......... 81%  220M 0s\n",
            " 36250K .......... .......... .......... .......... .......... 81%  211M 0s\n",
            " 36300K .......... .......... .......... .......... .......... 81% 21.9M 0s\n",
            " 36350K .......... .......... .......... .......... .......... 81%  141M 0s\n",
            " 36400K .......... .......... .......... .......... .......... 82%  124M 0s\n",
            " 36450K .......... .......... .......... .......... .......... 82%  212M 0s\n",
            " 36500K .......... .......... .......... .......... .......... 82%  162M 0s\n",
            " 36550K .......... .......... .......... .......... .......... 82%  191M 0s\n",
            " 36600K .......... .......... .......... .......... .......... 82%  194M 0s\n",
            " 36650K .......... .......... .......... .......... .......... 82%  278M 0s\n",
            " 36700K .......... .......... .......... .......... .......... 82%  280M 0s\n",
            " 36750K .......... .......... .......... .......... .......... 82%  190M 0s\n",
            " 36800K .......... .......... .......... .......... .......... 82%  174M 0s\n",
            " 36850K .......... .......... .......... .......... .......... 83%  103M 0s\n",
            " 36900K .......... .......... .......... .......... .......... 83%  178M 0s\n",
            " 36950K .......... .......... .......... .......... .......... 83%  190M 0s\n",
            " 37000K .......... .......... .......... .......... .......... 83%  212M 0s\n",
            " 37050K .......... .......... .......... .......... .......... 83%  208M 0s\n",
            " 37100K .......... .......... .......... .......... .......... 83%  149M 0s\n",
            " 37150K .......... .......... .......... .......... .......... 83%  158M 0s\n",
            " 37200K .......... .......... .......... .......... .......... 83%  181M 0s\n",
            " 37250K .......... .......... .......... .......... .......... 83%  165M 0s\n",
            " 37300K .......... .......... .......... .......... .......... 84%  181M 0s\n",
            " 37350K .......... .......... .......... .......... .......... 84%  154M 0s\n",
            " 37400K .......... .......... .......... .......... .......... 84%  229M 0s\n",
            " 37450K .......... .......... .......... .......... .......... 84%  209M 0s\n",
            " 37500K .......... .......... .......... .......... .......... 84%  182M 0s\n",
            " 37550K .......... .......... .......... .......... .......... 84%  235M 0s\n",
            " 37600K .......... .......... .......... .......... .......... 84%  184M 0s\n",
            " 37650K .......... .......... .......... .......... .......... 84%  166M 0s\n",
            " 37700K .......... .......... .......... .......... .......... 84%  120M 0s\n",
            " 37750K .......... .......... .......... .......... .......... 85%  221M 0s\n",
            " 37800K .......... .......... .......... .......... .......... 85%  194M 0s\n",
            " 37850K .......... .......... .......... .......... .......... 85%  182M 0s\n",
            " 37900K .......... .......... .......... .......... .......... 85%  228M 0s\n",
            " 37950K .......... .......... .......... .......... .......... 85%  220M 0s\n",
            " 38000K .......... .......... .......... .......... .......... 85%  189M 0s\n",
            " 38050K .......... .......... .......... .......... .......... 85%  236M 0s\n",
            " 38100K .......... .......... .......... .......... .......... 85%  204M 0s\n",
            " 38150K .......... .......... .......... .......... .......... 85% 5.97M 0s\n",
            " 38200K .......... .......... .......... .......... .......... 86%  152M 0s\n",
            " 38250K .......... .......... .......... .......... .......... 86%  165M 0s\n",
            " 38300K .......... .......... .......... .......... .......... 86%  231M 0s\n",
            " 38350K .......... .......... .......... .......... .......... 86%  210M 0s\n",
            " 38400K .......... .......... .......... .......... .......... 86%  222M 0s\n",
            " 38450K .......... .......... .......... .......... .......... 86%  124M 0s\n",
            " 38500K .......... .......... .......... .......... .......... 86%  127M 0s\n",
            " 38550K .......... .......... .......... .......... .......... 86%  217M 0s\n",
            " 38600K .......... .......... .......... .......... .......... 86%  185M 0s\n",
            " 38650K .......... .......... .......... .......... .......... 87%  137M 0s\n",
            " 38700K .......... .......... .......... .......... .......... 87%  136M 0s\n",
            " 38750K .......... .......... .......... .......... .......... 87%  174M 0s\n",
            " 38800K .......... .......... .......... .......... .......... 87%  192M 0s\n",
            " 38850K .......... .......... .......... .......... .......... 87%  201M 0s\n",
            " 38900K .......... .......... .......... .......... .......... 87%  226M 0s\n",
            " 38950K .......... .......... .......... .......... .......... 87%  188M 0s\n",
            " 39000K .......... .......... .......... .......... .......... 87%  219M 0s\n",
            " 39050K .......... .......... .......... .......... .......... 87%  225M 0s\n",
            " 39100K .......... .......... .......... .......... .......... 88% 25.9M 0s\n",
            " 39150K .......... .......... .......... .......... .......... 88%  164M 0s\n",
            " 39200K .......... .......... .......... .......... .......... 88%  132M 0s\n",
            " 39250K .......... .......... .......... .......... .......... 88%  159M 0s\n",
            " 39300K .......... .......... .......... .......... .......... 88%  236M 0s\n",
            " 39350K .......... .......... .......... .......... .......... 88%  233M 0s\n",
            " 39400K .......... .......... .......... .......... .......... 88%  153M 0s\n",
            " 39450K .......... .......... .......... .......... .......... 88%  216M 0s\n",
            " 39500K .......... .......... .......... .......... .......... 88%  227M 0s\n",
            " 39550K .......... .......... .......... .......... .......... 89%  205M 0s\n",
            " 39600K .......... .......... .......... .......... .......... 89%  147M 0s\n",
            " 39650K .......... .......... .......... .......... .......... 89%  222M 0s\n",
            " 39700K .......... .......... .......... .......... .......... 89%  194M 0s\n",
            " 39750K .......... .......... .......... .......... .......... 89%  216M 0s\n",
            " 39800K .......... .......... .......... .......... .......... 89%  188M 0s\n",
            " 39850K .......... .......... .......... .......... .......... 89%  223M 0s\n",
            " 39900K .......... .......... .......... .......... .......... 89%  225M 0s\n",
            " 39950K .......... .......... .......... .......... .......... 90%  165M 0s\n",
            " 40000K .......... .......... .......... .......... .......... 90%  154M 0s\n",
            " 40050K .......... .......... .......... .......... .......... 90%  162M 0s\n",
            " 40100K .......... .......... .......... .......... .......... 90%  151M 0s\n",
            " 40150K .......... .......... .......... .......... .......... 90%  220M 0s\n",
            " 40200K .......... .......... .......... .......... .......... 90%  180M 0s\n",
            " 40250K .......... .......... .......... .......... .......... 90%  221M 0s\n",
            " 40300K .......... .......... .......... .......... .......... 90%  236M 0s\n",
            " 40350K .......... .......... .......... .......... .......... 90%  191M 0s\n",
            " 40400K .......... .......... .......... .......... .......... 91%  221M 0s\n",
            " 40450K .......... .......... .......... .......... .......... 91%  227M 0s\n",
            " 40500K .......... .......... .......... .......... .......... 91%  180M 0s\n",
            " 40550K .......... .......... .......... .......... .......... 91%  143M 0s\n",
            " 40600K .......... .......... .......... .......... .......... 91%  227M 0s\n",
            " 40650K .......... .......... .......... .......... .......... 91%  227M 0s\n",
            " 40700K .......... .......... .......... .......... .......... 91%  231M 0s\n",
            " 40750K .......... .......... .......... .......... .......... 91%  194M 0s\n",
            " 40800K .......... .......... .......... .......... .......... 91% 5.15M 0s\n",
            " 40850K .......... .......... .......... .......... .......... 92%  136M 0s\n",
            " 40900K .......... .......... .......... .......... .......... 92%  156M 0s\n",
            " 40950K .......... .......... .......... .......... .......... 92%  169M 0s\n",
            " 41000K .......... .......... .......... .......... .......... 92%  223M 0s\n",
            " 41050K .......... .......... .......... .......... .......... 92%  159M 0s\n",
            " 41100K .......... .......... .......... .......... .......... 92%  153M 0s\n",
            " 41150K .......... .......... .......... .......... .......... 92%  216M 0s\n",
            " 41200K .......... .......... .......... .......... .......... 92%  228M 0s\n",
            " 41250K .......... .......... .......... .......... .......... 92%  206M 0s\n",
            " 41300K .......... .......... .......... .......... .......... 93%  157M 0s\n",
            " 41350K .......... .......... .......... .......... .......... 93%  182M 0s\n",
            " 41400K .......... .......... .......... .......... .......... 93%  197M 0s\n",
            " 41450K .......... .......... .......... .......... .......... 93%  186M 0s\n",
            " 41500K .......... .......... .......... .......... .......... 93%  272M 0s\n",
            " 41550K .......... .......... .......... .......... .......... 93%  258M 0s\n",
            " 41600K .......... .......... .......... .......... .......... 93%  282M 0s\n",
            " 41650K .......... .......... .......... .......... .......... 93%  242M 0s\n",
            " 41700K .......... .......... .......... .......... .......... 93%  227M 0s\n",
            " 41750K .......... .......... .......... .......... .......... 94%  231M 0s\n",
            " 41800K .......... .......... .......... .......... .......... 94%  257M 0s\n",
            " 41850K .......... .......... .......... .......... .......... 94% 27.5M 0s\n",
            " 41900K .......... .......... .......... .......... .......... 94% 76.3M 0s\n",
            " 41950K .......... .......... .......... .......... .......... 94%  141M 0s\n",
            " 42000K .......... .......... .......... .......... .......... 94%  144M 0s\n",
            " 42050K .......... .......... .......... .......... .......... 94% 96.1M 0s\n",
            " 42100K .......... .......... .......... .......... .......... 94%  167M 0s\n",
            " 42150K .......... .......... .......... .......... .......... 94%  164M 0s\n",
            " 42200K .......... .......... .......... .......... .......... 95%  125M 0s\n",
            " 42250K .......... .......... .......... .......... .......... 95% 81.8M 0s\n",
            " 42300K .......... .......... .......... .......... .......... 95% 82.1M 0s\n",
            " 42350K .......... .......... .......... .......... .......... 95% 60.6M 0s\n",
            " 42400K .......... .......... .......... .......... .......... 95% 54.9M 0s\n",
            " 42450K .......... .......... .......... .......... .......... 95% 65.1M 0s\n",
            " 42500K .......... .......... .......... .......... .......... 95% 78.0M 0s\n",
            " 42550K .......... .......... .......... .......... .......... 95% 59.4M 0s\n",
            " 42600K .......... .......... .......... .......... .......... 95% 78.0M 0s\n",
            " 42650K .......... .......... .......... .......... .......... 96% 67.1M 0s\n",
            " 42700K .......... .......... .......... .......... .......... 96% 94.1M 0s\n",
            " 42750K .......... .......... .......... .......... .......... 96% 96.7M 0s\n",
            " 42800K .......... .......... .......... .......... .......... 96%  113M 0s\n",
            " 42850K .......... .......... .......... .......... .......... 96%  104M 0s\n",
            " 42900K .......... .......... .......... .......... .......... 96%  123M 0s\n",
            " 42950K .......... .......... .......... .......... .......... 96%  120M 0s\n",
            " 43000K .......... .......... .......... .......... .......... 96%  118M 0s\n",
            " 43050K .......... .......... .......... .......... .......... 96%  104M 0s\n",
            " 43100K .......... .......... .......... .......... .......... 97%  105M 0s\n",
            " 43150K .......... .......... .......... .......... .......... 97% 99.0M 0s\n",
            " 43200K .......... .......... .......... .......... .......... 97% 97.9M 0s\n",
            " 43250K .......... .......... .......... .......... .......... 97% 82.6M 0s\n",
            " 43300K .......... .......... .......... .......... .......... 97%  103M 0s\n",
            " 43350K .......... .......... .......... .......... .......... 97% 98.3M 0s\n",
            " 43400K .......... .......... .......... .......... .......... 97% 97.5M 0s\n",
            " 43450K .......... .......... .......... .......... .......... 97% 85.6M 0s\n",
            " 43500K .......... .......... .......... .......... .......... 97%  113M 0s\n",
            " 43550K .......... .......... .......... .......... .......... 98%  108M 0s\n",
            " 43600K .......... .......... .......... .......... .......... 98% 81.6M 0s\n",
            " 43650K .......... .......... .......... .......... .......... 98% 78.2M 0s\n",
            " 43700K .......... .......... .......... .......... .......... 98% 89.6M 0s\n",
            " 43750K .......... .......... .......... .......... .......... 98% 91.9M 0s\n",
            " 43800K .......... .......... .......... .......... .......... 98%  107M 0s\n",
            " 43850K .......... .......... .......... .......... .......... 98% 67.7M 0s\n",
            " 43900K .......... .......... .......... .......... .......... 98%  100M 0s\n",
            " 43950K .......... .......... .......... .......... .......... 99%  100M 0s\n",
            " 44000K .......... .......... .......... .......... .......... 99% 98.0M 0s\n",
            " 44050K .......... .......... .......... .......... .......... 99% 88.4M 0s\n",
            " 44100K .......... .......... .......... .......... .......... 99%  105M 0s\n",
            " 44150K .......... .......... .......... .......... .......... 99% 98.8M 0s\n",
            " 44200K .......... .......... .......... .......... .......... 99%  103M 0s\n",
            " 44250K .......... .......... .......... .......... .......... 99% 86.8M 0s\n",
            " 44300K .......... .......... .......... .......... .......... 99%  124M 0s\n",
            " 44350K .......... .......... .......... .......... .......... 99%  109M 0s\n",
            " 44400K .......... .......... .......... .......... ...       100%  116M=0.5s\n",
            "\n",
            "2022-10-07 22:01:51 (81.8 MB/s) - ‘/root/isi-kgtk-tutorial/tutorial-kypher_input/all.tsv.gz’ saved [45510513/45510513]\n",
            "\n",
            "--2022-10-07 22:01:51--  https://github.com/usc-isi-i2/kgtk-tutorial-files/raw/main/datasets/arnold/labels.en.tsv.gz\n",
            "Resolving github.com (github.com)... 20.27.177.113\n",
            "Connecting to github.com (github.com)|20.27.177.113|:443... connected.\n",
            "HTTP request sent, awaiting response... 301 Moved Permanently\n",
            "Location: https://github.com/usc-isi-i2/kgtk-notebooks/raw/main/datasets/arnold/labels.en.tsv.gz [following]\n",
            "--2022-10-07 22:01:51--  https://github.com/usc-isi-i2/kgtk-notebooks/raw/main/datasets/arnold/labels.en.tsv.gz\n",
            "Reusing existing connection to github.com:443.\n",
            "HTTP request sent, awaiting response... 302 Found\n",
            "Location: https://raw.githubusercontent.com/usc-isi-i2/kgtk-notebooks/main/datasets/arnold/labels.en.tsv.gz [following]\n",
            "--2022-10-07 22:01:52--  https://raw.githubusercontent.com/usc-isi-i2/kgtk-notebooks/main/datasets/arnold/labels.en.tsv.gz\n",
            "Resolving raw.githubusercontent.com (raw.githubusercontent.com)... 185.199.109.133, 185.199.110.133, 185.199.111.133, ...\n",
            "Connecting to raw.githubusercontent.com (raw.githubusercontent.com)|185.199.109.133|:443... connected.\n",
            "HTTP request sent, awaiting response... 200 OK\n",
            "Length: 1070169 (1.0M) [application/octet-stream]\n",
            "Saving to: ‘/root/isi-kgtk-tutorial/tutorial-kypher_input/labels.en.tsv.gz’\n",
            "\n",
            "     0K .......... .......... .......... .......... ..........  4% 1.71M 1s\n",
            "    50K .......... .......... .......... .......... ..........  9% 2.31M 0s\n",
            "   100K .......... .......... .......... .......... .......... 14% 8.64M 0s\n",
            "   150K .......... .......... .......... .......... .......... 19% 6.89M 0s\n",
            "   200K .......... .......... .......... .......... .......... 23% 4.48M 0s\n",
            "   250K .......... .......... .......... .......... .......... 28% 15.9M 0s\n",
            "   300K .......... .......... .......... .......... .......... 33% 16.3M 0s\n",
            "   350K .......... .......... .......... .......... .......... 38% 18.1M 0s\n",
            "   400K .......... .......... .......... .......... .......... 43% 15.2M 0s\n",
            "   450K .......... .......... .......... .......... .......... 47% 23.0M 0s\n",
            "   500K .......... .......... .......... .......... .......... 52% 4.35M 0s\n",
            "   550K .......... .......... .......... .......... .......... 57% 21.4M 0s\n",
            "   600K .......... .......... .......... .......... .......... 62% 53.7M 0s\n",
            "   650K .......... .......... .......... .......... .......... 66% 23.4M 0s\n",
            "   700K .......... .......... .......... .......... .......... 71% 53.0M 0s\n",
            "   750K .......... .......... .......... .......... .......... 76% 20.0M 0s\n",
            "   800K .......... .......... .......... .......... .......... 81%  169M 0s\n",
            "   850K .......... .......... .......... .......... .......... 86% 27.2M 0s\n",
            "   900K .......... .......... .......... .......... .......... 90% 33.5M 0s\n",
            "   950K .......... .......... .......... .......... .......... 95% 86.2M 0s\n",
            "  1000K .......... .......... .......... .......... .....     100% 65.7M=0.1s\n",
            "\n",
            "2022-10-07 22:01:52 (9.10 MB/s) - ‘/root/isi-kgtk-tutorial/tutorial-kypher_input/labels.en.tsv.gz’ saved [1070169/1070169]\n",
            "\n",
            "--2022-10-07 22:01:52--  https://github.com/usc-isi-i2/kgtk-tutorial-files/raw/main/datasets/arnold/metadata.pagerank.undirected.tsv.gz\n",
            "Resolving github.com (github.com)... 192.30.255.112\n",
            "Connecting to github.com (github.com)|192.30.255.112|:443... connected.\n",
            "HTTP request sent, awaiting response... 301 Moved Permanently\n",
            "Location: https://github.com/usc-isi-i2/kgtk-notebooks/raw/main/datasets/arnold/metadata.pagerank.undirected.tsv.gz [following]\n",
            "--2022-10-07 22:01:53--  https://github.com/usc-isi-i2/kgtk-notebooks/raw/main/datasets/arnold/metadata.pagerank.undirected.tsv.gz\n",
            "Reusing existing connection to github.com:443.\n",
            "HTTP request sent, awaiting response... 302 Found\n",
            "Location: https://raw.githubusercontent.com/usc-isi-i2/kgtk-notebooks/main/datasets/arnold/metadata.pagerank.undirected.tsv.gz [following]\n",
            "--2022-10-07 22:01:54--  https://raw.githubusercontent.com/usc-isi-i2/kgtk-notebooks/main/datasets/arnold/metadata.pagerank.undirected.tsv.gz\n",
            "Resolving raw.githubusercontent.com (raw.githubusercontent.com)... 185.199.108.133, 185.199.109.133, 185.199.110.133, ...\n",
            "Connecting to raw.githubusercontent.com (raw.githubusercontent.com)|185.199.108.133|:443... connected.\n",
            "HTTP request sent, awaiting response... 200 OK\n",
            "Length: 2208946 (2.1M) [application/octet-stream]\n",
            "Saving to: ‘/root/isi-kgtk-tutorial/tutorial-kypher_input/metadata.pagerank.undirected.tsv.gz’\n",
            "\n",
            "     0K .......... .......... .......... .......... ..........  2% 1.68M 1s\n",
            "    50K .......... .......... .......... .......... ..........  4% 2.46M 1s\n",
            "   100K .......... .......... .......... .......... ..........  6% 8.09M 1s\n",
            "   150K .......... .......... .......... .......... ..........  9% 8.67M 1s\n",
            "   200K .......... .......... .......... .......... .......... 11% 3.46M 1s\n",
            "   250K .......... .......... .......... .......... .......... 13% 25.9M 0s\n",
            "   300K .......... .......... .......... .......... .......... 16% 13.1M 0s\n",
            "   350K .......... .......... .......... .......... .......... 18% 18.3M 0s\n",
            "   400K .......... .......... .......... .......... .......... 20% 16.5M 0s\n",
            "   450K .......... .......... .......... .......... .......... 23% 22.8M 0s\n",
            "   500K .......... .......... .......... .......... .......... 25% 4.22M 0s\n",
            "   550K .......... .......... .......... .......... .......... 27% 32.4M 0s\n",
            "   600K .......... .......... .......... .......... .......... 30% 21.9M 0s\n",
            "   650K .......... .......... .......... .......... .......... 32% 26.7M 0s\n",
            "   700K .......... .......... .......... .......... .......... 34% 38.4M 0s\n",
            "   750K .......... .......... .......... .......... .......... 37% 47.1M 0s\n",
            "   800K .......... .......... .......... .......... .......... 39% 27.7M 0s\n",
            "   850K .......... .......... .......... .......... .......... 41% 32.7M 0s\n",
            "   900K .......... .......... .......... .......... .......... 44% 48.7M 0s\n",
            "   950K .......... .......... .......... .......... .......... 46% 63.0M 0s\n",
            "  1000K .......... .......... .......... .......... .......... 48% 34.0M 0s\n",
            "  1050K .......... .......... .......... .......... .......... 50% 4.70M 0s\n",
            "  1100K .......... .......... .......... .......... .......... 53% 76.8M 0s\n",
            "  1150K .......... .......... .......... .......... .......... 55% 54.7M 0s\n",
            "  1200K .......... .......... .......... .......... .......... 57% 53.7M 0s\n",
            "  1250K .......... .......... .......... .......... .......... 60% 62.4M 0s\n",
            "  1300K .......... .......... .......... .......... .......... 62% 34.1M 0s\n",
            "  1350K .......... .......... .......... .......... .......... 64% 61.7M 0s\n",
            "  1400K .......... .......... .......... .......... .......... 67%  195M 0s\n",
            "  1450K .......... .......... .......... .......... .......... 69% 75.4M 0s\n",
            "  1500K .......... .......... .......... .......... .......... 71% 42.6M 0s\n",
            "  1550K .......... .......... .......... .......... .......... 74% 82.8M 0s\n",
            "  1600K .......... .......... .......... .......... .......... 76%  206M 0s\n",
            "  1650K .......... .......... .......... .......... .......... 78% 41.1M 0s\n",
            "  1700K .......... .......... .......... .......... .......... 81%  105M 0s\n",
            "  1750K .......... .......... .......... .......... .......... 83% 35.2M 0s\n",
            "  1800K .......... .......... .......... .......... .......... 85%  143M 0s\n",
            "  1850K .......... .......... .......... .......... .......... 88%  210M 0s\n",
            "  1900K .......... .......... .......... .......... .......... 90% 65.9M 0s\n",
            "  1950K .......... .......... .......... .......... .......... 92%  137M 0s\n",
            "  2000K .......... .......... .......... .......... .......... 95% 50.0M 0s\n",
            "  2050K .......... .......... .......... .......... .......... 97%  156M 0s\n",
            "  2100K .......... .......... .......... .......... .......... 99%  164M 0s\n",
            "  2150K .......                                               100%  147M=0.1s\n",
            "\n",
            "2022-10-07 22:01:54 (15.1 MB/s) - ‘/root/isi-kgtk-tutorial/tutorial-kypher_input/metadata.pagerank.undirected.tsv.gz’ saved [2208946/2208946]\n",
            "\n",
            "--2022-10-07 22:01:54--  https://github.com/usc-isi-i2/kgtk-tutorial-files/raw/main/datasets/arnold/small-graph.tsv\n",
            "Resolving github.com (github.com)... 192.30.255.112\n",
            "Connecting to github.com (github.com)|192.30.255.112|:443... connected.\n",
            "HTTP request sent, awaiting response... 301 Moved Permanently\n",
            "Location: https://github.com/usc-isi-i2/kgtk-notebooks/raw/main/datasets/arnold/small-graph.tsv [following]\n",
            "--2022-10-07 22:01:55--  https://github.com/usc-isi-i2/kgtk-notebooks/raw/main/datasets/arnold/small-graph.tsv\n",
            "Reusing existing connection to github.com:443.\n",
            "HTTP request sent, awaiting response... 302 Found\n",
            "Location: https://raw.githubusercontent.com/usc-isi-i2/kgtk-notebooks/main/datasets/arnold/small-graph.tsv [following]\n",
            "--2022-10-07 22:01:56--  https://raw.githubusercontent.com/usc-isi-i2/kgtk-notebooks/main/datasets/arnold/small-graph.tsv\n",
            "Resolving raw.githubusercontent.com (raw.githubusercontent.com)... 185.199.110.133, 185.199.111.133, 185.199.109.133, ...\n",
            "Connecting to raw.githubusercontent.com (raw.githubusercontent.com)|185.199.110.133|:443... connected.\n",
            "HTTP request sent, awaiting response... 200 OK\n",
            "Length: 382 [text/plain]\n",
            "Saving to: ‘/root/isi-kgtk-tutorial/tutorial-kypher_input/small-graph.tsv’\n",
            "\n",
            "     0K                                                       100% 16.3M=0s\n",
            "\n",
            "2022-10-07 22:01:56 (16.3 MB/s) - ‘/root/isi-kgtk-tutorial/tutorial-kypher_input/small-graph.tsv’ saved [382/382]\n",
            "\n",
            "--2022-10-07 22:01:56--  https://github.com/usc-isi-i2/kgtk-tutorial-files/raw/main/datasets/arnold/small-films.tsv\n",
            "Resolving github.com (github.com)... 192.30.255.112\n",
            "Connecting to github.com (github.com)|192.30.255.112|:443... connected.\n",
            "HTTP request sent, awaiting response... 301 Moved Permanently\n",
            "Location: https://github.com/usc-isi-i2/kgtk-notebooks/raw/main/datasets/arnold/small-films.tsv [following]\n",
            "--2022-10-07 22:01:57--  https://github.com/usc-isi-i2/kgtk-notebooks/raw/main/datasets/arnold/small-films.tsv\n",
            "Reusing existing connection to github.com:443.\n",
            "HTTP request sent, awaiting response... 302 Found\n",
            "Location: https://raw.githubusercontent.com/usc-isi-i2/kgtk-notebooks/main/datasets/arnold/small-films.tsv [following]\n",
            "--2022-10-07 22:01:57--  https://raw.githubusercontent.com/usc-isi-i2/kgtk-notebooks/main/datasets/arnold/small-films.tsv\n",
            "Resolving raw.githubusercontent.com (raw.githubusercontent.com)... 185.199.111.133, 185.199.109.133, 185.199.110.133, ...\n",
            "Connecting to raw.githubusercontent.com (raw.githubusercontent.com)|185.199.111.133|:443... connected.\n",
            "HTTP request sent, awaiting response... 200 OK\n",
            "Length: 590 [text/plain]\n",
            "Saving to: ‘/root/isi-kgtk-tutorial/tutorial-kypher_input/small-films.tsv’\n",
            "\n",
            "     0K                                                       100% 37.1M=0s\n",
            "\n",
            "2022-10-07 22:01:57 (37.1 MB/s) - ‘/root/isi-kgtk-tutorial/tutorial-kypher_input/small-films.tsv’ saved [590/590]\n",
            "\n",
            "--2022-10-07 22:01:57--  https://github.com/usc-isi-i2/kgtk-tutorial-files/raw/main/datasets/arnold/small-props.tsv\n",
            "Resolving github.com (github.com)... 192.30.255.112\n",
            "Connecting to github.com (github.com)|192.30.255.112|:443... connected.\n",
            "HTTP request sent, awaiting response... 301 Moved Permanently\n",
            "Location: https://github.com/usc-isi-i2/kgtk-notebooks/raw/main/datasets/arnold/small-props.tsv [following]\n",
            "--2022-10-07 22:01:58--  https://github.com/usc-isi-i2/kgtk-notebooks/raw/main/datasets/arnold/small-props.tsv\n",
            "Reusing existing connection to github.com:443.\n",
            "HTTP request sent, awaiting response... 302 Found\n",
            "Location: https://raw.githubusercontent.com/usc-isi-i2/kgtk-notebooks/main/datasets/arnold/small-props.tsv [following]\n",
            "--2022-10-07 22:01:59--  https://raw.githubusercontent.com/usc-isi-i2/kgtk-notebooks/main/datasets/arnold/small-props.tsv\n",
            "Resolving raw.githubusercontent.com (raw.githubusercontent.com)... 185.199.108.133, 185.199.109.133, 185.199.110.133, ...\n",
            "Connecting to raw.githubusercontent.com (raw.githubusercontent.com)|185.199.108.133|:443... connected.\n",
            "HTTP request sent, awaiting response... 200 OK\n",
            "Length: 93 [text/plain]\n",
            "Saving to: ‘/root/isi-kgtk-tutorial/tutorial-kypher_input/small-props.tsv’\n",
            "\n",
            "     0K                                                       100% 3.57M=0s\n",
            "\n",
            "2022-10-07 22:01:59 (3.57 MB/s) - ‘/root/isi-kgtk-tutorial/tutorial-kypher_input/small-props.tsv’ saved [93/93]\n",
            "\n",
            "--2022-10-07 22:01:59--  https://github.com/usc-isi-i2/kgtk-tutorial-files/raw/main/datasets/arnold/small-quals.tsv\n",
            "Resolving github.com (github.com)... 192.30.255.112\n",
            "Connecting to github.com (github.com)|192.30.255.112|:443... connected.\n",
            "HTTP request sent, awaiting response... 301 Moved Permanently\n",
            "Location: https://github.com/usc-isi-i2/kgtk-notebooks/raw/main/datasets/arnold/small-quals.tsv [following]\n",
            "--2022-10-07 22:02:00--  https://github.com/usc-isi-i2/kgtk-notebooks/raw/main/datasets/arnold/small-quals.tsv\n",
            "Reusing existing connection to github.com:443.\n",
            "HTTP request sent, awaiting response... 302 Found\n",
            "Location: https://raw.githubusercontent.com/usc-isi-i2/kgtk-notebooks/main/datasets/arnold/small-quals.tsv [following]\n",
            "--2022-10-07 22:02:00--  https://raw.githubusercontent.com/usc-isi-i2/kgtk-notebooks/main/datasets/arnold/small-quals.tsv\n",
            "Resolving raw.githubusercontent.com (raw.githubusercontent.com)... 185.199.109.133, 185.199.108.133, 185.199.111.133, ...\n",
            "Connecting to raw.githubusercontent.com (raw.githubusercontent.com)|185.199.109.133|:443... connected.\n",
            "HTTP request sent, awaiting response... 200 OK\n",
            "Length: 285 [text/plain]\n",
            "Saving to: ‘/root/isi-kgtk-tutorial/tutorial-kypher_input/small-quals.tsv’\n",
            "\n",
            "     0K                                                       100% 16.3M=0s\n",
            "\n",
            "2022-10-07 22:02:00 (16.3 MB/s) - ‘/root/isi-kgtk-tutorial/tutorial-kypher_input/small-quals.tsv’ saved [285/285]\n",
            "\n"
          ]
        }
      ],
      "source": [
        "# These are all the KG files that we use in this notebook:\n",
        "additional_files = {\n",
        "    \"small_graph\": \"small-graph.tsv\",\n",
        "    \"small_films\": \"small-films.tsv\",\n",
        "    \"small_props\": \"small-props.tsv\",\n",
        "    \"small_quals\": \"small-quals.tsv\",\n",
        "}\n",
        "\n",
        "big_files = [\n",
        "    \"all\",\n",
        "    \"label\",\n",
        "    \"pagerank_undirected\",\n",
        "]\n",
        "\n",
        "ck = ConfigureKGTK(big_files)\n",
        "ck.configure_kgtk(input_graph_path=input_path, \n",
        "                  output_path=output_path, \n",
        "                  project_name=project_name,\n",
        "                  additional_files=additional_files)"
      ]
    },
    {
      "cell_type": "code",
      "execution_count": null,
      "id": "22ddd656",
      "metadata": {
        "id": "22ddd656",
        "outputId": "ecf86d17-7a4d-47f9-df68-67b7783d1dee",
        "colab": {
          "base_uri": "https://localhost:8080/"
        }
      },
      "outputs": [
        {
          "output_type": "stream",
          "name": "stdout",
          "text": [
            "TEMP: /tmp/projects/tutorial-kypher/temp.tutorial-kypher\n",
            "USE_CASES_DIR: //use-cases\n",
            "OUT: /tmp/projects/tutorial-kypher\n",
            "kgtk: kgtk\n",
            "KGTK_LABEL_FILE: /root/isi-kgtk-tutorial/tutorial-kypher_input/labels.en.tsv.gz\n",
            "GRAPH: /root/isi-kgtk-tutorial/tutorial-kypher_input\n",
            "STORE: /tmp/projects/tutorial-kypher/temp.tutorial-kypher/wikidata.sqlite3.db\n",
            "KGTK_GRAPH_CACHE: /tmp/projects/tutorial-kypher/temp.tutorial-kypher/wikidata.sqlite3.db\n",
            "KGTK_OPTION_DEBUG: false\n",
            "EXAMPLES_DIR: //examples\n",
            "kypher: kgtk query --graph-cache /tmp/projects/tutorial-kypher/temp.tutorial-kypher/wikidata.sqlite3.db\n",
            "all: /root/isi-kgtk-tutorial/tutorial-kypher_input/all.tsv.gz\n",
            "label: /root/isi-kgtk-tutorial/tutorial-kypher_input/labels.en.tsv.gz\n",
            "pagerank_undirected: /root/isi-kgtk-tutorial/tutorial-kypher_input/metadata.pagerank.undirected.tsv.gz\n",
            "small_graph: /root/isi-kgtk-tutorial/tutorial-kypher_input/small-graph.tsv\n",
            "small_films: /root/isi-kgtk-tutorial/tutorial-kypher_input/small-films.tsv\n",
            "small_props: /root/isi-kgtk-tutorial/tutorial-kypher_input/small-props.tsv\n",
            "small_quals: /root/isi-kgtk-tutorial/tutorial-kypher_input/small-quals.tsv\n"
          ]
        }
      ],
      "source": [
        "ck.print_env_variables()"
      ]
    },
    {
      "cell_type": "markdown",
      "id": "50f97f88",
      "metadata": {
        "lines_to_next_cell": 2,
        "id": "50f97f88"
      },
      "source": [
        "## Usage of `query` command\n",
        "```\n",
        "usage: kgtk query [-h] [-i INPUT_FILE [INPUT_FILE ...]] [--as NAME]\n",
        "                  [--comment COMMENT] [--query QUERY] [--match PATTERN]\n",
        "                  [--where CLAUSE] [--opt PATTERN] [--with CLAUSE]\n",
        "                  [--where: CLAUSE] [--return CLAUSE] [--order-by CLAUSE]\n",
        "                  [--skip CLAUSE] [--limit CLAUSE] [--para NAME=VAL]\n",
        "                  [--spara NAME=VAL] [--lqpara NAME=VAL] [--no-header]\n",
        "                  [--force] [--index MODE [MODE ...]] [--idx SPEC [SPEC ...]]\n",
        "                  [--explain [MODE]] [--graph-cache GRAPH_CACHE_FILE]\n",
        "                  [--show-cache] [--import MODULE_LIST] [-o OUTPUT]\n",
        "\n",
        "Query one or more KGTK files with Kypher.\n",
        "IMPORTANT: input can come from stdin but chaining queries is not yet supported.\n",
        "\n",
        "Input options:\n",
        "  -i INPUT_FILE [INPUT_FILE ...], --input-files INPUT_FILE [INPUT_FILE ...]\n",
        "                        One or more input files to query, maybe compressed\n",
        "                        (May be omitted or '-' for stdin.)\n",
        "  --as NAME             alias name to be used for preceding input\n",
        "  --comment COMMENT     comment string to store for the preceding input\n",
        "                        (displayed by --show-cache)\n",
        "\n",
        "Query options:\n",
        "  --query QUERY         complete Kypher query combining all clauses, if\n",
        "                        supplied, all other specialized clause arguments will\n",
        "                        be ignored\n",
        "  --match PATTERN       MATCH pattern of a Kypher query, defaults to universal\n",
        "                        node pattern `()'\n",
        "  --where CLAUSE        WHERE clause to a preceding --match, --opt or --with\n",
        "                        clause\n",
        "  --opt PATTERN, --optional PATTERN\n",
        "                        OPTIONAL MATCH pattern(s) of a Kypher query (zero or\n",
        "                        more)\n",
        "  --with CLAUSE         WITH clause of a Kypher query (only 'WITH * ...' is\n",
        "                        currently supported)\n",
        "  --where: CLAUSE       final global WHERE clause, shorthand for 'WITH * WHERE\n",
        "                        ...'\n",
        "  --return CLAUSE       RETURN clause of a Kypher query (defaults to *)\n",
        "  --order-by CLAUSE     ORDER BY clause of a Kypher query\n",
        "  --skip CLAUSE         SKIP clause of a Kypher query\n",
        "  --limit CLAUSE        LIMIT clause of a Kypher query\n",
        "  --para NAME=VAL       zero or more named value parameters to be passed to\n",
        "                        the query\n",
        "  --spara NAME=VAL      zero or more named string parameters to be passed to\n",
        "                        the query\n",
        "  --lqpara NAME=VAL     zero or more named LQ-string parameters to be passed\n",
        "                        to the query\n",
        "\n",
        "Output options:\n",
        "  --no-header           do not generate a header row with column names\n",
        "  -o OUTPUT, --out OUTPUT\n",
        "                        output file to write to, if `-' (the default) output\n",
        "                        goes to stdout. Files with extensions .gz, .bz2 or .xz\n",
        "                        will be appropriately compressed.\n",
        "\n",
        "Control options:\n",
        "  --force               force problematic queries to run against advice\n",
        "  --index MODE [MODE ...], --index-mode MODE [MODE ...]\n",
        "                        default index creation MODE for all inputs (default:\n",
        "                        auto); can be overridden with --idx for specific\n",
        "                        inputs\n",
        "  --idx SPEC [SPEC ...], --input-index SPEC [SPEC ...]\n",
        "                        create index(es) according to SPEC for the preceding\n",
        "                        input only\n",
        "  --explain [MODE]      explain the query execution and indexing plan\n",
        "                        according to MODE (plan, full, expert, default: plan).\n",
        "                        This will not actually run or create anything.\n",
        "  --graph-cache GRAPH_CACHE_FILE\n",
        "                        database cache where graphs will be imported before\n",
        "                        they are queried (defaults to per-user temporary file)\n",
        "  --show-cache          describe the current content of the graph cache and\n",
        "                        exit (does not actually run a query or import data)\n",
        "  --import MODULE_LIST  Python modules needed to define user extensions to\n",
        "                        built-in functions\n",
        "  -h, --help            show this help message and exit\n",
        "```"
      ]
    },
    {
      "cell_type": "markdown",
      "id": "becbc95b",
      "metadata": {
        "id": "becbc95b"
      },
      "source": [
        "## Selecting edges with the `--match` clause"
      ]
    },
    {
      "cell_type": "markdown",
      "id": "6bfb0429",
      "metadata": {
        "id": "6bfb0429"
      },
      "source": [
        "- KGTK `query` either takes a full Kypher `--query` or individual Kypher clauses such as `--match`,\n",
        "  `--return`, etc.\n",
        "- individual clauses are automatically assembled into the proper order, easier in Unix shell environment"
      ]
    },
    {
      "cell_type": "markdown",
      "id": "1bcfa3a4",
      "metadata": {
        "id": "1bcfa3a4"
      },
      "source": [
        "**Example**\n",
        "- simple query on a single input graph with an anonymous edge pattern\n",
        "- for convenience we use shell variable `$GRAPH` to point to small data file\n",
        "- **IMPORTANT**: use quotes around the match pattern to protect from the shell\n",
        "- this matches all edges and returns the whole file"
      ]
    },
    {
      "cell_type": "code",
      "execution_count": null,
      "id": "1d2a9d08",
      "metadata": {
        "id": "1d2a9d08",
        "outputId": "6cb7316a-d106-4699-ebf3-2b9661c8e7e9",
        "colab": {
          "base_uri": "https://localhost:8080/"
        }
      },
      "outputs": [
        {
          "output_type": "stream",
          "name": "stdout",
          "text": [
            "/root/isi-kgtk-tutorial/tutorial-kypher_input/small-graph.tsv\n"
          ]
        }
      ],
      "source": [
        "!echo $small_graph"
      ]
    },
    {
      "cell_type": "code",
      "execution_count": 5,
      "id": "5130f672",
      "metadata": {
        "id": "5130f672",
        "outputId": "98c35a9d-672f-4103-ce45-51e7ac9ab132",
        "colab": {
          "base_uri": "https://localhost:8080/"
        }
      },
      "outputs": [
        {
          "output_type": "stream",
          "name": "stdout",
          "text": [
            "id\tnode1\tlabel\tnode2\n",
            "e1\tm_shriver\tspouse\ta_schwarzenegger\n",
            "e2\ta_schwarzenegger\tcoactor\tl_hamilton\n",
            "e3\tg_rydstrom\tcolleague\tg_borders\n",
            "e4\tg_rydstrom\tcolleague\ta_schwarzenegger\n",
            "e5\ta_schwarzenegger\tname\t'Arnold Schwarzenegger'@de\n",
            "e6\tl_hamilton\tname\t'Linda Hamilton'@en\n",
            "e7\tg_rydstrom\tname\t'Gary R. Rydstrom'@en\n",
            "e8\tg_borders\tname\t'Gloria S. Borders'@en\n",
            "e9\tm_shriver\tname\t'Maria Shriver'@en\n"
          ]
        }
      ],
      "source": [
        "!kgtk query -i $small_graph --match '()-[]->()'"
      ]
    },
    {
      "cell_type": "markdown",
      "id": "7733bff5",
      "metadata": {
        "id": "7733bff5"
      },
      "source": [
        "- match pattern starts with anonymous node connecting via an\n",
        "  anonymous relation to another anonymous node\n",
        "- matched against the four core columns specifying an edge in each line of the KGTK\n",
        "  input file\n",
        "- from-node is matched against `node1`, relation is\n",
        "  matched against `id` and `label` (more on that distinction later), and\n",
        "  the to-node is matched against `node2`\n",
        "- for each KGTK line matching the pattern, output is generated according to the `--return` clause\n",
        "- default for `--return` is `*` which means all columns of a matching line will be output"
      ]
    },
    {
      "cell_type": "markdown",
      "id": "9c4fb588",
      "metadata": {
        "id": "9c4fb588"
      },
      "source": [
        "**Equivalent query:**\n",
        "- singular anonymous node pattern will be completed to a full edge"
      ]
    },
    {
      "cell_type": "code",
      "execution_count": 6,
      "id": "db30d4a5",
      "metadata": {
        "id": "db30d4a5",
        "outputId": "2defa346-244a-45a6-bf73-4dcad31cc15b",
        "colab": {
          "base_uri": "https://localhost:8080/"
        }
      },
      "outputs": [
        {
          "output_type": "stream",
          "name": "stdout",
          "text": [
            "id\tnode1\tlabel\tnode2\n",
            "e1\tm_shriver\tspouse\ta_schwarzenegger\n",
            "e2\ta_schwarzenegger\tcoactor\tl_hamilton\n",
            "e3\tg_rydstrom\tcolleague\tg_borders\n",
            "e4\tg_rydstrom\tcolleague\ta_schwarzenegger\n",
            "e5\ta_schwarzenegger\tname\t'Arnold Schwarzenegger'@de\n",
            "e6\tl_hamilton\tname\t'Linda Hamilton'@en\n",
            "e7\tg_rydstrom\tname\t'Gary R. Rydstrom'@en\n",
            "e8\tg_borders\tname\t'Gloria S. Borders'@en\n",
            "e9\tm_shriver\tname\t'Maria Shriver'@en\n"
          ]
        }
      ],
      "source": [
        "!kgtk query -i $small_graph --match '()'"
      ]
    },
    {
      "cell_type": "markdown",
      "id": "547b54f2",
      "metadata": {
        "id": "547b54f2"
      },
      "source": [
        "**Equivalent query:**\n",
        "- that pattern is also the default for `--match`"
      ]
    },
    {
      "cell_type": "code",
      "execution_count": 7,
      "id": "3510b2fc",
      "metadata": {
        "id": "3510b2fc",
        "outputId": "500aafdb-6224-4b60-d146-27812b78f03f",
        "colab": {
          "base_uri": "https://localhost:8080/"
        }
      },
      "outputs": [
        {
          "output_type": "stream",
          "name": "stdout",
          "text": [
            "id\tnode1\tlabel\tnode2\n",
            "e1\tm_shriver\tspouse\ta_schwarzenegger\n",
            "e2\ta_schwarzenegger\tcoactor\tl_hamilton\n",
            "e3\tg_rydstrom\tcolleague\tg_borders\n",
            "e4\tg_rydstrom\tcolleague\ta_schwarzenegger\n",
            "e5\ta_schwarzenegger\tname\t'Arnold Schwarzenegger'@de\n",
            "e6\tl_hamilton\tname\t'Linda Hamilton'@en\n",
            "e7\tg_rydstrom\tname\t'Gary R. Rydstrom'@en\n",
            "e8\tg_borders\tname\t'Gloria S. Borders'@en\n",
            "e9\tm_shriver\tname\t'Maria Shriver'@en\n"
          ]
        }
      ],
      "source": [
        "!kgtk query -i $small_graph"
      ]
    },
    {
      "cell_type": "markdown",
      "id": "2634d31c",
      "metadata": {
        "id": "2634d31c"
      },
      "source": [
        "**Equivalent command:** `kgtk cat`"
      ]
    },
    {
      "cell_type": "code",
      "execution_count": 8,
      "id": "9f348d66",
      "metadata": {
        "lines_to_next_cell": 2,
        "id": "9f348d66",
        "outputId": "7272ac64-770e-491f-afef-9e8c7a2ac519",
        "colab": {
          "base_uri": "https://localhost:8080/"
        }
      },
      "outputs": [
        {
          "output_type": "stream",
          "name": "stdout",
          "text": [
            "id\tnode1\tlabel\tnode2\n",
            "e1\tm_shriver\tspouse\ta_schwarzenegger\n",
            "e2\ta_schwarzenegger\tcoactor\tl_hamilton\n",
            "e3\tg_rydstrom\tcolleague\tg_borders\n",
            "e4\tg_rydstrom\tcolleague\ta_schwarzenegger\n",
            "e5\ta_schwarzenegger\tname\t'Arnold Schwarzenegger'@de\n",
            "e6\tl_hamilton\tname\t'Linda Hamilton'@en\n",
            "e7\tg_rydstrom\tname\t'Gary R. Rydstrom'@en\n",
            "e8\tg_borders\tname\t'Gloria S. Borders'@en\n",
            "e9\tm_shriver\tname\t'Maria Shriver'@en\n"
          ]
        }
      ],
      "source": [
        "!kgtk cat -i $small_graph"
      ]
    },
    {
      "cell_type": "markdown",
      "id": "cc441053",
      "metadata": {
        "id": "cc441053"
      },
      "source": [
        "### Restricting output\n",
        "- use `--limit` and/or `--skip` to control output volume,\n",
        "  especially to test queries on larger data"
      ]
    },
    {
      "cell_type": "code",
      "execution_count": 9,
      "id": "6807d9af",
      "metadata": {
        "id": "6807d9af",
        "outputId": "d945a5a6-c265-4a15-d2f5-3e3a72b15165",
        "colab": {
          "base_uri": "https://localhost:8080/"
        }
      },
      "outputs": [
        {
          "output_type": "stream",
          "name": "stdout",
          "text": [
            "id\tnode1\tlabel\tnode2\n",
            "e1\tm_shriver\tspouse\ta_schwarzenegger\n",
            "e2\ta_schwarzenegger\tcoactor\tl_hamilton\n",
            "e3\tg_rydstrom\tcolleague\tg_borders\n"
          ]
        }
      ],
      "source": [
        "!kgtk query -i $small_graph --limit 3"
      ]
    },
    {
      "cell_type": "code",
      "execution_count": 10,
      "id": "bbd440e1",
      "metadata": {
        "id": "bbd440e1",
        "outputId": "23ebd7ee-3b8d-4b08-8d1a-323c3e94b8d0",
        "colab": {
          "base_uri": "https://localhost:8080/"
        }
      },
      "outputs": [
        {
          "output_type": "stream",
          "name": "stdout",
          "text": [
            "id\tnode1\tlabel\tnode2\n",
            "e3\tg_rydstrom\tcolleague\tg_borders\n",
            "e4\tg_rydstrom\tcolleague\ta_schwarzenegger\n",
            "e5\ta_schwarzenegger\tname\t'Arnold Schwarzenegger'@de\n"
          ]
        }
      ],
      "source": [
        "!kgtk query -i $small_graph --skip 2 --limit 3"
      ]
    },
    {
      "cell_type": "code",
      "execution_count": 11,
      "id": "caa2991c",
      "metadata": {
        "lines_to_next_cell": 2,
        "id": "caa2991c",
        "outputId": "328a9b22-6358-427f-e6b5-db80b8635b86",
        "colab": {
          "base_uri": "https://localhost:8080/"
        }
      },
      "outputs": [
        {
          "output_type": "stream",
          "name": "stdout",
          "text": [
            "id\tnode1\tlabel\tnode2\n",
            "e1\tm_shriver\tspouse\ta_schwarzenegger\n",
            "e2\ta_schwarzenegger\tcoactor\tl_hamilton\n",
            "e3\tg_rydstrom\tcolleague\tg_borders\n"
          ]
        }
      ],
      "source": [
        "!kgtk query -i $small_graph / head -n 3"
      ]
    },
    {
      "cell_type": "markdown",
      "id": "21484bae",
      "metadata": {
        "id": "21484bae"
      },
      "source": [
        "### Restricting edges\n",
        "- patterns can be made more specific by restricting some of the elements of an edge\n",
        "- for example, filter for all edges that start with `m_shriver`"
      ]
    },
    {
      "cell_type": "code",
      "execution_count": 17,
      "id": "579b24f6",
      "metadata": {
        "id": "579b24f6",
        "outputId": "748969e5-9d90-4a60-848f-71f4ed9c3d7c",
        "colab": {
          "base_uri": "https://localhost:8080/"
        }
      },
      "outputs": [
        {
          "output_type": "stream",
          "name": "stdout",
          "text": [
            "id\tnode1\tlabel\tnode2\n",
            "e3\tg_rydstrom\tcolleague\tg_borders\n",
            "e4\tg_rydstrom\tcolleague\ta_schwarzenegger\n",
            "e7\tg_rydstrom\tname\t'Gary R. Rydstrom'@en\n"
          ]
        }
      ],
      "source": [
        "!kgtk query -i $small_graph --match '(:g_rydstrom)-[]->()'"
      ]
    },
    {
      "cell_type": "markdown",
      "id": "56ac3776",
      "metadata": {
        "id": "56ac3776"
      },
      "source": [
        "- **Kypher vs. Cypher**: in Cypher the restriction `m_shriver` would be interpreted as a node *type* in a property graph, in KGTK Kypher\n",
        "it is interpreted as the ID of a particular node"
      ]
    },
    {
      "cell_type": "markdown",
      "id": "af32722e",
      "metadata": {
        "id": "af32722e"
      },
      "source": [
        "**Example**\n",
        "- filter on the relation of an edge\n",
        "- select all edges with label `name` using the same colon-restriction syntax we used for nodes"
      ]
    },
    {
      "cell_type": "code",
      "execution_count": 18,
      "id": "fa10dac3",
      "metadata": {
        "id": "fa10dac3",
        "outputId": "28860ae0-22f6-4d95-f37c-939ef5429e82",
        "colab": {
          "base_uri": "https://localhost:8080/"
        }
      },
      "outputs": [
        {
          "output_type": "stream",
          "name": "stdout",
          "text": [
            "id\tnode1\tlabel\tnode2\n",
            "e5\ta_schwarzenegger\tname\t'Arnold Schwarzenegger'@de\n",
            "e6\tl_hamilton\tname\t'Linda Hamilton'@en\n",
            "e7\tg_rydstrom\tname\t'Gary R. Rydstrom'@en\n",
            "e8\tg_borders\tname\t'Gloria S. Borders'@en\n",
            "e9\tm_shriver\tname\t'Maria Shriver'@en\n"
          ]
        }
      ],
      "source": [
        "!kgtk query -i $small_graph --match '()-[:name]->()'"
      ]
    },
    {
      "cell_type": "markdown",
      "id": "70207f7c",
      "metadata": {
        "id": "70207f7c"
      },
      "source": [
        "- for relations, the interpretation of restrictions on the label of an\n",
        "edge (as opposed to its `id`) is more in line with standard Cypher."
      ]
    },
    {
      "cell_type": "markdown",
      "id": "841a95e3",
      "metadata": {
        "id": "841a95e3"
      },
      "source": [
        "**Example**\n",
        "- node and relation restrictions can be combined\n",
        "- for example, here we select all `name` edges starting from node `a_schwarzenegger`"
      ]
    },
    {
      "cell_type": "code",
      "execution_count": 19,
      "id": "d54b0533",
      "metadata": {
        "lines_to_next_cell": 2,
        "id": "d54b0533",
        "outputId": "19f5b9f0-bae4-4341-823a-1387e1169d39",
        "colab": {
          "base_uri": "https://localhost:8080/"
        }
      },
      "outputs": [
        {
          "output_type": "stream",
          "name": "stdout",
          "text": [
            "id\tnode1\tlabel\tnode2\n",
            "e5\ta_schwarzenegger\tname\t'Arnold Schwarzenegger'@de\n"
          ]
        }
      ],
      "source": [
        "!kgtk query -i $small_graph --match '(:a_schwarzenegger)-[:name]->()'"
      ]
    },
    {
      "cell_type": "markdown",
      "id": "7dd48f36",
      "metadata": {
        "id": "7dd48f36"
      },
      "source": [
        "## Filtering with the `--where` clause"
      ]
    },
    {
      "cell_type": "markdown",
      "id": "0ecba3ba",
      "metadata": {
        "id": "0ecba3ba"
      },
      "source": [
        "- `--where` holds a possibly complex Boolean expression that gets evaluated as additional edge filter\n",
        "- only edges for which it evaluates to true will be returned\n",
        "- `--where` can be used to express more complex conditions and computations that cannot be expressed in `--match`\n",
        "- to connect to values selected by `--match` we need pattern *variables*\n",
        "- variables are specified with simple names in the node or relationship part of a pattern\n",
        "- below we use `p` as the variable for the starting node of the edge pattern\n",
        "- in the `--where` clause we restrict which values are allowed for `p`\n",
        "- this query is equivalent to the one above where we restricted the starting node directly in the match pattern:"
      ]
    },
    {
      "cell_type": "code",
      "execution_count": 20,
      "id": "3ec0af12",
      "metadata": {
        "id": "3ec0af12",
        "outputId": "e3ca7c03-8608-441b-9d42-acfd8613bfb9",
        "colab": {
          "base_uri": "https://localhost:8080/"
        }
      },
      "outputs": [
        {
          "output_type": "stream",
          "name": "stdout",
          "text": [
            "id\tnode1\tlabel\tnode2\n",
            "e9\tm_shriver\tname\t'Maria Shriver'@en\n"
          ]
        }
      ],
      "source": [
        "!kgtk query -i $small_graph \\\n",
        "     --match '(p)-[:name]->()' \\\n",
        "     --where 'p = \"m_shriver\"'"
      ]
    },
    {
      "cell_type": "markdown",
      "id": "7957db5f",
      "metadata": {
        "id": "7957db5f"
      },
      "source": [
        "**Equivalent query:**\n",
        "- specifies the starting node restriction twice which is ok but redundant"
      ]
    },
    {
      "cell_type": "code",
      "execution_count": 21,
      "id": "a394af91",
      "metadata": {
        "id": "a394af91",
        "outputId": "bceb90aa-09df-4fb2-b263-bc3d68502663",
        "colab": {
          "base_uri": "https://localhost:8080/"
        }
      },
      "outputs": [
        {
          "output_type": "stream",
          "name": "stdout",
          "text": [
            "id\tnode1\tlabel\tnode2\n",
            "e9\tm_shriver\tname\t'Maria Shriver'@en\n"
          ]
        }
      ],
      "source": [
        "!kgtk query -i $small_graph \\\n",
        "     --match '(p:m_shriver)-[:name]->()' \\\n",
        "     --where 'p = \"m_shriver\"'"
      ]
    },
    {
      "cell_type": "markdown",
      "id": "5ffdb95d",
      "metadata": {
        "id": "5ffdb95d"
      },
      "source": [
        "- **IMPORTANT**: constants such as `m_shriver` need to be quoted when used in `--where`, similar to SQL\n",
        "- this needs extra care so quotes will not be consumed by the Unix shell"
      ]
    },
    {
      "cell_type": "markdown",
      "id": "b08921e4",
      "metadata": {
        "id": "b08921e4"
      },
      "source": [
        "**Example**\n",
        "- use a regular expression to filter on the names attached to nodes\n",
        "- the `=~` operator matches a value against a regular expression\n",
        "- **Kypher vs. Cypher**: Kypher use Python regexp syntax, Cypher uses Java regexps\n",
        "- select all `name` edges that lead to a name that contains a double letter:"
      ]
    },
    {
      "cell_type": "code",
      "execution_count": 22,
      "id": "8df2fb4c",
      "metadata": {
        "id": "8df2fb4c",
        "outputId": "990c5693-471b-4137-8471-c45744364017",
        "colab": {
          "base_uri": "https://localhost:8080/"
        }
      },
      "outputs": [
        {
          "output_type": "stream",
          "name": "stdout",
          "text": [
            "id\tnode1\tlabel\tnode2\n",
            "e5\ta_schwarzenegger\tname\t'Arnold Schwarzenegger'@de\n"
          ]
        }
      ],
      "source": [
        "!kgtk query -i $small_graph \\\n",
        "     --match '(p)-[:name]->(n)' \\\n",
        "     --where 'n =~ \".*(.)\\\\1.*\"'"
      ]
    },
    {
      "cell_type": "markdown",
      "id": "b3263a68",
      "metadata": {
        "id": "b3263a68"
      },
      "source": [
        "**Example**\n",
        "- filter based on a list of values (a form of disjunction)\n",
        "- any edge where `p` is equal to one of the listed values will be returned\n",
        "- **Kypher vs. Cypher**: Kypher only allows lists of literals such as strings\n",
        "  or numbers, Cypher also allows variables and expressions"
      ]
    },
    {
      "cell_type": "code",
      "execution_count": 23,
      "id": "e0b986bf",
      "metadata": {
        "id": "e0b986bf",
        "outputId": "88204d21-a666-4931-d43c-840b065bab69",
        "colab": {
          "base_uri": "https://localhost:8080/"
        }
      },
      "outputs": [
        {
          "output_type": "stream",
          "name": "stdout",
          "text": [
            "id\tnode1\tlabel\tnode2\n",
            "e7\tg_rydstrom\tname\t'Gary R. Rydstrom'@en\n",
            "e8\tg_borders\tname\t'Gloria S. Borders'@en\n"
          ]
        }
      ],
      "source": [
        "!kgtk query -i $small_graph \\\n",
        "     --match '(p)-[:name]->(n)' \\\n",
        "     --where 'p IN [\"g_borders\", \"g_rydstrom\"]'"
      ]
    },
    {
      "cell_type": "markdown",
      "id": "b83cbdf1",
      "metadata": {
        "id": "b83cbdf1"
      },
      "source": [
        "**Example**\n",
        "- filter based on a comparison operator and a computation using built-in functions\n",
        "- **IMPORTANT**: all columns in a KGTK file are treated as text (even if they contain numbers)\n",
        "- the expression below filters for names that start with the letter `L` or later\n",
        "- note that quotes of KGTK string literals are part of their value and need to be accounted for\n",
        "- for this we use the built-in function `substr` to extract the first letter of each name"
      ]
    },
    {
      "cell_type": "code",
      "execution_count": 24,
      "id": "f80eb655",
      "metadata": {
        "lines_to_next_cell": 2,
        "id": "f80eb655",
        "outputId": "5b9ef060-51fd-4b51-8479-6ffbbffb4183",
        "colab": {
          "base_uri": "https://localhost:8080/"
        }
      },
      "outputs": [
        {
          "output_type": "stream",
          "name": "stdout",
          "text": [
            "id\tnode1\tlabel\tnode2\n",
            "e6\tl_hamilton\tname\t'Linda Hamilton'@en\n",
            "e9\tm_shriver\tname\t'Maria Shriver'@en\n"
          ]
        }
      ],
      "source": [
        "!kgtk query -i $small_graph \\\n",
        "     --match '(p)-[:name]->(n)' \\\n",
        "     --where \"substr(n,2,1) >= 'L'\""
      ]
    },
    {
      "cell_type": "markdown",
      "id": "2d4ceebc",
      "metadata": {
        "id": "2d4ceebc"
      },
      "source": [
        "## Sorting results with the `--order-by` clause"
      ]
    },
    {
      "cell_type": "markdown",
      "id": "d513b98a",
      "metadata": {
        "id": "d513b98a"
      },
      "source": [
        "- use `--order-by` to sort results just like in Cypher and SQL\n",
        "- this query sorts matched results by names in ascending order:"
      ]
    },
    {
      "cell_type": "code",
      "execution_count": 25,
      "id": "a0f82ae8",
      "metadata": {
        "lines_to_next_cell": 2,
        "id": "a0f82ae8",
        "outputId": "d4b9fcf8-873f-44d7-831c-cb9fdf686221",
        "colab": {
          "base_uri": "https://localhost:8080/"
        }
      },
      "outputs": [
        {
          "output_type": "stream",
          "name": "stdout",
          "text": [
            "id\tnode1\tlabel\tnode2\n",
            "e6\tl_hamilton\tname\t'Linda Hamilton'@en\n",
            "e9\tm_shriver\tname\t'Maria Shriver'@en\n"
          ]
        }
      ],
      "source": [
        "!kgtk query -i $small_graph \\\n",
        "     --match '(p)-[:name]->(n)' \\\n",
        "     --where \"upper(substr(n,2,1)) >= 'L'\" \\\n",
        "     --order-by n"
      ]
    },
    {
      "cell_type": "markdown",
      "id": "7a375a76",
      "metadata": {
        "id": "7a375a76"
      },
      "source": [
        "- order by an expression value, this time in descending order:"
      ]
    },
    {
      "cell_type": "code",
      "execution_count": 26,
      "id": "180baf9d",
      "metadata": {
        "lines_to_next_cell": 2,
        "id": "180baf9d",
        "outputId": "caa6e235-3888-4b54-cb27-e3b5c22a1213",
        "colab": {
          "base_uri": "https://localhost:8080/"
        }
      },
      "outputs": [
        {
          "output_type": "stream",
          "name": "stdout",
          "text": [
            "id\tnode1\tlabel\tnode2\n",
            "e9\tm_shriver\tname\t'Maria Shriver'@en\n",
            "e6\tl_hamilton\tname\t'Linda Hamilton'@en\n"
          ]
        }
      ],
      "source": [
        "!kgtk query -i $small_graph \\\n",
        "     --match '(p)-[:name]->(n)' \\\n",
        "     --where \"substr(n,2,1) >= 'L'\" \\\n",
        "     --order-by \"substr(n,2,1) desc\""
      ]
    },
    {
      "cell_type": "markdown",
      "id": "f27a5dac",
      "metadata": {
        "id": "f27a5dac"
      },
      "source": [
        "## Controlling results with the `--return` clause"
      ]
    },
    {
      "cell_type": "markdown",
      "id": "7755871b",
      "metadata": {
        "id": "7755871b"
      },
      "source": [
        "- use `--return` to control which columns are output, in which order, with what headers\n",
        "- by default `*` is used which means all columns of matching edge(s) are output\n",
        "- use KGTK and SQLite built-in functions to transform output values or compute additional ones\n",
        "- use `distict` to eliminate duplicates\n",
        "- use aggregation function to get counts, max, average, etc."
      ]
    },
    {
      "cell_type": "markdown",
      "id": "7ca3b0fd",
      "metadata": {
        "id": "7ca3b0fd"
      },
      "source": [
        "**Example**\n",
        "- select only the `node1` and `node2` columns by referencing pattern variables `p` and `n`\n",
        "- note, that the result generated here is not valid KGTK (missing `id` and `label`)"
      ]
    },
    {
      "cell_type": "code",
      "execution_count": 27,
      "id": "c2ebb33c",
      "metadata": {
        "id": "c2ebb33c",
        "outputId": "3ff24565-55bc-41c3-a39a-dc86a40ced91",
        "colab": {
          "base_uri": "https://localhost:8080/"
        }
      },
      "outputs": [
        {
          "output_type": "stream",
          "name": "stdout",
          "text": [
            "node1\tnode2\n",
            "a_schwarzenegger\t'Arnold Schwarzenegger'@de\n"
          ]
        }
      ],
      "source": [
        "!kgtk query -i $small_graph \\\n",
        "     --match '(p)-[:name]->(n)' \\\n",
        "     --where 'n =~ \".*(.)\\\\1.*\"' \\\n",
        "     --return 'p, n'"
      ]
    },
    {
      "cell_type": "markdown",
      "id": "f04c5488",
      "metadata": {
        "id": "f04c5488"
      },
      "source": [
        "**Example**\n",
        "- return all columns but switching their order\n",
        "- **Kypher vs. Cypher**: Kypher relation variables such as `r` below\n",
        "  get bound to edge IDs; other components of an edge such as its `label`\n",
        "  can then be access via property syntax such as `r.label`\n",
        "- this query now produces valid KGTK"
      ]
    },
    {
      "cell_type": "code",
      "execution_count": 28,
      "id": "6a07ab49",
      "metadata": {
        "id": "6a07ab49",
        "outputId": "b25a81a0-2d72-4513-b835-ad5d3386e9c3",
        "colab": {
          "base_uri": "https://localhost:8080/"
        }
      },
      "outputs": [
        {
          "output_type": "stream",
          "name": "stdout",
          "text": [
            "node1\tnode2\tid\tlabel\n",
            "a_schwarzenegger\t'Arnold Schwarzenegger'@de\te5\tname\n"
          ]
        }
      ],
      "source": [
        "!kgtk query -i $small_graph \\\n",
        "     --match '(p)-[r:name]->(n)' \\\n",
        "     --where 'n =~ \".*(.)\\\\1.*\"' \\\n",
        "     --return 'p, n, r, r.label'"
      ]
    },
    {
      "cell_type": "markdown",
      "id": "49970cf4",
      "metadata": {
        "id": "49970cf4"
      },
      "source": [
        "**Example**\n",
        "- summarize data via `distinct` to eliminate duplicates"
      ]
    },
    {
      "cell_type": "code",
      "execution_count": 29,
      "id": "6d286af7",
      "metadata": {
        "id": "6d286af7",
        "outputId": "f98fff2c-114a-4545-ce07-1b103ba68cf1",
        "colab": {
          "base_uri": "https://localhost:8080/"
        }
      },
      "outputs": [
        {
          "output_type": "stream",
          "name": "stdout",
          "text": [
            "label\n",
            "coactor\n",
            "colleague\n",
            "name\n",
            "spouse\n"
          ]
        }
      ],
      "source": [
        "!kgtk query -i $small_graph \\\n",
        "     --match '(p)-[r]->(n)' \\\n",
        "     --return 'distinct r.label' \\\n",
        "     --order-by r.label"
      ]
    },
    {
      "cell_type": "markdown",
      "id": "ecd5305b",
      "metadata": {
        "id": "ecd5305b"
      },
      "source": [
        "**Example**\n",
        "- transform data with built-in functions, e.g., change value to lower case"
      ]
    },
    {
      "cell_type": "code",
      "execution_count": 30,
      "id": "fcb5c6f4",
      "metadata": {
        "id": "fcb5c6f4",
        "outputId": "c5507fdd-cae3-4a1a-8ca4-665c155ac255",
        "colab": {
          "base_uri": "https://localhost:8080/"
        }
      },
      "outputs": [
        {
          "output_type": "stream",
          "name": "stdout",
          "text": [
            "node1\tlabel\tlower(graph_1_c1.\"node2\")\tid\n",
            "a_schwarzenegger\tname\t'arnold schwarzenegger'@de\te5\n"
          ]
        }
      ],
      "source": [
        "!kgtk query -i $small_graph \\\n",
        "     --match '(p)-[r:name]->(n)' \\\n",
        "     --where 'n =~ \".*(.)\\\\1.*\"' \\\n",
        "     --return 'p, r.label, lower(n), r'"
      ]
    },
    {
      "cell_type": "markdown",
      "id": "c0d7b19f",
      "metadata": {
        "id": "c0d7b19f"
      },
      "source": [
        "**Example**\n",
        "- specify proper column headers for output values, e.g., designate the transformed value as `node2`"
      ]
    },
    {
      "cell_type": "code",
      "execution_count": null,
      "id": "6ff2aa95",
      "metadata": {
        "id": "6ff2aa95",
        "outputId": "776d7937-ffc1-4f8a-8eab-b73182844c0e",
        "colab": {
          "base_uri": "https://localhost:8080/"
        }
      },
      "outputs": [
        {
          "output_type": "stream",
          "name": "stdout",
          "text": [
            "node1\tlabel\tnode2\tid\n",
            "a_schwarzenegger\tname\t'arnold schwarzenegger'@de\te5\n"
          ]
        }
      ],
      "source": [
        "!kgtk query -i $small_graph \\\n",
        "     --match '(p)-[r:name]->(n)' \\\n",
        "     --where 'n =~ \".*(.)\\\\1.*\"' \\\n",
        "     --return 'p, r.label, lower(n) as node2, r'"
      ]
    },
    {
      "cell_type": "markdown",
      "id": "ffa27b10",
      "metadata": {
        "id": "ffa27b10"
      },
      "source": [
        "**Example**\n",
        "- use KGTK built-in functions to manipulate KGTK values\n",
        "- here we change a symbol to a string (which is a legal `node1` in KGTK data model)"
      ]
    },
    {
      "cell_type": "code",
      "execution_count": 31,
      "id": "da737147",
      "metadata": {
        "id": "da737147",
        "outputId": "60080fa2-a310-4321-c4a1-d4aebf8b86c9",
        "colab": {
          "base_uri": "https://localhost:8080/"
        }
      },
      "outputs": [
        {
          "output_type": "stream",
          "name": "stdout",
          "text": [
            "node1\tlabel\tnode2\tid\n",
            "\"a_schwarzenegger\"\tname\t'Arnold Schwarzenegger'@de\te5\n"
          ]
        }
      ],
      "source": [
        "!kgtk query -i $small_graph \\\n",
        "     --match '(p)-[r:name]->(n)' \\\n",
        "     --where 'n =~ \".*(.)\\\\1.*\"' \\\n",
        "     --return 'kgtk_stringify(p) as node1, r.label, n, r'"
      ]
    },
    {
      "cell_type": "markdown",
      "id": "472d713e",
      "metadata": {
        "id": "472d713e"
      },
      "source": [
        "**Example**\n",
        "- access components of structured literals with property syntax (treat them as *virtual properties*)\n",
        "- but this is just syntactic sugar for calling the KGTK function\n",
        "- extra output column is named with column path syntax (`lang` of `node2`)\n",
        "- special characters need to be backtick-quoted"
      ]
    },
    {
      "cell_type": "code",
      "execution_count": 32,
      "id": "afd031b8",
      "metadata": {
        "lines_to_next_cell": 2,
        "id": "afd031b8",
        "outputId": "2993a6cf-6d30-4a94-8c77-daa29dd4a96f",
        "colab": {
          "base_uri": "https://localhost:8080/"
        }
      },
      "outputs": [
        {
          "output_type": "stream",
          "name": "stdout",
          "text": [
            "id\tnode1\tlabel\tnode2\tnode2;lang\n",
            "e5\ta_schwarzenegger\tname\t'arnold schwarzenegger'@de\tde\n"
          ]
        }
      ],
      "source": [
        "!kgtk query -i $small_graph \\\n",
        "     --match '(p)-[r:name]->(n)' \\\n",
        "     --where 'kgtk_lqstring(n) and n.kgtk_lqstring_lang != \"en\"' \\\n",
        "     --return 'r, p, r.label, lower(n) as node2, n.kgtk_lqstring_lang as `node2;lang`'"
      ]
    },
    {
      "cell_type": "markdown",
      "id": "e65fa69d",
      "metadata": {
        "id": "e65fa69d"
      },
      "source": [
        "## Querying connected edges through graph patterns"
      ]
    },
    {
      "cell_type": "markdown",
      "id": "c5f8938d",
      "metadata": {
        "id": "c5f8938d"
      },
      "source": [
        "- in KGs  we will often want to combine multiple edges into a query\n",
        "- connection could be within a graph or across graphs or both\n",
        "- in database parlance this is generally called a *join*\n",
        "- in Kypher (or Cypher) we can express such queries very concisely using graph patterns\n",
        "- this ASCII pattern language is probably the single-most useful aspect of K/Cypher\n",
        "- for example, find colleagues and their names:"
      ]
    },
    {
      "cell_type": "code",
      "execution_count": 33,
      "id": "a25f411b",
      "metadata": {
        "id": "a25f411b",
        "outputId": "f5905e0c-9de5-4e63-afd9-2015ce0c1fd0",
        "colab": {
          "base_uri": "https://localhost:8080/"
        }
      },
      "outputs": [
        {
          "output_type": "stream",
          "name": "stdout",
          "text": [
            "id\tnode1\tlabel\tnode2\n",
            "e3\t'Gary R. Rydstrom'@en\tcolleague\t'Gloria S. Borders'@en\n",
            "e4\t'Gary R. Rydstrom'@en\tcolleague\t'Arnold Schwarzenegger'@de\n"
          ]
        }
      ],
      "source": [
        "!kgtk query -i $small_graph \\\n",
        "     --match '(na)<-[:name]-(a)-[r:colleague]->(b)-[:name]->(nb)' \\\n",
        "     --return 'r, na as node1, r.label, nb as node2'"
      ]
    },
    {
      "cell_type": "markdown",
      "id": "0ace1986",
      "metadata": {
        "id": "0ace1986"
      },
      "source": [
        "**Example**\n",
        "- combine path patterns with `--where` expression for more elaborate filtering\n",
        "- below we select starting edges where at least one of the nodes has a German name"
      ]
    },
    {
      "cell_type": "code",
      "execution_count": 34,
      "id": "955b4593",
      "metadata": {
        "id": "955b4593",
        "outputId": "6871e9a9-ea74-4603-fda6-ada8b4760da7",
        "colab": {
          "base_uri": "https://localhost:8080/"
        }
      },
      "outputs": [
        {
          "output_type": "stream",
          "name": "stdout",
          "text": [
            "id\tnode1\tlabel\tnode2\n",
            "e4\t'Gary R. Rydstrom'@en\tcolleague\t'Arnold Schwarzenegger'@de\n"
          ]
        }
      ],
      "source": [
        "!kgtk query -i $small_graph \\\n",
        "     --match '(na)<-[:name]-(a)-[r:colleague]->(b)-[:name]->(nb)' \\\n",
        "     --where 'na.kgtk_lqstring_lang = \"de\" OR nb.kgtk_lqstring_lang = \"de\"' \\\n",
        "     --return 'r, na as node1, r.label, nb as node2'"
      ]
    },
    {
      "cell_type": "markdown",
      "id": "3b6840fc",
      "metadata": {
        "id": "3b6840fc"
      },
      "source": [
        "**Example**\n",
        "- it is good practice to only name pattern variables that are actually needed and leave others anonymous"
      ]
    },
    {
      "cell_type": "code",
      "execution_count": 35,
      "id": "09fdf20d",
      "metadata": {
        "lines_to_next_cell": 2,
        "id": "09fdf20d",
        "outputId": "11e42626-0ae9-494d-ba33-5e74ae3d95f0",
        "colab": {
          "base_uri": "https://localhost:8080/"
        }
      },
      "outputs": [
        {
          "output_type": "stream",
          "name": "stdout",
          "text": [
            "id\tnode1\tlabel\tnode2\n",
            "e3\t'Gary R. Rydstrom'@en\tcolleague\t'Gloria S. Borders'@en\n",
            "e4\t'Gary R. Rydstrom'@en\tcolleague\t'Arnold Schwarzenegger'@de\n"
          ]
        }
      ],
      "source": [
        "!kgtk query -i $small_graph \\\n",
        "     --match '(na)<-[:name]-()-[r:colleague]->()-[:name]->(nb)' \\\n",
        "     --return 'r, na as node1, r.label, nb as node2'"
      ]
    },
    {
      "cell_type": "markdown",
      "id": "4ec2f765",
      "metadata": {
        "id": "4ec2f765"
      },
      "source": [
        "## Querying connected edges across multiple graphs"
      ]
    },
    {
      "cell_type": "markdown",
      "id": "8061cef7",
      "metadata": {
        "id": "8061cef7"
      },
      "source": [
        "- Kypher can combine information from different graphs described in separate KGTK files\n",
        "- allows one to mix and match information, or to organize data into different logical parts\n",
        "- to query multiple graphs we need to specify two or more input files\n",
        "- *graph variables* are used to associate pattern clauses with the graph they apply to\n",
        "- for graphs to connect they need to have some node or edge IDs in common\n",
        "- **Kypher vs. Cypher*: Cypher does not address multi-graph queries\n",
        "- to illustrate this we use a second example graph of film data shown here:"
      ]
    },
    {
      "cell_type": "code",
      "execution_count": null,
      "id": "98faf82c",
      "metadata": {
        "id": "98faf82c",
        "outputId": "4aa7c0b5-5b8d-4bac-b790-0a5ea86ec188",
        "colab": {
          "base_uri": "https://localhost:8080/"
        }
      },
      "outputs": [
        {
          "output_type": "stream",
          "name": "stdout",
          "text": [
            "/root/isi-kgtk-tutorial/tutorial-kypher_input/small-films.tsv\n"
          ]
        }
      ],
      "source": [
        "!echo $small_films"
      ]
    },
    {
      "cell_type": "code",
      "execution_count": null,
      "id": "2834c11b",
      "metadata": {
        "id": "2834c11b",
        "outputId": "bb6104a0-2ae7-4e7e-9f9b-dd2a0faebece",
        "colab": {
          "base_uri": "https://localhost:8080/"
        }
      },
      "outputs": [
        {
          "output_type": "stream",
          "name": "stdout",
          "text": [
            "id\tnode1\tlabel\tnode2\n",
            "t1\tterminator2_jd\tname\t'Terminator 2'@en\n",
            "t2\tterminator2_jd\tinstance_of\tfilm\n",
            "t3\tterminator2_jd\tgenre\tscience_fiction\n",
            "t4\tterminator2_jd\tgenre\taction\n",
            "t5\tterminator2_jd\tcast\ta_schwarzenegger\n",
            "t6\tterminator2_jd\tcast\tl_hamilton\n",
            "t7\tterminator2_jd\tcrew\tg_rydstrom\n",
            "t8\tterminator2_jd\tcrew\tg_borders\n",
            "t9\tterminator2_jd\taward\tacademy-best-sound-editing\n",
            "t10\tterminator2_jd\tpublication_date\t^1991-07-03T00:00:00Z/11\n",
            "t11\tterminator2_jd\tpublication_date\t^1995-07-01T00:00:00Z/11\n",
            "t12\tfilm\tsubclass_of\tvisual_artwork\n",
            "t13\ts_connor\tname\t'Sarah Connor'@en\n",
            "t14\tterminator\tname\t'Terminator'@en\n"
          ]
        }
      ],
      "source": [
        "!kgtk query -i $small_films --match '()-[]->()'"
      ]
    },
    {
      "cell_type": "markdown",
      "id": "a5b19871",
      "metadata": {
        "id": "a5b19871"
      },
      "source": [
        "**Example**\n",
        "- let's query for people whose spouse is a film actor\n",
        "- a graph variable followed by `:` means all clauses following it are to be applied to that graph,\n",
        "  until overridden by another graph variable\n",
        "- graph variables are matched to input files in a simple greedy matching scheme (see manual),\n",
        "  for example, here we use a substring of each input file name\n",
        "- multiple edges in the pattern are separated by commas to allow for graph switching"
      ]
    },
    {
      "cell_type": "code",
      "execution_count": 36,
      "id": "3100a084",
      "metadata": {
        "id": "3100a084",
        "outputId": "498af198-255e-43e5-b65c-15b54a3d4c2f",
        "colab": {
          "base_uri": "https://localhost:8080/"
        }
      },
      "outputs": [
        {
          "output_type": "stream",
          "name": "stdout",
          "text": [
            "id\tnode1\tlabel\tnode2\tnode2;acted_in\n",
            "e1\tm_shriver\tspouse\ta_schwarzenegger\tterminator2_jd\n"
          ]
        }
      ],
      "source": [
        "!kgtk query -i $small_graph -i $small_films \\\n",
        "     --match 'graph: (x)-[r:spouse]->(y), \\\n",
        "              films: (y)<-[:cast]-(f)-[:instance_of]->(:film)' \\\n",
        "     --return 'r, x, r.label, y, f as `node2;acted_in`'"
      ]
    },
    {
      "cell_type": "markdown",
      "id": "86f272e7",
      "metadata": {
        "id": "86f272e7"
      },
      "source": [
        "**Example**\n",
        "- let's further restrict that the acting had to be done before 1985"
      ]
    },
    {
      "cell_type": "code",
      "execution_count": 37,
      "id": "1fb135c4",
      "metadata": {
        "lines_to_next_cell": 2,
        "id": "1fb135c4",
        "outputId": "f303e429-9a9e-4e93-aa3a-4b488f380294",
        "colab": {
          "base_uri": "https://localhost:8080/"
        }
      },
      "outputs": [
        {
          "output_type": "stream",
          "name": "stdout",
          "text": [
            "id\tnode1\tlabel\tnode2\tnode2;acted_in\tnode2;acted_when\n",
            "e1\tm_shriver\tspouse\ta_schwarzenegger\tterminator2_jd\t^1991-07-03T00:00:00Z/11\n"
          ]
        }
      ],
      "source": [
        "!kgtk query -i $small_graph -i $small_films \\\n",
        "     --match 'graph: (x)-[r:spouse]->(y), \\\n",
        "              films: (y)<-[:cast]-(f)-[:instance_of]->(:film), \\\n",
        "                     (f)-[:publication_date]->(d)' \\\n",
        "     --where 'd < \"^1995\"' \\\n",
        "     --return 'r, x, r.label, y, f as `node2;acted_in`, d as `node2;acted_when`'"
      ]
    },
    {
      "cell_type": "markdown",
      "id": "040183db",
      "metadata": {
        "id": "040183db"
      },
      "source": [
        "## Aggregation"
      ]
    },
    {
      "cell_type": "markdown",
      "id": "878f3af7",
      "metadata": {
        "id": "878f3af7"
      },
      "source": [
        "- similar to SQL and Cypher, Kypher supports aggregation functions such\n",
        "  as `count`, `min`, `max`, `avg`, etc.\n",
        "- one of the simplest and most frequently used operations is counting rows via `count`"
      ]
    },
    {
      "cell_type": "markdown",
      "id": "3a27616e",
      "metadata": {
        "id": "3a27616e"
      },
      "source": [
        "**Example**\n",
        "- count how many edges have `terminator2_jd` as their starting node"
      ]
    },
    {
      "cell_type": "code",
      "execution_count": 38,
      "id": "d093572e",
      "metadata": {
        "id": "d093572e",
        "outputId": "15fd3e84-b92e-42d1-8662-b7fd01766378",
        "colab": {
          "base_uri": "https://localhost:8080/"
        }
      },
      "outputs": [
        {
          "output_type": "stream",
          "name": "stdout",
          "text": [
            "N\n",
            "11\n"
          ]
        }
      ],
      "source": [
        "!kgtk query -i $small_films \\\n",
        "     --match '(:terminator2_jd)-[r]->()' \\\n",
        "     --return 'count(r) as N'"
      ]
    },
    {
      "cell_type": "markdown",
      "id": "c24a502d",
      "metadata": {
        "id": "c24a502d"
      },
      "source": [
        "**Example**\n",
        "- counts may include duplicate values (every selected edge will be counted)\n",
        "- we can use `distinct` keyword as the first argument to `count` (or any aggregation function) to exclude duplicates"
      ]
    },
    {
      "cell_type": "code",
      "execution_count": 39,
      "id": "3d5e4e83",
      "metadata": {
        "id": "3d5e4e83",
        "outputId": "1351e13c-e005-4cac-a54e-e4a16c620d43",
        "colab": {
          "base_uri": "https://localhost:8080/"
        }
      },
      "outputs": [
        {
          "output_type": "stream",
          "name": "stdout",
          "text": [
            "N\n",
            "7\n"
          ]
        }
      ],
      "source": [
        "!kgtk query -i $small_films \\\n",
        "     --match '(:terminator2_jd)-[r]->()' \\\n",
        "     --return 'count(distinct r.label) as N'"
      ]
    },
    {
      "cell_type": "markdown",
      "id": "838358eb",
      "metadata": {
        "id": "838358eb"
      },
      "source": [
        "**Example**\n",
        "- Kypher does not have an explicit `group by` clause (different from SPARQL or SQL)\n",
        "- grouping is inferred from clause type and order in the `return` statement\n",
        "  and sorts rows into into groups before an aggregation operation is applied to each group\n",
        "- below we group by relation label and then select the maximum `node2` for each label (lexicographically)"
      ]
    },
    {
      "cell_type": "code",
      "execution_count": 40,
      "id": "28935f79",
      "metadata": {
        "id": "28935f79",
        "outputId": "65342275-08a9-4f58-b16f-24a7156ecedc",
        "colab": {
          "base_uri": "https://localhost:8080/"
        }
      },
      "outputs": [
        {
          "output_type": "stream",
          "name": "stdout",
          "text": [
            "label\tnode2\tnode1\tid\n",
            "award\tacademy-best-sound-editing\tterminator2_jd\tt9\n",
            "cast\tl_hamilton\tterminator2_jd\tt6\n",
            "crew\tg_rydstrom\tterminator2_jd\tt7\n",
            "genre\tscience_fiction\tterminator2_jd\tt3\n",
            "instance_of\tfilm\tterminator2_jd\tt2\n",
            "name\t'Terminator'@en\tterminator\tt14\n",
            "publication_date\t^1995-07-01T00:00:00Z/11\tterminator2_jd\tt11\n",
            "subclass_of\tvisual_artwork\tfilm\tt12\n"
          ]
        }
      ],
      "source": [
        "!kgtk query -i $small_films \\\n",
        "     --match '(x)-[r]->(y)' \\\n",
        "     --return 'r.label, max(y) as node2, x, r'"
      ]
    },
    {
      "cell_type": "markdown",
      "id": "bc9ea6c6",
      "metadata": {
        "lines_to_next_cell": 2,
        "id": "bc9ea6c6"
      },
      "source": [
        "**Mildly tricky**: the query applied the `max` function to groups of\n",
        "result rows where `r.label` had the same value.  But for this to\n",
        "work we had to move the other output variables `x` and `r` to the\n",
        "end, otherwise they would have been the grouping criterion (that's\n",
        "the drawback of implicit grouping)."
      ]
    },
    {
      "cell_type": "markdown",
      "id": "f35835f3",
      "metadata": {
        "id": "f35835f3"
      },
      "source": [
        "## Optional match"
      ]
    },
    {
      "cell_type": "markdown",
      "id": "9e44058a",
      "metadata": {
        "id": "9e44058a"
      },
      "source": [
        "- real-world KGs often only have partial coverage of certain relations\n",
        "- for example, not every node might have a name or label\n",
        "- Kypher's optional match patterns can be used to hande incomplete information,\n",
        "  since they are allowed to fail and will generate NULL values for such cases\n",
        "- each Kypher query must have exactly one strict `--match` clause and\n",
        "  can have zero or more optional match clauses introduced by `--opt`\n",
        "- **Kypher vs. Cypher**: this is more than Cypher which can have any\n",
        "  number of strict and/or optional patterns in any order\n",
        "- each strict and optional match clause can have its own `--where` clause\n",
        "- below we sometimes use a third graph of edge qualifiers shown here:"
      ]
    },
    {
      "cell_type": "code",
      "execution_count": null,
      "id": "16ad326b",
      "metadata": {
        "id": "16ad326b",
        "outputId": "8a5a3db5-5645-4374-ab8d-1732574f5728",
        "colab": {
          "base_uri": "https://localhost:8080/"
        }
      },
      "outputs": [
        {
          "output_type": "stream",
          "name": "stdout",
          "text": [
            "/root/isi-kgtk-tutorial/tutorial-kypher_input/small-quals.tsv\n"
          ]
        }
      ],
      "source": [
        "!echo $small_quals"
      ]
    },
    {
      "cell_type": "code",
      "execution_count": 41,
      "id": "11b32803",
      "metadata": {
        "id": "11b32803",
        "outputId": "e1d0ea98-6796-4fa2-dd2e-dcf1909b5a6a",
        "colab": {
          "base_uri": "https://localhost:8080/"
        }
      },
      "outputs": [
        {
          "output_type": "stream",
          "name": "stdout",
          "text": [
            "id\tnode1\tlabel\tnode2\n",
            "q1\tt5\trole\tterminator\n",
            "q2\tt6\trole\ts_connor\n",
            "q3\tt9\tpoint_in_time\t^1992-03-30T00:00:00Z/11\n",
            "q4 \tt9\twinner\tg_rydstrom\n",
            "q5 \tt9\twinner\tg_borders\n",
            "q6 \tt10\tlocation\tunited_states\n",
            "q8 \tt11\tlocation\trussia\n",
            "q9\te1\tstart\t^1986-04-26T08:00:00Z/11\n",
            "q10\te1\tend\t^2011-07-01T10:00:00Z/11\n"
          ]
        }
      ],
      "source": [
        "!kgtk query -i $small_quals"
      ]
    },
    {
      "cell_type": "markdown",
      "id": "d774227d",
      "metadata": {
        "id": "d774227d"
      },
      "source": [
        "**Example**\n",
        "- start with a strict query to find people associated with a movie and\n",
        "  any awards they may have won"
      ]
    },
    {
      "cell_type": "code",
      "execution_count": 42,
      "id": "d1cea397",
      "metadata": {
        "id": "d1cea397",
        "outputId": "0e34857a-2d3f-4cfe-8cae-a6123b1ed92a",
        "colab": {
          "base_uri": "https://localhost:8080/"
        }
      },
      "outputs": [
        {
          "output_type": "stream",
          "name": "stdout",
          "text": [
            "person\tfilm\taward\n",
            "g_rydstrom\tterminator2_jd\tacademy-best-sound-editing\n",
            "g_borders\tterminator2_jd\tacademy-best-sound-editing\n"
          ]
        }
      ],
      "source": [
        "!kgtk query -i $small_graph -i $small_films -i $small_quals \\\n",
        "     --match  'graph: (p)-[:name]->(), \\\n",
        "               films: (f)-[:instance_of]->(:film), (f)-[]->(p), (f)-[ra:award]->(a), \\\n",
        "               quals: (ra)-[:winner]->(p)' \\\n",
        "     --return 'p as person, f as film, a as award'"
      ]
    },
    {
      "cell_type": "markdown",
      "id": "3f394b5d",
      "metadata": {
        "id": "3f394b5d"
      },
      "source": [
        "- result only lists some of the people, since not all participants won awards\n",
        "- this makes us miss some potentially useful data\n",
        "- to make sure we retrieve all people associated with a movie and optionally\n",
        "  any awards they may have received, we can use this query:"
      ]
    },
    {
      "cell_type": "code",
      "execution_count": 43,
      "id": "7a03c50b",
      "metadata": {
        "id": "7a03c50b",
        "outputId": "0b2c421a-fe81-415c-a551-00f13c3145c0",
        "colab": {
          "base_uri": "https://localhost:8080/"
        }
      },
      "outputs": [
        {
          "output_type": "stream",
          "name": "stdout",
          "text": [
            "person\tfilm\taward\n",
            "a_schwarzenegger\tterminator2_jd\t\n",
            "l_hamilton\tterminator2_jd\t\n",
            "g_rydstrom\tterminator2_jd\tacademy-best-sound-editing\n",
            "g_borders\tterminator2_jd\tacademy-best-sound-editing\n"
          ]
        }
      ],
      "source": [
        "!kgtk query -i $small_graph -i $small_films -i $small_quals \\\n",
        "     --match  'graph: (p)-[:name]->(), \\\n",
        "               films: (f)-[:instance_of]->(:film), (f)-[]->(p)' \\\n",
        "     --opt    'films: (f)-[ra:award]->(a), \\\n",
        "               quals: (ra)-[:winner]->(p)' \\\n",
        "     --return 'p as person, f as film, a as award'"
      ]
    },
    {
      "cell_type": "markdown",
      "id": "edf97278",
      "metadata": {
        "id": "edf97278"
      },
      "source": [
        "- now we get all relevant people and missing awards are simply empty (or NULL)\n",
        "- note how edge qualifiers associate information to an edge ID (e.g., the winner of an award)\n",
        "- optional patterns are either fully satisfied for a set of bindings, or not at all,\n",
        "  there are no partial matches"
      ]
    },
    {
      "cell_type": "markdown",
      "id": "5d1ab442",
      "metadata": {
        "id": "5d1ab442"
      },
      "source": [
        "**Example**\n",
        "- multiple independent optional clauses to also get spouses and to filter awards\n",
        "  after 1990"
      ]
    },
    {
      "cell_type": "code",
      "execution_count": null,
      "id": "20da4b70",
      "metadata": {
        "id": "20da4b70",
        "outputId": "af062c58-5812-4ded-b5e6-27c36a14f5f3",
        "colab": {
          "base_uri": "https://localhost:8080/"
        }
      },
      "outputs": [
        {
          "output_type": "stream",
          "name": "stdout",
          "text": [
            "person\tfilm\taward\tspouse\n",
            "a_schwarzenegger\tterminator2_jd\t\tm_shriver\n",
            "l_hamilton\tterminator2_jd\t\t\n",
            "g_rydstrom\tterminator2_jd\tacademy-best-sound-editing\t\n",
            "g_borders\tterminator2_jd\tacademy-best-sound-editing\t\n"
          ]
        }
      ],
      "source": [
        "!kgtk query -i $small_graph -i $small_films -i $small_quals \\\n",
        "     --match  'graph: (p)-[:name]->(), \\\n",
        "               films: (f)-[:instance_of]->(:film), (f)-[]->(p)' \\\n",
        "     --opt    'films: (f)-[ra:award]->(a), \\\n",
        "               quals: (ra)-[:winner]->(p), (ra)-[:point_in_time]->(ad)' \\\n",
        "     --where  'ad >= 1990' \\\n",
        "     --opt    'graph: (s)-[:spouse]->(p)' \\\n",
        "     --return 'p as person, f as film, a as award, s as spouse'"
      ]
    },
    {
      "cell_type": "markdown",
      "id": "3d137982",
      "metadata": {
        "id": "3d137982"
      },
      "source": [
        "**Example**\n",
        "- compare that to the SQL produced"
      ]
    },
    {
      "cell_type": "code",
      "execution_count": null,
      "id": "e04ba8cf",
      "metadata": {
        "id": "e04ba8cf",
        "outputId": "428f8711-f7c8-4cc6-ad00-482b2d1def41",
        "colab": {
          "base_uri": "https://localhost:8080/"
        }
      },
      "outputs": [
        {
          "output_type": "stream",
          "name": "stdout",
          "text": [
            "[2022-03-19 01:00:00 query]: SQL Translation:\n",
            "---------------------------------------------\n",
            "  SELECT graph_1_c1.\"node1\" \"_aLias.person\", graph_2_c2.\"node1\" \"_aLias.film\", graph_2_c4.\"node2\" \"_aLias.award\", graph_1_c7.\"node1\" \"_aLias.spouse\"\n",
            "     FROM graph_1 AS graph_1_c1\n",
            "     INNER JOIN graph_2 AS graph_2_c2, graph_2 AS graph_2_c3\n",
            "     ON graph_1_c1.\"node1\" = graph_2_c3.\"node2\"\n",
            "        AND graph_2_c2.\"node1\" = graph_2_c3.\"node1\"\n",
            "        AND graph_1_c1.\"label\" = ?\n",
            "        AND graph_2_c2.\"label\" = ?\n",
            "        AND graph_2_c2.\"node2\" = ?\n",
            "     LEFT JOIN (graph_2 AS graph_2_c4\n",
            "         INNER JOIN graph_3 AS graph_3_c5, graph_3 AS graph_3_c6\n",
            "         ON graph_2_c4.\"id\" = graph_3_c5.\"node1\"\n",
            "            AND graph_2_c4.\"id\" = graph_3_c6.\"node1\"\n",
            "            AND graph_2_c4.\"label\" = ?\n",
            "            AND graph_3_c5.\"label\" = ?\n",
            "            AND graph_3_c6.\"label\" = ?\n",
            "            AND (graph_3_c6.\"node2\" >= ?))\n",
            "     ON graph_1_c1.\"node1\" = graph_3_c5.\"node2\"\n",
            "        AND graph_2_c2.\"node1\" = graph_2_c4.\"node1\"\n",
            "     LEFT JOIN graph_1 AS graph_1_c7\n",
            "     ON graph_1_c1.\"node1\" = graph_1_c7.\"node2\"\n",
            "        AND graph_1_c7.\"label\" = ?\n",
            "  PARAS: ['name', 'instance_of', 'film', 'award', 'winner', 'point_in_time', 1990, 'spouse']\n",
            "---------------------------------------------\n",
            "person\tfilm\taward\tspouse\n",
            "a_schwarzenegger\tterminator2_jd\t\tm_shriver\n",
            "l_hamilton\tterminator2_jd\t\t\n",
            "g_rydstrom\tterminator2_jd\tacademy-best-sound-editing\t\n",
            "g_borders\tterminator2_jd\tacademy-best-sound-editing\t\n"
          ]
        }
      ],
      "source": [
        "!kgtk --debug query -i $small_graph -i $small_films -i $small_quals \\\n",
        "     --match  'graph: (p)-[:name]->(), \\\n",
        "               films: (f)-[:instance_of]->(:film), (f)-[]->(p)' \\\n",
        "     --opt    'films: (f)-[ra:award]->(a), \\\n",
        "               quals: (ra)-[:winner]->(p), (ra)-[:point_in_time]->(ad)' \\\n",
        "     --where  'ad >= 1990' \\\n",
        "     --opt    'graph: (s)-[:spouse]->(p)' \\\n",
        "     --return 'p as person, f as film, a as award, s as spouse'"
      ]
    },
    {
      "cell_type": "markdown",
      "id": "8b7017cf",
      "metadata": {
        "lines_to_next_cell": 2,
        "id": "8b7017cf"
      },
      "source": [
        "- see the manual for more examples\n",
        "- e.g., how to do `NOT EXISTS` with an optional clause"
      ]
    },
    {
      "cell_type": "markdown",
      "id": "27883225",
      "metadata": {
        "id": "27883225"
      },
      "source": [
        "## Full-text search"
      ]
    },
    {
      "cell_type": "markdown",
      "id": "17fc223a",
      "metadata": {
        "id": "17fc223a"
      },
      "source": [
        "- Kypher supports efficient full-text search over large graph data via SQLite's FTS5 module\n",
        "- matching uses specialized indexes which can be created easily and efficiently"
      ]
    },
    {
      "cell_type": "markdown",
      "id": "bd6efd32",
      "metadata": {
        "id": "bd6efd32"
      },
      "source": [
        "**Example**\n",
        "- we define a text index on the `node2` column of `GRAPH` and then use `textmatch` to match against `node2` values\n",
        "- multiple indexes can be defined on the same graph column, we can provide names to disambiguate\n",
        "- **minor caveat**: use of an older Python version requires us to provide extra index definition options,\n",
        "  since the default `trigram` tokenizer is currently only supported in Python 3.9 or later\n",
        "- match scores are negative with the best being the smallest (most negative) "
      ]
    },
    {
      "cell_type": "code",
      "execution_count": 44,
      "id": "d00ef3eb",
      "metadata": {
        "id": "d00ef3eb"
      },
      "outputs": [],
      "source": [
        "!rm -f $KGTK_GRAPH_CACHE  # bug workaround"
      ]
    },
    {
      "cell_type": "code",
      "execution_count": 45,
      "id": "b5280356",
      "metadata": {
        "lines_to_next_cell": 2,
        "id": "b5280356",
        "outputId": "7220b609-710e-437d-b51a-3e49f811fa9c",
        "colab": {
          "base_uri": "https://localhost:8080/"
        }
      },
      "outputs": [
        {
          "output_type": "stream",
          "name": "stdout",
          "text": [
            "node1\tlabel\tnode2\tscore\n",
            "m_shriver\tspouse\ta_schwarzenegger\t-0.6991202559002525\n",
            "g_rydstrom\tcolleague\ta_schwarzenegger\t-0.6991202559002525\n",
            "a_schwarzenegger\tname\t'Arnold Schwarzenegger'@de\t-0.5994217687032093\n"
          ]
        }
      ],
      "source": [
        "!kgtk query -i $small_graph --idx auto text:node2//name=myidx//tokenize=ascii//prefix=3 \\\n",
        "     --match '(x)-[r]->(y)' \\\n",
        "     --where 'textmatch(y, \"sch*\")' \\\n",
        "     --return 'x, r.label, y, matchscore(y) as score' \\\n",
        "     --order 'score'"
      ]
    },
    {
      "cell_type": "markdown",
      "id": "c723779c",
      "metadata": {
        "id": "c723779c"
      },
      "source": [
        "**Example**\n",
        "- `textmatch` patterns use a phrase-based language that allows\n",
        "  multi-word phrases, Boolean expressions, multi-column expressions, suffix patterns, etc. (see manual)\n",
        "- here is an example of a Boolean expression\n",
        "- note that the index only needs to be specified the first time around, repeating it is a no-op"
      ]
    },
    {
      "cell_type": "code",
      "execution_count": 46,
      "id": "8824450f",
      "metadata": {
        "id": "8824450f",
        "outputId": "a8e97f78-cab9-4cbe-8b5c-ca2f3399d230",
        "colab": {
          "base_uri": "https://localhost:8080/"
        }
      },
      "outputs": [
        {
          "output_type": "stream",
          "name": "stdout",
          "text": [
            "node1\tlabel\tnode2\tscore\n",
            "l_hamilton\tname\t'Linda Hamilton'@en\t-1.6796313036328494\n",
            "m_shriver\tspouse\ta_schwarzenegger\t-0.6991202559002525\n",
            "g_rydstrom\tcolleague\ta_schwarzenegger\t-0.6991202559002525\n",
            "a_schwarzenegger\tname\t'Arnold Schwarzenegger'@de\t-0.5994217687032093\n"
          ]
        }
      ],
      "source": [
        "!kgtk query -i $small_graph \\\n",
        "     --match '(x)-[r]->(y)' \\\n",
        "     --where 'textmatch(y, \"sch* OR linda\")' \\\n",
        "     --return 'x, r.label, y, matchscore(y) as score' \\\n",
        "     --order 'score'"
      ]
    },
    {
      "cell_type": "markdown",
      "id": "766202b2",
      "metadata": {
        "id": "766202b2"
      },
      "source": [
        "The `trigram` tokenizer (available with Python 3.9) also supports\n",
        "case-insensitive SQL `LIKE` patterns and case-sensitive `GLOB`\n",
        "patterns (see manual)."
      ]
    },
    {
      "cell_type": "markdown",
      "id": "84bc14e9",
      "metadata": {
        "id": "84bc14e9"
      },
      "source": [
        "**Example**\n",
        "- text indexes can be qualified with their name to select between multiple options"
      ]
    },
    {
      "cell_type": "code",
      "execution_count": null,
      "id": "c21dada9",
      "metadata": {
        "id": "c21dada9",
        "outputId": "6d36989f-4290-44ef-f83e-05d8437e2df5",
        "colab": {
          "base_uri": "https://localhost:8080/"
        }
      },
      "outputs": [
        {
          "output_type": "stream",
          "name": "stdout",
          "text": [
            "node1\tlabel\tnode2\tscore\n",
            "m_shriver\tspouse\ta_schwarzenegger\t-0.6991202559002525\n",
            "g_rydstrom\tcolleague\ta_schwarzenegger\t-0.6991202559002525\n",
            "a_schwarzenegger\tname\t'Arnold Schwarzenegger'@de\t-0.5994217687032093\n"
          ]
        }
      ],
      "source": [
        "!kgtk query -i $small_graph \\\n",
        "     --match '(x)-[r]->(y)' \\\n",
        "     --where 'textmatch(myidx.y, \"schw*\")' \\\n",
        "     --return 'x, r.label, y, matchscore(myidx.y) as score' \\\n",
        "     --order 'score'"
      ]
    },
    {
      "cell_type": "markdown",
      "id": "515437d9",
      "metadata": {
        "id": "515437d9"
      },
      "source": [
        "**Example**\n",
        "- a text index may index more than one column\n",
        "- then the text match expression can use column-specific filters"
      ]
    },
    {
      "cell_type": "code",
      "execution_count": null,
      "id": "e223c619",
      "metadata": {
        "id": "e223c619",
        "outputId": "e7313ef8-8749-4110-baf0-8ac98c38520c",
        "colab": {
          "base_uri": "https://localhost:8080/"
        }
      },
      "outputs": [
        {
          "output_type": "stream",
          "name": "stdout",
          "text": [
            "node1\tlabel\tnode2\tscore\n",
            "g_rydstrom\tcolleague\tg_borders\t-1.391983808592556\n",
            "g_borders\tname\t'Gloria S. Borders'@en\t-1.1761930172126576\n"
          ]
        }
      ],
      "source": [
        "!kgtk query -i $small_graph --idx auto text:node1,node2//name=multi//tokenize=ascii//prefix=3 \\\n",
        "     --match '(x)-[r]->(y)' \\\n",
        "     --where 'textmatch(multi.r, \"node1: g* AND node2 : borders\")' \\\n",
        "     --return 'x, r.label, y, matchscore(multi.r) as score' \\\n",
        "     --order 'score'"
      ]
    },
    {
      "cell_type": "code",
      "execution_count": null,
      "id": "aa5b9961",
      "metadata": {
        "lines_to_next_cell": 2,
        "id": "aa5b9961",
        "outputId": "53ca7c8a-ceec-4f98-cad1-f294de6896ad",
        "colab": {
          "base_uri": "https://localhost:8080/"
        }
      },
      "outputs": [
        {
          "output_type": "stream",
          "name": "stdout",
          "text": [
            "node1\tlabel\tnode2\tscore\n",
            "g_rydstrom\tcolleague\ta_schwarzenegger\t-0.2149880837001077\n",
            "g_rydstrom\tname\t'Gary R. Rydstrom'@en\t-0.18165978747100012\n"
          ]
        }
      ],
      "source": [
        "!kgtk query -i $small_graph \\\n",
        "     --match '(x)-[r]->(y)' \\\n",
        "     --where 'textmatch(multi.r, \"node1: g* NOT node2 : borders\")' \\\n",
        "     --return 'x, r.label, y, matchscore(multi.r) as score' \\\n",
        "     --order 'score'"
      ]
    },
    {
      "cell_type": "markdown",
      "id": "f639e370",
      "metadata": {
        "id": "f639e370"
      },
      "source": [
        "## Input and output specification options"
      ]
    },
    {
      "cell_type": "markdown",
      "id": "6d2198c1",
      "metadata": {
        "id": "6d2198c1"
      },
      "source": [
        "```\n",
        "  -i INPUT_FILE [INPUT_FILE ...], --input-files INPUT_FILE [INPUT_FILE ...]\n",
        "                        One or more input files to query (maybe compressed).\n",
        "                        (Required, use '-' for stdin.)\n",
        "  --as NAME             alias name to be used for preceding input\n",
        "  --comment COMMENT     comment string to store for the preceding input\n",
        "                        (displayed by --show-cache)\n",
        "  --no-header           do not generate a header row with column names\n",
        "  -o OUTPUT, --out OUTPUT\n",
        "                        output file to write to, if `-' (the default) output\n",
        "                        goes to stdout. Files with extensions .gz, .bz2 or .xz\n",
        "                        will be appropriately compressed.\n",
        "```"
      ]
    },
    {
      "cell_type": "markdown",
      "id": "ef7fdcd3",
      "metadata": {
        "id": "ef7fdcd3"
      },
      "source": [
        "**Example**"
      ]
    },
    {
      "cell_type": "code",
      "execution_count": null,
      "id": "7fb32f69",
      "metadata": {
        "lines_to_next_cell": 2,
        "id": "7fb32f69"
      },
      "outputs": [],
      "source": [
        "!kgtk query -i $small_graph -i $small_films --as works --comment 'Film information' --no-header \\\n",
        "     --match 'graph: (x)-[]->(y), works: (f)-[r]->(x)' \\\n",
        "     --return 'r, f, r.label, x' \\\n",
        "     -o $TEMP/example-query.tsv.gz"
      ]
    },
    {
      "cell_type": "markdown",
      "id": "e62f7dca",
      "metadata": {
        "id": "e62f7dca"
      },
      "source": [
        "## Graph cache"
      ]
    },
    {
      "cell_type": "markdown",
      "id": "ed49d72e",
      "metadata": {
        "id": "ed49d72e"
      },
      "source": [
        "- when input files are queries they are first imported into SQLite database tables\n",
        "- this is very fast but can be noticable for larger data\n",
        "- import of WD claims file with 1B edges (~16 GB compressed) takes 20 minutes on laptop\n",
        "- resulting database is cached into a *graph cache* to amortize this over multiple queries\n",
        "- indexes built to speed up queries or text search are also cached\n",
        "- if data change is detected, data will be re-imported and re-indexed automatically"
      ]
    },
    {
      "cell_type": "markdown",
      "id": "cf1e0351",
      "metadata": {
        "id": "cf1e0351"
      },
      "source": [
        "- location of the cache file can be controlled with `--graph-cache FILE` or the `KGTK_GRAPH_CACHE`\n",
        "  environment variable\n",
        "- otherwise a default location in `/tmp` will be used"
      ]
    },
    {
      "cell_type": "markdown",
      "id": "5168ef96",
      "metadata": {
        "id": "5168ef96"
      },
      "source": [
        "- cache is a *true cache*, that is it is safe to delete it and it will be rebuilt automatically\n",
        "  (as long as the relevant data files are still available)\n",
        "- however, we increasingly find cases where the cache is explicitly managed, for example,\n",
        "  to support the browser or to ship large data to somebody else\n",
        "- cache files can become very large and should be on an SSD drive for best performance"
      ]
    },
    {
      "cell_type": "markdown",
      "id": "b5e9f195",
      "metadata": {
        "id": "b5e9f195"
      },
      "source": [
        "**Example**\n",
        "- display the current content of the cache with `--show-cache`"
      ]
    },
    {
      "cell_type": "code",
      "execution_count": null,
      "id": "ee45124d",
      "metadata": {
        "lines_to_next_cell": 2,
        "id": "ee45124d",
        "outputId": "584d8b43-2ad1-4608-e422-6f543575f468",
        "colab": {
          "base_uri": "https://localhost:8080/"
        }
      },
      "outputs": [
        {
          "output_type": "stream",
          "name": "stdout",
          "text": [
            "Graph Cache:\n",
            "DB file: /tmp/projects/tutorial-kypher/temp.tutorial-kypher/wikidata.sqlite3.db\n",
            "  size:  72.00 KB   \tfree:  0 Bytes   \tmodified:  2022-03-19 01:00:27\n",
            "\n",
            "KGTK File Information:\n",
            "/root/isi-kgtk-tutorial/tutorial-kypher_input/small-graph.tsv:\n",
            "  size:  382 Bytes   \tmodified:  2022-03-19 00:57:49   \tgraph:  graph_1\n",
            "works:\n",
            "  size:  590 Bytes   \tmodified:  2022-03-19 00:57:50   \tgraph:  graph_2\n",
            "  comment:  Film information\n",
            "\n",
            "Graph Table Information:\n",
            "graph_1:\n",
            "  size:  40.00 KB   \tcreated:  2022-03-19 01:00:09\n",
            "  header:  ['id', 'node1', 'label', 'node2']\n",
            "graph_2:\n",
            "  size:  12.00 KB   \tcreated:  2022-03-19 01:00:27\n",
            "  header:  ['id', 'node1', 'label', 'node2']\n"
          ]
        }
      ],
      "source": [
        "!kgtk query --show-cache"
      ]
    },
    {
      "cell_type": "markdown",
      "id": "18ec64d4",
      "metadata": {
        "id": "18ec64d4"
      },
      "source": [
        "## Defining and using custom functions"
      ]
    },
    {
      "cell_type": "markdown",
      "id": "b87f16f5",
      "metadata": {
        "id": "b87f16f5"
      },
      "source": [
        "- when provided built-in functions are not enough, custom functions can be executed via Python"
      ]
    },
    {
      "cell_type": "markdown",
      "id": "ca613f46",
      "metadata": {
        "id": "ca613f46"
      },
      "source": [
        "**Example**\n",
        "- perform some random modifications on the `GRAPH` data\n",
        "- note that values returned by `pyeval` and `pycall` must be simple literals"
      ]
    },
    {
      "cell_type": "code",
      "execution_count": 47,
      "id": "d6032d24",
      "metadata": {
        "lines_to_next_cell": 2,
        "id": "d6032d24",
        "outputId": "d1ab3de7-1c7e-49cb-f956-af7c8b6437b4",
        "colab": {
          "base_uri": "https://localhost:8080/"
        }
      },
      "outputs": [
        {
          "output_type": "stream",
          "name": "stdout",
          "text": [
            "name\tswapname\tisodd\tuuid\n",
            "'Arnold Schwarzenegger'@de\t'aRNOLD sCHWARZENEGGER'@DE\t0.0\t4aa22086-895d-4c39-b8a1-3b5895709dfe\n",
            "'Linda Hamilton'@en\t'lINDA hAMILTON'@EN\t1.0\t824f1f94-c577-46ab-a8bb-153095719c97\n",
            "'Gary R. Rydstrom'@en\t'gARY r. rYDSTROM'@EN\t1.0\td4f91e00-e345-4f64-b7ce-95c1e7edcff3\n",
            "'Gloria S. Borders'@en\t'gLORIA s. bORDERS'@EN\t0.0\ta1fa9736-5e71-4f59-bd84-39c193b239f3\n",
            "'Maria Shriver'@en\t'mARIA sHRIVER'@EN\t0.0\te76d5160-be93-41d9-9d6f-50033033ca25\n"
          ]
        }
      ],
      "source": [
        "!kgtk query -i $small_graph --import 'uuid, math as m' \\\n",
        "     --match '(x)-[r:name]->(y)' \\\n",
        "     --where 'kgtk_lqstring(y)' \\\n",
        "     --return 'y as name, \\\n",
        "               pyeval(printf($FMT, y)) as swapname, \\\n",
        "               pycall(\"m.fmod\", length(y), 2) as isodd, \\\n",
        "               pycall(\"uuid.uuid4\") as uuid' \\\n",
        "     --para FMT='\"%s\".swapcase()'"
      ]
    },
    {
      "cell_type": "markdown",
      "id": "2d53abb0",
      "metadata": {
        "id": "2d53abb0"
      },
      "source": [
        "## Debugging"
      ]
    },
    {
      "cell_type": "markdown",
      "id": "7e2fee34",
      "metadata": {
        "id": "7e2fee34"
      },
      "source": [
        "**Example**\n",
        "- `query` accepts the `--debug` and `--expert` options to show additional output\n",
        "- this shows query translation, data import and indexing, etc.\n",
        "- here we can see how built-in functions are called directly in SQL:"
      ]
    },
    {
      "cell_type": "code",
      "execution_count": 48,
      "id": "9c61736f",
      "metadata": {
        "lines_to_next_cell": 2,
        "id": "9c61736f",
        "outputId": "9b31c14a-2670-4d02-ccdf-db309eb10d5d",
        "colab": {
          "base_uri": "https://localhost:8080/"
        }
      },
      "outputs": [
        {
          "output_type": "stream",
          "name": "stdout",
          "text": [
            "[2022-10-07 23:02:48 sqlstore]: IMPORT graph via csv.reader into table graph_1 from /root/isi-kgtk-tutorial/tutorial-kypher_input/small-graph.tsv ...\n",
            "[2022-10-07 23:02:48 query]: SQL Translation:\n",
            "---------------------------------------------\n",
            "  SELECT *\n",
            "     FROM graph_1 AS graph_1_c1\n",
            "     WHERE graph_1_c1.\"label\" = ?\n",
            "        AND (kgtk_lqstring_lang(graph_1_c1.\"node2\") = ?)\n",
            "  PARAS: ['name', 'de']\n",
            "---------------------------------------------\n",
            "[2022-10-07 23:02:48 sqlstore]: CREATE INDEX \"graph_1_label_idx\" ON \"graph_1\" (\"label\")\n",
            "[2022-10-07 23:02:48 sqlstore]: ANALYZE \"graph_1_label_idx\"\n",
            "id\tnode1\tlabel\tnode2\n",
            "e5\ta_schwarzenegger\tname\t'Arnold Schwarzenegger'@de\n"
          ]
        }
      ],
      "source": [
        "!rm -f $KGTK_GRAPH_CACHE\n",
        "\n",
        "!kgtk --debug query -i $small_graph \\\n",
        "     --match '(p)-[r:name]->(n)' \\\n",
        "     --where 'n.kgtk_lqstring_lang = \"de\"'"
      ]
    },
    {
      "cell_type": "markdown",
      "id": "c0f3bd4a",
      "metadata": {
        "id": "c0f3bd4a"
      },
      "source": [
        "- run it again to show how imported data and indexes are reused"
      ]
    },
    {
      "cell_type": "code",
      "execution_count": 49,
      "id": "a0272483",
      "metadata": {
        "lines_to_next_cell": 2,
        "id": "a0272483",
        "outputId": "542a11e7-0c17-4418-c706-9e39cd8d7a51",
        "colab": {
          "base_uri": "https://localhost:8080/"
        }
      },
      "outputs": [
        {
          "output_type": "stream",
          "name": "stdout",
          "text": [
            "[2022-10-07 23:02:54 query]: SQL Translation:\n",
            "---------------------------------------------\n",
            "  SELECT *\n",
            "     FROM graph_1 AS graph_1_c1\n",
            "     WHERE graph_1_c1.\"label\" = ?\n",
            "        AND (kgtk_lqstring_lang(graph_1_c1.\"node2\") = ?)\n",
            "  PARAS: ['name', 'de']\n",
            "---------------------------------------------\n",
            "id\tnode1\tlabel\tnode2\n",
            "e5\ta_schwarzenegger\tname\t'Arnold Schwarzenegger'@de\n"
          ]
        }
      ],
      "source": [
        "!kgtk --debug query -i $small_graph \\\n",
        "     --match '(p)-[r:name]->(n)' \\\n",
        "     --where 'n.kgtk_lqstring_lang = \"de\"'"
      ]
    },
    {
      "cell_type": "markdown",
      "id": "f57eb238",
      "metadata": {
        "id": "f57eb238"
      },
      "source": [
        "## Querying based on edge qualifiers"
      ]
    },
    {
      "cell_type": "markdown",
      "id": "cc83ef1c",
      "metadata": {
        "id": "cc83ef1c"
      },
      "source": [
        "- one of the motivations for developing Kypher was the \"Wikidata time machine use case\"\n",
        "- find all statements with temporal annotations after a certain time and remove them\n",
        "  to only retain facts known before that time\n",
        "- in Wikidata temporal annotations are attached via edge qualifiers\n",
        "- in KGTK those are represented via edges linked to another edge's ID"
      ]
    },
    {
      "cell_type": "markdown",
      "id": "19f71825",
      "metadata": {
        "id": "19f71825"
      },
      "source": [
        "**Example**\n",
        "1. look for base edges in the `GRAPH` graph\n",
        "2. link to qualifiers in the `QUALS` graph via edge id `r`\n",
        "3. restrict the qualifiers based on edge labels\n",
        "   `ql` that are listed in the `PROPS` graph\n",
        "4. restrict to edges that have a time with year of at most 2000\n",
        "5. output the qualifying base edges with their temporal annotations"
      ]
    },
    {
      "cell_type": "code",
      "execution_count": null,
      "id": "4c70b1bd",
      "metadata": {
        "id": "4c70b1bd",
        "outputId": "ac136f95-c9fd-4cd9-ab36-d0fd7f7d925d",
        "colab": {
          "base_uri": "https://localhost:8080/"
        }
      },
      "outputs": [
        {
          "output_type": "stream",
          "name": "stdout",
          "text": [
            "id\tnode1\tlabel\tnode2\n",
            "q1\tt5\trole\tterminator\n",
            "q2\tt6\trole\ts_connor\n",
            "q3\tt9\tpoint_in_time\t^1992-03-30T00:00:00Z/11\n",
            "q4 \tt9\twinner\tg_rydstrom\n",
            "q5 \tt9\twinner\tg_borders\n",
            "q6 \tt10\tlocation\tunited_states\n",
            "q8 \tt11\tlocation\trussia\n",
            "q9\te1\tstart\t^1986-04-26T08:00:00Z/11\n",
            "q10\te1\tend\t^2011-07-01T10:00:00Z/11\n"
          ]
        }
      ],
      "source": [
        "!kgtk query -i $small_quals"
      ]
    },
    {
      "cell_type": "code",
      "execution_count": null,
      "id": "af9b03bc",
      "metadata": {
        "id": "af9b03bc",
        "outputId": "1c7481d4-a71e-4f1a-d444-fea532f0637b",
        "colab": {
          "base_uri": "https://localhost:8080/"
        }
      },
      "outputs": [
        {
          "output_type": "stream",
          "name": "stdout",
          "text": [
            "id\tnode1\tlabel\tnode2\n",
            "p11\tstart\tmember\tset1\n",
            "p12\tend\tmember\tset1\n",
            "p12\tpoint_in_time\tmember\tset1\n"
          ]
        }
      ],
      "source": [
        "!kgtk query -i $small_props"
      ]
    },
    {
      "cell_type": "markdown",
      "id": "cd7867ea",
      "metadata": {
        "id": "cd7867ea"
      },
      "source": [
        "- the crucial part of the query below is how we use the `id` of the base edge `r` as the `node1` of the qualifier edge `q` whose label `ql` has to be one of the properties listed in `PROPS`\n",
        "- we also need to use Kypher property syntax to introduce the match variable `ql`"
      ]
    },
    {
      "cell_type": "code",
      "execution_count": 50,
      "id": "a96b0621",
      "metadata": {
        "lines_to_next_cell": 2,
        "id": "a96b0621",
        "outputId": "7e68bc2a-b05f-425c-e8c6-99a8f7a16319",
        "colab": {
          "base_uri": "https://localhost:8080/"
        }
      },
      "outputs": [
        {
          "output_type": "stream",
          "name": "stdout",
          "text": [
            "id\tnode1\tlabel\tnode2\ttrel\ttime\n",
            "e1\tm_shriver\tspouse\ta_schwarzenegger\tstart\t^1986-04-26T08:00:00Z/11\n"
          ]
        }
      ],
      "source": [
        "!kgtk query -i $small_graph -i $small_quals -i $small_props  \\\n",
        "     --match \"graph: (x)-[r]->(y),  \\\n",
        "              quals: (r)-[q {label: ql}]->(time), \\\n",
        "              props: (ql)-[]->()\" \\\n",
        "     --where \"time.kgtk_date_year <= 2000\" \\\n",
        "     --return \"r as id, x, r.label, y, ql as trel, time as time\""
      ]
    },
    {
      "cell_type": "markdown",
      "id": "16b1ac79",
      "metadata": {
        "id": "16b1ac79"
      },
      "source": [
        "## Further reading"
      ]
    },
    {
      "cell_type": "markdown",
      "id": "b87e6aa7",
      "metadata": {
        "id": "b87e6aa7"
      },
      "source": [
        "- [Kypher manual](https://github.com/usc-isi-i2/kgtk/blob/dev/docs/transform/query.md)\n",
        "  - [Kypher vs. Cypher and unfinished features](https://github.com/usc-isi-i2/kgtk/blob/dev/docs/transform/query.md#differences-to-cypher)\n",
        "  - [Kypher API](https://github.com/usc-isi-i2/kgtk/blob/dev/kgtk/kypher/api.py)\n",
        "- [KGTK manual](https://kgtk.readthedocs.io/en/dev/)\n",
        "- [KGTK data model](https://kgtk.readthedocs.io/en/dev/data_model/)\n",
        "- [KGTK GitHub site](https://github.com/usc-isi-i2/kgtk)\n",
        "- [KGTK Tutorial use cases](https://github.com/usc-isi-i2/kgtk-notebooks/tree/main/tutorial)\n",
        "- [KGTK use cases](https://github.com/usc-isi-i2/kgtk/tree/dev/use-cases)\n",
        "- [openCypher](https://www.opencypher.org/)\n",
        "- [Cypher](https://neo4j.com/developer/cypher/)"
      ]
    }
  ],
  "metadata": {
    "jupytext": {
      "formats": "ipynb,py:light"
    },
    "kernelspec": {
      "display_name": "kgtk-env",
      "language": "python",
      "name": "kgtk-env"
    },
    "language_info": {
      "codemirror_mode": {
        "name": "ipython",
        "version": 3
      },
      "file_extension": ".py",
      "mimetype": "text/x-python",
      "name": "python",
      "nbconvert_exporter": "python",
      "pygments_lexer": "ipython3",
      "version": "3.9.7"
    },
    "colab": {
      "provenance": [],
      "collapsed_sections": []
    }
  },
  "nbformat": 4,
  "nbformat_minor": 5
}