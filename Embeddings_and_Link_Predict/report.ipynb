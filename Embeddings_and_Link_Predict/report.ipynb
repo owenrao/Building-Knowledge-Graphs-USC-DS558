{
 "cells": [
  {
   "cell_type": "markdown",
   "metadata": {},
   "source": [
    "# Ruijie Rao DS558 HW4 Report "
   ]
  },
  {
   "cell_type": "markdown",
   "metadata": {},
   "source": [
    "## 2.1 Learning from Embeddings using AmpliGraph"
   ]
  },
  {
   "cell_type": "markdown",
   "metadata": {},
   "source": [
    "1. Results:\n",
    "    - TransE: MRR: 0.35, Hits@10: 0.60, Hits@3: 0.45, Hits@1: 0.21\n",
    "    - DistMult: MRR: 0.49, Hits@10: 0.62, Hits@3: 0.51, Hits@1: 0.42\n",
    "    - ComplEx: MRR: 0.49, Hits@10: 0.62, Hits@3: 0.52, Hits@1: 0.43"
   ]
  },
  {
   "cell_type": "markdown",
   "metadata": {},
   "source": [
    "2. \n",
    "    - Q1. How do they get ranks (in this tutorial) for the certain triple? Please explain step by step.\n",
    "\n",
    "    A list of corrupted triples are created according to corruption strat. For a certain triple, the model calculates the scoring of the triple, and rank its score against all the corrupted triples. Its rank is outputed.\n",
    "\n",
    "    - Q2. What should be ranks (in this tutorial) if the model got 100% correct answers?\n",
    "    \n",
    "    All rank 1."
   ]
  },
  {
   "cell_type": "markdown",
   "metadata": {},
   "source": [
    "##  2.2 Relation prediction"
   ]
  },
  {
   "cell_type": "markdown",
   "metadata": {},
   "source": [
    "- Results:\n",
    "    - TransE: 'SPOUSE'\n",
    "    - DistMult: 'SWORN_TO'\n",
    "    - ComplEx: 'ALLIED_WITH'"
   ]
  },
  {
   "cell_type": "markdown",
   "metadata": {},
   "source": [
    "## 2.3 Nearest Neighbor Search"
   ]
  },
  {
   "cell_type": "markdown",
   "metadata": {},
   "source": [
    "1. Results:\n",
    "    - TransE: 'Arya Stark', 'Hayhead', 'Poxy Tym', 'Harwin', 'Shyra'\n",
    "    - DistMult: 'Arya Stark', 'Edrick Stark', 'Desmond', 'Gariss', 'Quent'\n",
    "    - ComplEx: 'Arya Stark', 'Edrick Stark', 'Desmond', 'Gariss', 'Poxy Tym'"
   ]
  },
  {
   "cell_type": "markdown",
   "metadata": {},
   "source": [
    "# KGTK"
   ]
  },
  {
   "cell_type": "markdown",
   "metadata": {},
   "source": [
    "## 3.1 PageRank"
   ]
  },
  {
   "cell_type": "markdown",
   "metadata": {},
   "source": [
    "- Overlap Count: 18"
   ]
  },
  {
   "cell_type": "markdown",
   "metadata": {},
   "source": [
    "## 3.2 Extended Path"
   ]
  },
  {
   "cell_type": "markdown",
   "metadata": {},
   "source": [
    "- Allies Count: 1020"
   ]
  }
 ],
 "metadata": {
  "kernelspec": {
   "display_name": "Python 3.7.13",
   "language": "python",
   "name": "python3"
  },
  "language_info": {
   "codemirror_mode": {
    "name": "ipython",
    "version": 3
   },
   "file_extension": ".py",
   "mimetype": "text/x-python",
   "name": "python",
   "nbconvert_exporter": "python",
   "pygments_lexer": "ipython3",
   "version": "3.7.13"
  },
  "orig_nbformat": 4,
  "vscode": {
   "interpreter": {
    "hash": "87ef2c4983d124858e7bc65373e634017d4d0da0a01665b9091a743c5bc24cc8"
   }
  }
 },
 "nbformat": 4,
 "nbformat_minor": 2
}
