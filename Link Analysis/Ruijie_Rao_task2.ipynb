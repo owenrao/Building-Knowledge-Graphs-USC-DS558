{
  "cells": [
    {
      "cell_type": "markdown",
      "metadata": {
        "id": "u8J0iXptu4xW"
      },
      "source": [
        "# HW2 Text Clustering"
      ]
    },
    {
      "cell_type": "markdown",
      "metadata": {
        "id": "btcQfU1ku4xd"
      },
      "source": [
        "## 2-1: SBERT Tutorial"
      ]
    },
    {
      "cell_type": "markdown",
      "metadata": {
        "id": "z-pn3RVXu4xf"
      },
      "source": [
        "What is the size of the representation vector?"
      ]
    },
    {
      "cell_type": "code",
      "execution_count": null,
      "metadata": {
        "id": "8g9zm6zIu4xg"
      },
      "outputs": [],
      "source": [
        "from sentence_transformers import SentenceTransformer\n",
        "model = SentenceTransformer('all-MiniLM-L6-v2')\n",
        "\n",
        "#Our sentences we like to encode\n",
        "sentences = ['This framework generates embeddings for each input sentence',\n",
        "    'Sentences are passed as a list of string.', \n",
        "    'The quick brown fox jumps over the lazy dog.']\n",
        "\n",
        "#Sentences are encoded by calling model.encode()\n",
        "embeddings = model.encode(sentences)"
      ]
    },
    {
      "cell_type": "markdown",
      "metadata": {
        "id": "5CkaFlXKu4xm"
      },
      "source": [
        "## 2-2: SBERT Clustering"
      ]
    },
    {
      "cell_type": "markdown",
      "source": [
        "Limiting data to 5000, since agglomerative costs O(n^2) memory and O(n^3) time."
      ],
      "metadata": {
        "id": "NvJPCPEgZGuD"
      }
    },
    {
      "cell_type": "code",
      "execution_count": null,
      "metadata": {
        "id": "4MuJhgxBu4xm"
      },
      "outputs": [],
      "source": [
        "import os\n",
        "import csv\n",
        "from sentence_transformers import SentenceTransformer, util\n",
        "# We donwload the Quora Duplicate Questions Dataset (https://www.quora.com/q/quoradata/First-Quora-Dataset-Release-Question-Pairs)\n",
        "# and find similar question in it\n",
        "url = \"http://qim.fs.quoracdn.net/quora_duplicate_questions.tsv\"\n",
        "dataset_path = \"quora_duplicate_questions.tsv\"\n",
        "max_corpus_size = 5000  # We limit our corpus to only the first 5k questions\n",
        "\n",
        "\n",
        "# Check if the dataset exists. If not, download and extract\n",
        "# Download dataset if needed\n",
        "if not os.path.exists(dataset_path):\n",
        "    print(\"Download dataset\")\n",
        "    util.http_get(url, dataset_path)\n",
        "\n",
        "# Get all unique sentences from the file\n",
        "corpus_sentences = set()\n",
        "with open(dataset_path, encoding='utf8') as fIn:\n",
        "    reader = csv.DictReader(fIn, delimiter='\\t', quoting=csv.QUOTE_MINIMAL)\n",
        "    for row in reader:\n",
        "        corpus_sentences.add(row['question1'])\n",
        "        corpus_sentences.add(row['question2'])\n",
        "        if len(corpus_sentences) >= max_corpus_size:\n",
        "            break\n",
        "\n",
        "corpus_sentences = list(corpus_sentences)\n",
        "print(\"Encode the corpus. This might take a while\")\n",
        "\n",
        "embedder = SentenceTransformer('all-MiniLM-L6-v2')\n",
        "corpus_embeddings = embedder.encode(corpus_sentences)"
      ]
    },
    {
      "cell_type": "markdown",
      "metadata": {
        "id": "6t9Lxs4eu4xp"
      },
      "source": [
        "### KMeans"
      ]
    },
    {
      "cell_type": "markdown",
      "metadata": {
        "id": "2be6YRLxu4xq"
      },
      "source": [
        "What is the running time cost of this algorithm?"
      ]
    },
    {
      "cell_type": "code",
      "execution_count": 5,
      "metadata": {
        "colab": {
          "base_uri": "https://localhost:8080/",
          "height": 0
        },
        "id": "96YKgNvHu4xr",
        "outputId": "d2e7b679-903f-41da-dc29-d12b05db70b8"
      },
      "outputs": [
        {
          "output_type": "stream",
          "name": "stdout",
          "text": [
            "CPU times: user 3.16 s, sys: 1.43 s, total: 4.58 s\n",
            "Wall time: 3.12 s\n"
          ]
        }
      ],
      "source": [
        "%%time\n",
        "from sklearn.cluster import KMeans\n",
        "# Perform kmean clustering\n",
        "num_clusters = 5\n",
        "clustering_model = KMeans(n_clusters=num_clusters)\n",
        "clustering_model.fit(corpus_embeddings)\n",
        "cluster_assignment = clustering_model.labels_"
      ]
    },
    {
      "cell_type": "markdown",
      "metadata": {
        "id": "2t9eY_Fsu4xs"
      },
      "source": [
        "How many clusters are created for this algorithm?"
      ]
    },
    {
      "cell_type": "code",
      "execution_count": 6,
      "metadata": {
        "colab": {
          "base_uri": "https://localhost:8080/",
          "height": 0
        },
        "id": "fkXN47Cxu4xt",
        "outputId": "79531d1a-9f6c-4bba-9177-ca095d316e96"
      },
      "outputs": [
        {
          "output_type": "execute_result",
          "data": {
            "text/plain": [
              "5"
            ]
          },
          "metadata": {},
          "execution_count": 6
        }
      ],
      "source": [
        "len(set(cluster_assignment))"
      ]
    },
    {
      "cell_type": "markdown",
      "source": [
        "### Agglomerative"
      ],
      "metadata": {
        "id": "xuucxdpI_FPo"
      }
    },
    {
      "cell_type": "markdown",
      "metadata": {
        "id": "lgDr1ASku4xu"
      },
      "source": [
        "What is the running time cost of this algorithm?"
      ]
    },
    {
      "cell_type": "code",
      "execution_count": 10,
      "metadata": {
        "id": "0ud5jG8Qu4xu",
        "colab": {
          "base_uri": "https://localhost:8080/",
          "height": 0
        },
        "outputId": "fef6d8bb-e58d-4875-9f6e-f27008e7564c"
      },
      "outputs": [
        {
          "output_type": "stream",
          "name": "stdout",
          "text": [
            "CPU times: user 5.23 s, sys: 19.5 ms, total: 5.25 s\n",
            "Wall time: 5.32 s\n"
          ]
        }
      ],
      "source": [
        "%%time\n",
        "from sklearn.cluster import AgglomerativeClustering\n",
        "clustering_model = AgglomerativeClustering(n_clusters=None, affinity='cosine', linkage='average', distance_threshold=1)\n",
        "clustering_model.fit(corpus_embeddings)\n",
        "cluster_assignment = clustering_model.labels_"
      ]
    },
    {
      "cell_type": "markdown",
      "metadata": {
        "id": "vhD4wkgru4xv"
      },
      "source": [
        "How many clusters are created for this algorithm?"
      ]
    },
    {
      "cell_type": "code",
      "execution_count": 11,
      "metadata": {
        "id": "J7HFzKHBu4xv",
        "colab": {
          "base_uri": "https://localhost:8080/",
          "height": 0
        },
        "outputId": "832cc8f4-49b0-4ce8-eb71-d867784aebe7"
      },
      "outputs": [
        {
          "output_type": "execute_result",
          "data": {
            "text/plain": [
              "1"
            ]
          },
          "metadata": {},
          "execution_count": 11
        }
      ],
      "source": [
        "len(set(cluster_assignment))"
      ]
    },
    {
      "cell_type": "markdown",
      "source": [
        "## 2-3: PCA"
      ],
      "metadata": {
        "id": "jBlkW3AM_ED3"
      }
    },
    {
      "cell_type": "markdown",
      "source": [
        "Size of reduced embeddings:"
      ],
      "metadata": {
        "id": "7CV46ubd_YyZ"
      }
    },
    {
      "cell_type": "code",
      "source": [
        "reduced_emb.shape[1]"
      ],
      "metadata": {
        "colab": {
          "base_uri": "https://localhost:8080/"
        },
        "id": "bz49gJetxo9Z",
        "outputId": "5c6fd1ce-d0e9-4631-a256-547259f8a8d5"
      },
      "execution_count": null,
      "outputs": [
        {
          "output_type": "execute_result",
          "data": {
            "text/plain": [
              "128"
            ]
          },
          "metadata": {},
          "execution_count": 5
        }
      ]
    },
    {
      "cell_type": "markdown",
      "metadata": {
        "id": "yxpQkrNMeDvl"
      },
      "source": [
        "### KMeans"
      ]
    },
    {
      "cell_type": "markdown",
      "metadata": {
        "id": "qXzCz9sReBi9"
      },
      "source": [
        "What is the running time cost of this algorithm?"
      ]
    },
    {
      "cell_type": "code",
      "source": [
        "%%time\n",
        "from sklearn.cluster import KMeans\n",
        "# Perform kmean clustering\n",
        "num_clusters = 5\n",
        "clustering_model = KMeans(n_clusters=num_clusters)\n",
        "clustering_model.fit(reduced_emb)\n",
        "cluster_assignment = clustering_model.labels_"
      ],
      "metadata": {
        "colab": {
          "base_uri": "https://localhost:8080/"
        },
        "id": "Ct5mbk_F-Hnh",
        "outputId": "cdb7343d-0acb-495c-9add-9c03f4d7d179"
      },
      "execution_count": null,
      "outputs": [
        {
          "output_type": "stream",
          "name": "stdout",
          "text": [
            "CPU times: user 1.54 s, sys: 1.07 s, total: 2.61 s\n",
            "Wall time: 1.49 s\n"
          ]
        }
      ]
    },
    {
      "cell_type": "markdown",
      "metadata": {
        "id": "-KhCFPib_NcT"
      },
      "source": [
        "How many clusters are created for this algorithm?"
      ]
    },
    {
      "cell_type": "code",
      "source": [
        "len(set(cluster_assignment))"
      ],
      "metadata": {
        "colab": {
          "base_uri": "https://localhost:8080/"
        },
        "id": "AWzHBzyMZuvc",
        "outputId": "6872fecd-d90e-4df3-b127-0cbfdb434c5c"
      },
      "execution_count": null,
      "outputs": [
        {
          "output_type": "execute_result",
          "data": {
            "text/plain": [
              "5"
            ]
          },
          "metadata": {},
          "execution_count": 11
        }
      ]
    },
    {
      "cell_type": "markdown",
      "source": [
        "### Agglomerative"
      ],
      "metadata": {
        "id": "PID2Yh1YeHGv"
      }
    },
    {
      "cell_type": "markdown",
      "metadata": {
        "id": "wcZwWFNHeB6g"
      },
      "source": [
        "What is the running time cost of this algorithm?"
      ]
    },
    {
      "cell_type": "code",
      "source": [
        "%%time\n",
        "from sklearn.cluster import AgglomerativeClustering\n",
        "clustering_model = AgglomerativeClustering(n_clusters=None, affinity='cosine', linkage='average', distance_threshold=1) #, affinity='cosine', linkage='average', distance_threshold=0.4)\n",
        "clustering_model.fit(reduced_emb)\n",
        "cluster_assignment = clustering_model.labels_"
      ],
      "metadata": {
        "id": "SF_HLM8k_iRy",
        "colab": {
          "base_uri": "https://localhost:8080/"
        },
        "outputId": "75907f7b-302f-404a-9d8d-9845b4dc91b4"
      },
      "execution_count": null,
      "outputs": [
        {
          "output_type": "stream",
          "name": "stdout",
          "text": [
            "CPU times: user 2.09 s, sys: 15.8 ms, total: 2.1 s\n",
            "Wall time: 2.09 s\n"
          ]
        }
      ]
    },
    {
      "cell_type": "markdown",
      "metadata": {
        "id": "aLQBwwdRd-BN"
      },
      "source": [
        "How many clusters are created for this algorithm?"
      ]
    },
    {
      "cell_type": "code",
      "source": [
        "len(set(cluster_assignment))"
      ],
      "metadata": {
        "colab": {
          "base_uri": "https://localhost:8080/"
        },
        "id": "Fdv3gejoZwx9",
        "outputId": "eaa3f3f6-9eb3-4217-ea1c-18e9987e1fbe"
      },
      "execution_count": null,
      "outputs": [
        {
          "output_type": "execute_result",
          "data": {
            "text/plain": [
              "5"
            ]
          },
          "metadata": {},
          "execution_count": 15
        }
      ]
    },
    {
      "cell_type": "markdown",
      "source": [
        "## 2-4: Real-world Application"
      ],
      "metadata": {
        "id": "EcVjFW3saSub"
      }
    },
    {
      "cell_type": "markdown",
      "metadata": {
        "id": "dAsr5e9leEkV"
      },
      "source": [
        "### KMeans"
      ]
    },
    {
      "cell_type": "code",
      "source": [
        "%%time\n",
        "from sklearn.cluster import KMeans\n",
        "# Perform kmean clustering\n",
        "num_clusters = len(set(category))\n",
        "clustering_model = KMeans(n_clusters=num_clusters)\n",
        "clustering_model.fit(reduced_emb)\n",
        "km_result = clustering_model.labels_"
      ],
      "metadata": {
        "colab": {
          "base_uri": "https://localhost:8080/"
        },
        "id": "bO-efaapY0BM",
        "outputId": "8c0e93e8-b4ca-4a65-a4fc-99fefe21476a"
      },
      "execution_count": null,
      "outputs": [
        {
          "output_type": "stream",
          "name": "stdout",
          "text": [
            "CPU times: user 6.02 s, sys: 3.69 s, total: 9.71 s\n",
            "Wall time: 5.05 s\n"
          ]
        }
      ]
    },
    {
      "cell_type": "code",
      "source": [
        "adjusted_rand_score(km_result,category)"
      ],
      "metadata": {
        "colab": {
          "base_uri": "https://localhost:8080/"
        },
        "id": "enwCxO-aagWE",
        "outputId": "4e38bd09-f307-4ff5-91c9-5e38416d0b1c"
      },
      "execution_count": null,
      "outputs": [
        {
          "output_type": "execute_result",
          "data": {
            "text/plain": [
              "0.49696239063457176"
            ]
          },
          "metadata": {},
          "execution_count": 34
        }
      ]
    },
    {
      "cell_type": "code",
      "source": [
        "normalized_mutual_info_score(km_result,category)"
      ],
      "metadata": {
        "colab": {
          "base_uri": "https://localhost:8080/"
        },
        "id": "vbpKBUfudBlk",
        "outputId": "10e60d15-9c3c-45c9-c70c-0b1645318f60"
      },
      "execution_count": null,
      "outputs": [
        {
          "output_type": "execute_result",
          "data": {
            "text/plain": [
              "0.7882765311198084"
            ]
          },
          "metadata": {},
          "execution_count": 36
        }
      ]
    },
    {
      "cell_type": "markdown",
      "source": [
        "### Agglomerative"
      ],
      "metadata": {
        "id": "o3K-kgc5eGbv"
      }
    },
    {
      "cell_type": "code",
      "source": [
        "%%time\n",
        "from sklearn.cluster import AgglomerativeClustering\n",
        "num_clusters = len(set(category))\n",
        "clustering_model = AgglomerativeClustering(n_clusters=num_clusters, affinity='cosine', linkage='average') #, affinity='cosine', linkage='average', distance_threshold=0.4)\n",
        "clustering_model.fit(reduced_emb)\n",
        "ag_result = clustering_model.labels_"
      ],
      "metadata": {
        "colab": {
          "base_uri": "https://localhost:8080/"
        },
        "id": "XF864KvpaY8H",
        "outputId": "eb6cc027-4a09-46a6-9e6a-0b3a7457c200"
      },
      "execution_count": null,
      "outputs": [
        {
          "output_type": "stream",
          "name": "stdout",
          "text": [
            "CPU times: user 985 ms, sys: 6.57 ms, total: 991 ms\n",
            "Wall time: 1.22 s\n"
          ]
        }
      ]
    },
    {
      "cell_type": "code",
      "source": [
        "adjusted_rand_score(ag_result,category)"
      ],
      "metadata": {
        "colab": {
          "base_uri": "https://localhost:8080/"
        },
        "id": "ViqQCMhOc9GT",
        "outputId": "98948828-1e37-4711-a273-0195ead801ee"
      },
      "execution_count": null,
      "outputs": [
        {
          "output_type": "execute_result",
          "data": {
            "text/plain": [
              "0.3405396121349602"
            ]
          },
          "metadata": {},
          "execution_count": 35
        }
      ]
    },
    {
      "cell_type": "code",
      "source": [
        "normalized_mutual_info_score(ag_result,category)"
      ],
      "metadata": {
        "colab": {
          "base_uri": "https://localhost:8080/"
        },
        "id": "7mpdbAKYdCBz",
        "outputId": "8d9f6018-ae09-4618-ca28-d350a8314931"
      },
      "execution_count": null,
      "outputs": [
        {
          "output_type": "execute_result",
          "data": {
            "text/plain": [
              "0.763132026149143"
            ]
          },
          "metadata": {},
          "execution_count": 37
        }
      ]
    }
  ],
  "metadata": {
    "language_info": {
      "name": "python"
    },
    "orig_nbformat": 4,
    "colab": {
      "provenance": []
    },
    "kernelspec": {
      "name": "python3",
      "display_name": "Python 3"
    },
    "gpuClass": "standard"
  },
  "nbformat": 4,
  "nbformat_minor": 0
}