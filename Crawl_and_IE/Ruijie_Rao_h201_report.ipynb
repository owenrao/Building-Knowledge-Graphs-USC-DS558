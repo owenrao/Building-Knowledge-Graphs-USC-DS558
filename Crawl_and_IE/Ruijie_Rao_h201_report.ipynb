{
 "cells": [
  {
   "cell_type": "markdown",
   "metadata": {},
   "source": [
    "# Task 3: Report"
   ]
  },
  {
   "cell_type": "markdown",
   "metadata": {},
   "source": [
    "#### 1. In Task 1, What did you set things in settings.py to achieve the politeness of your crawler?"
   ]
  },
  {
   "cell_type": "markdown",
   "metadata": {},
   "source": [
    "Defining my user agent including me app name and my email contact, telling the data provider what is the purpose of my crawl and who am I, how to reach me."
   ]
  },
  {
   "cell_type": "code",
   "execution_count": null,
   "metadata": {},
   "outputs": [],
   "source": [
    "USER_AGENT = 'MovieCrawler (ruijiera@usc.edu)'"
   ]
  },
  {
   "cell_type": "markdown",
   "metadata": {},
   "source": [
    "Normally, this need to be turned to true to obey the rules set by the site. However, in this hw it is necessary to turn off."
   ]
  },
  {
   "cell_type": "code",
   "execution_count": null,
   "metadata": {},
   "outputs": [],
   "source": [
    "ROBOTSTXT_OBEY = False"
   ]
  },
  {
   "cell_type": "markdown",
   "metadata": {},
   "source": [
    "Configuring the number of concurrent requests limits the number of requests my crawler can make at any second. This forbids the crawler to give too much pressure to the site every second."
   ]
  },
  {
   "cell_type": "code",
   "execution_count": null,
   "metadata": {},
   "outputs": [],
   "source": [
    "CONCURRENT_REQUESTS = 5"
   ]
  },
  {
   "cell_type": "markdown",
   "metadata": {},
   "source": [
    "Configuring the download delay the the same website slows down the fetch, but significantly lowers the pressure given by my crawler to the site."
   ]
  },
  {
   "cell_type": "code",
   "execution_count": null,
   "metadata": {},
   "outputs": [],
   "source": [
    "DOWNLOAD_DELAY = 3"
   ]
  },
  {
   "cell_type": "markdown",
   "metadata": {},
   "source": [
    "Autothrottle is a pluggin by scrapy that controls the download delay automatically according to server response latency."
   ]
  },
  {
   "cell_type": "code",
   "execution_count": null,
   "metadata": {},
   "outputs": [],
   "source": [
    "AUTOTHROTTLE_ENABLED = True"
   ]
  },
  {
   "cell_type": "markdown",
   "metadata": {},
   "source": [
    "Http Cache is another function in scrapy that temporarily stores the fetched website. In this way, the crawler wont need to access the same page again in a period of time, releasing pressure from the site."
   ]
  },
  {
   "cell_type": "code",
   "execution_count": null,
   "metadata": {},
   "outputs": [],
   "source": [
    "HTTPCACHE_ENABLED = True"
   ]
  },
  {
   "cell_type": "markdown",
   "metadata": {},
   "source": [
    "#### 2. What lexical rules did you use to extract information in Task 2? Why?"
   ]
  },
  {
   "cell_type": "markdown",
   "metadata": {},
   "source": [
    "##### Lexical"
   ]
  },
  {
   "cell_type": "markdown",
   "metadata": {},
   "source": [
    "**Education**: I set 2 lexical patterns, matching the phrase of \"was educated at {institute}\" and \"attend {institute}\". To match with insitution names, I used a combination of IS_TITLE and \"of\" with OP tags. This is because inistitutions names are all titles except for \"of\" in between, and this lexical pattern can avoid matches to be made half way."
   ]
  },
  {
   "cell_type": "code",
   "execution_count": null,
   "metadata": {},
   "outputs": [],
   "source": [
    "patterns = [\n",
    "    [{'LOWER': 'was'}, {'LOWER':{'REGEX': '^educat\\w*$'}}, {'LOWER': 'at'}, {'IS_TITLE': True, 'OP': \"+\"}, {'LOWER': 'of', 'OP': '*'}, {'IS_TITLE': True, 'OP': \"*\"}],\n",
    "    [{'LOWER':{'REGEX': '^attend\\w*$'}}, {'IS_TITLE': True, 'OP': \"+\"}, {'LOWER': 'of', 'OP': '*'}, {'IS_TITLE': True, 'OP': \"*\"}]\n",
    "]"
   ]
  },
  {
   "cell_type": "markdown",
   "metadata": {},
   "source": [
    "**Birthplace**: I set 1 lexcal pattern on the phrase \"born in {location}\". Location names like towns and cities are often represented in Title texts, therefore using IS_TITLE."
   ]
  },
  {
   "cell_type": "code",
   "execution_count": null,
   "metadata": {},
   "outputs": [],
   "source": [
    "patterns = [\n",
    "    [{'LOWER':'born'}, {'LOWER': 'in'}, {'IS_TITLE': True, 'OP': \"+\"}],\n",
    "]"
   ]
  },
  {
   "cell_type": "markdown",
   "metadata": {},
   "source": [
    "**Movies**: I set 1 lexical pattern because movie names are very formatted in biographies. I observed that there is always a year in brackets following the movie names, where the movie names are often in title texts. Therefore, I use IS_TITLE to match for the movie name, regex [0-9]{4} to match for the year following the name. Some movie names are in '', so this is added too. OP * means that there can be 0 to any number of instances."
   ]
  },
  {
   "cell_type": "code",
   "execution_count": null,
   "metadata": {},
   "outputs": [],
   "source": [
    "patterns = [\n",
    "    [{'TEXT': '\"', 'OP': '*'}, {'TEXT': \"'\", 'OP': '*'}, {'IS_TITLE': True, 'OP': \"+\"}, {'TEXT': \"'\", 'OP': '*'}, {'TEXT': '\"', 'OP': '*'}, {'TEXT': '('}, {\"TEXT\": {\"REGEX\": \"[0-9]{4}\"}}, {'TEXT': ')'}]\n",
    "]"
   ]
  },
  {
   "cell_type": "markdown",
   "metadata": {},
   "source": [
    "**Awards**: I set 2 lexical patterns but they are the same. I observes that award names sometimes follows \"the\", so i add an option \"then\" at the beginning. Then, there is always some title text followed by the word \"Award\", so I make a OP:+ on title texts before \"award\". I also considered instances when \"Something and Something Award\" and \"Something's Award\" appears."
   ]
  },
  {
   "cell_type": "code",
   "execution_count": null,
   "metadata": {},
   "outputs": [],
   "source": [
    "patterns = [\n",
    "    [{'LOWER': 'the', 'OP': '*'}, {'IS_TITLE': True, 'OP': \"*\"}, {'LOWER': 'and', 'OP': '*'}, {'IS_TITLE': True, 'OP': \"+\"}, {'TEXT': \"'\", 'OP': '*'}, {'TEXT': \"'s\", 'OP': '*'}, {'LOWER': 'award'}, {'LOWER': 'for', 'OP': '*'}, {'IS_TITLE': True, 'OP': \"*\"}],\n",
    "    [{'LOWER': 'the', 'OP': '*'}, {'IS_TITLE': True, 'OP': \"*\"}, {'LOWER': 'and', 'OP': '*'}, {'IS_TITLE': True, 'OP': \"+\"}, {'TEXT': \"'\", 'OP': '*'}, {'TEXT': \"'s\", 'OP': '*'}, {'LOWER': 'awards'}, {'LOWER': 'for', 'OP': '*'}, {'IS_TITLE': True, 'OP': \"*\"}]\n",
    "]"
   ]
  },
  {
   "cell_type": "markdown",
   "metadata": {},
   "source": [
    "**Actors**: Actor names are always in title texts. To specify the person is an actor, the biography always needs to mention the word \"actor\" somewhere around the person's name. So I made the word actor in front of the person's name."
   ]
  },
  {
   "cell_type": "code",
   "execution_count": null,
   "metadata": {},
   "outputs": [],
   "source": [
    "patterns = [\n",
    "    [{'LOWER': 'actor'}, {'IS_TITLE': True, 'OP': \"+\"}]\n",
    "]"
   ]
  },
  {
   "cell_type": "markdown",
   "metadata": {},
   "source": [
    "##### Syntactic"
   ]
  },
  {
   "cell_type": "markdown",
   "metadata": {},
   "source": [
    "**Education**: I set 3 syntactic patterns. Instead of matching with IS_TITLE, I choose to check the phrase's entity type and set it to organization."
   ]
  },
  {
   "cell_type": "code",
   "execution_count": null,
   "metadata": {},
   "outputs": [],
   "source": [
    "patterns = [\n",
    "    [{'LEMMA': 'educate'}, {'LOWER': 'at'}, {'ENT_TYPE': 'ORG', 'OP': '+'}],\n",
    "    [{'LEMMA': 'attend'}, {'ENT_TYPE': 'ORG', 'OP': '+'}],\n",
    "    [{'LEMMA': 'study'}, {'LOWER': 'at'}, {'ENT_TYPE': 'ORG', 'OP': '+'}]\n",
    "]"
   ]
  },
  {
   "cell_type": "markdown",
   "metadata": {},
   "source": [
    "**Birthplace**: I set 1 syntactic pattern on the phrase \"born in {location}\". Using Lemma on born matches with any tense of the verb, POS:ADP matches any proposition follows born, and the location is matched using entity type of location."
   ]
  },
  {
   "cell_type": "code",
   "execution_count": null,
   "metadata": {},
   "outputs": [],
   "source": [
    "patterns = [\n",
    "    [{'LEMMA': 'born'}, {'POS': 'ADP'}, {'ENT_TYPE': 'LOC', 'OP': '+'}],\n",
    "]"
   ]
  },
  {
   "cell_type": "markdown",
   "metadata": {},
   "source": [
    "**Movies**: The pattern is pretty clear just like in the lexical, instead i changed the regex to entity type of date, which should work just the same."
   ]
  },
  {
   "cell_type": "code",
   "execution_count": null,
   "metadata": {},
   "outputs": [],
   "source": [
    "patterns = [\n",
    "    [{'TEXT': '\"', 'OP': '*'}, {'TEXT': \"'\", 'OP': '*'}, {'IS_TITLE': True, 'OP': \"+\"}, {'TEXT': \"'\", 'OP': '*'}, {'TEXT': '\"', 'OP': '*'}, {'TEXT': '('}, {'ENT_TYPE': 'DATE'}, {'TEXT': ')'}]\n",
    "]"
   ]
  },
  {
   "cell_type": "markdown",
   "metadata": {},
   "source": [
    "**Awards**: for this I used Dependency Matcher. I set the anchor to the verb \"win\", and set the subject dependent on win as a entity type of organization."
   ]
  },
  {
   "cell_type": "code",
   "execution_count": null,
   "metadata": {},
   "outputs": [],
   "source": [
    "patterns = [\n",
    "    #[{'LEMMA': 'win'}, {'ENT_TYPE': 'ORG', 'OP': '*'}, {'LEMMA': 'Award'}, {'ENT_TYPE': 'ORG', 'OP': '*'}]\n",
    "    [\n",
    "        {\n",
    "            \"RIGHT_ID\": \"win\",\n",
    "            \"RIGHT_ATTRS\": {\"LEMMA\": {\"IN\": [\"win\", \"won\"]}}\n",
    "        },\n",
    "        {\n",
    "            \"LEFT_ID\": \"win\",\n",
    "            \"REL_OP\": \">\",\n",
    "            \"RIGHT_ID\": \"subject\",\n",
    "            \"RIGHT_ATTRS\": {'ENT_TYPE': 'ORG'}\n",
    "        }\n",
    "    ]\n",
    "]"
   ]
  },
  {
   "cell_type": "markdown",
   "metadata": {},
   "source": [
    "**Actors**: Similar as the lexical, but changed the title text to entity type of person with multiple words."
   ]
  },
  {
   "cell_type": "code",
   "execution_count": null,
   "metadata": {},
   "outputs": [],
   "source": [
    "patterns = [\n",
    "    [{'LOWER': 'actor'}, {'ENT_TYPE': \"PERSON\", 'OP': \"+\"}]\n",
    "]"
   ]
  }
 ],
 "metadata": {
  "kernelspec": {
   "display_name": "Python 3.10.4 ('DS558')",
   "language": "python",
   "name": "python3"
  },
  "language_info": {
   "name": "python",
   "version": "3.10.4"
  },
  "orig_nbformat": 4,
  "vscode": {
   "interpreter": {
    "hash": "7d2ff20c00d4ac93ff3e3c3c2246f9d6a04344282adafe22c7a286cd6fb7db25"
   }
  }
 },
 "nbformat": 4,
 "nbformat_minor": 2
}
