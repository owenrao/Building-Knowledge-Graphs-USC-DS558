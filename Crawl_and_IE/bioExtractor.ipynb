{
 "cells": [
  {
   "cell_type": "code",
   "execution_count": 60,
   "metadata": {},
   "outputs": [],
   "source": [
    "import spacy\n",
    "import en_core_web_sm\n",
    "from spacy.matcher import Matcher, DependencyMatcher"
   ]
  },
  {
   "cell_type": "code",
   "execution_count": 2,
   "metadata": {},
   "outputs": [],
   "source": [
    "nlp = en_core_web_sm.load()"
   ]
  },
  {
   "cell_type": "markdown",
   "metadata": {},
   "source": [
    "## Test"
   ]
  },
  {
   "cell_type": "code",
   "execution_count": 3,
   "metadata": {},
   "outputs": [],
   "source": [
    "test_doc = \"Richard Attenborough, Baron Attenborough of Richmond-upon-Thames, was born in Cambridge, England, the son of Mary (n\\u00e9e Clegg), a founding member of the Marriage Guidance Council, and Frederick Levi Attenborough, a scholar and academic administrator who was a don at Emmanuel College and wrote a standard text on Anglo-Saxon law. The family later moved to Leicester where his father was appointed Principal of the university while Richard was educated at Wyggeston Grammar School for Boys in Leicester and at the Royal Academy of Dramatic Art (RADA).His film career began with a role as a deserting sailor inIn Which We Serve(1942), a part that contributed to his being typecast for many years as a coward in films likeDulcimer Street(1948),Operation Disaster(1950) and his breakthrough role as a psychopathic young gangster in the film adaptation ofGraham Greene's novel,Brighton Rock(1948). During World War II, Attenborough served in the Royal Air Force.He worked prolifically in British films for the next 30 years, and in the 1950s appeared in several successful comedies forJohn BoultingandRoy Boulting, includingPrivate's Progress(1956) andI'm All Right Jack(1959). Early in his stage career, Attenborough starred in the London West End production ofAgatha Christie's \\\"The Mousetrap\\\", which went on to become one of the world's longest-running stage productions. Both he and his wife were among the original cast members of the production, which opened in 1952 and (as of 2007) is still running.In the 1960s, he expanded his range of character roles in films such asSeance on a Wet Afternoon(1964) andGuns at Batasi(1964), for which he won the BAFTA Award for Best Actor for his portrayal of the regimental Sergeant Major. He appeared in the ensemble cast ofThe Great Escape(1963), as Squadron Leader \\\"Roger Bartlett\\\" (\\\"Big X\\\"), the head of the escape committee.In 1967 and 1968, he won back-to-back Golden Globe Awards in the category of Best Supporting Actor, the first time forThe Sand Pebbles(1966), starringSteve McQueen, and the second time forDoctor Dolittle(1967), starringRex Harrison. He would win another Golden Globe for Best Director, forGandhi(1982), in 1983. Six years prior to \\\"Gandhi\\\", he played the ruthless \\\"Gen. Outram\\\" in Indian directorSatyajit Ray's period piece,The Chess Players(1977). He has never been nominated for an Academy Award in an acting category.He took no acting roles following his appearance inOtto Preminger'sThe Human Factor(1979), until his appearance as the eccentric developer \\\"John Hammond\\\" inSteven Spielberg'sJurassic Park(1993). The following year, he starred as \\\"Kris Kringle\\\" inMiracle on 34th Street(1994), a remake of the 1947 classic. Since then, he has made occasional appearances in supporting roles, including the historical drama,Elizabeth(1998), as \\\"Sir William Cecil\\\".In the late 1950s, Attenborough formed a production company, \\\"Beaver Films\\\", withBryan Forbesand began to build a profile as a producer on projects, includingThe League of Gentlemen(1960),The Angry Silence(1960) andWhistle Down the Wind(1961), also appearing in the first two of these as an actor.His feature film directorial debut was the all-star screen version of the hit musical,Oh! What a Lovely War(1969), and his acting appearances became more sporadic - the most notable being his portrayal of serial killer \\\"John Christie\\\" in10 Rillington Place(1971). He later directed two epic period films:Young Winston(1972), based on the early life ofWinston Churchill, andA Bridge Too Far(1977), an all-star account of Operation Market Garden in World War II. He won the 1982 Academy Award for Directing for his historical epic,Gandhi(1982), a project he had been attempting to get made for many years. As the film's producer, he also won the Academy Award for Best Picture. His most recent films, as director and producer, includeChaplin(1992), starringRobert Downey Jr.asCharles Chaplin, andShadowlands(1993), based on the relationship betweenC.S. Lewisand Joy Gresham. Both films starredAnthony Hopkins, who also appeared in three other films for Attenborough: \\\"Young Winston\\\", \\\"A Bridge Too Far\\\" and the thriller,Magic(1978).Attenborough also directed the screen version of the hit Broadway musical, \\\"A Chorus Line\\\" (A Chorus Line(1985)), and the apartheid drama,Cry Freedom(1987), based on the experiences ofDonald Woods. He was nominated for a Golden Globe Award for Best Director for both films. His most recent film as director was another biographical film,Grey Owl(1999), starringPierce Brosnan.Attenborough is the President of RADA, Chairman of Capital Radio, President of BAFTA, President of the Gandhi Foundation, and President of the British National Film and Television School. He is also a vice patron of the Cinema and Television Benevolent Fund.He is also the patron of the UWC movement (United World Colleges), whereby he continually contributes greatly to the colleges that are part of the organization. He has frequented the United World College of Southern Africa(UWCSA) Waterford Kamhlaba. His wife and he founded the \\\"Richard and Sheila Attenborough Visual Arts Center\\\". He also founded the \\\"Jane Holland Creative Center for Learning\\\" at Waterford Kamhlaba in Swaziland in memory of his daughter, who died in the Tsunami on Boxing Day, 2004. He passionately believes in education, primarily education that does not judge upon color, race, creed or religion. His attachment to Waterford is his passion for non-racial education, which were the grounds on which Waterford Kamhlaba was founded. Waterford was one of his inspirations for directingCry Freedom(1987), based on the life of Steve Biko.He was elected to the post of Chancellor of the University of Sussex on 20 March 1998, replacing the Duke of Richmond and Gordon. A lifelong supporter of Chelsea Football Club, Attenborough served as a director of the club from 1969-1982 and, since 1993, has held the honorary position of Life Vice President. He is also the head of the consortium, \\\"Dragon International\\\", which is constructing a film and television studio complex in Llanilid, Wales, often referred to as \\\"Valleywood\\\".In 1967, he was made a Commander of the Order of the British Empire (CBE). He was knighted in 1976 and, in 1993, he was made a life peer as Baron Attenborough, of Richmond-upon-Thames in the London Borough of Richmond upon Thames.On 13 July 2006, Attenborough and his brother,David Attenborough, were awarded the titles of Distinguished Honorary Fellows of the University of Leicester \\\"in recognition of a record of continuing distinguished service to the University\\\". Lord Attenborough is also listed as an Honorary Fellow of Bangor University for his continued efforts to film making.Attenborough has been married to English actressSheila Sim, since 1945. They had three children. In December 2004, his elder daughter, Jane Holland, as well as her daughter Lucy and her mother-in-law, also named Jane, were killed in the tsunami caused by the Indian Ocean earthquake. A memorial service was held on 8 March 2005, and Attenborough read a lesson at the national memorial service on 11 May 2005. His grandson, Samuel Holland, and granddaughter, Alice Holland, also read in the service.Attenborough's father was principal of University College, Leicester, now the city's university. This has resulted in a long association with the university, with Lord Attenborough a patron. A commemorative plaque was placed on the floor of Richmond Parish Church. The university's \\\"Richard Attenborough Centre for Disability and the Arts\\\", which opened in 1997, is named in his Honor.His son,Michael Attenborough, is also a director. He has two younger brothers, the famous naturalist SirDavid Attenboroughand John Attenborough, who has made a career in the motor trade.He has collectedPablo Picassoceramics since the 1950s. More than 100 items went on display at the New Walk Museum and Art Gallery in Leicester in 2007; the exhibition is dedicated to his family members lost in the tsunami.- IMDb Mini Biography By:ta (qv's & corrections by A. Nonymous)\"\n",
    "test_doc = \"Alejandro Gonz\\u00e1lez I\\u00f1\\u00e1rritu (ih-nyar-ee-too), born August 15th, 1963, is a Mexican film director.Gonz\\u00e1lez I\\u00f1\\u00e1rritu is the first Mexican director to be nominated for the Academy Award for Best Director and by the Directors Guild of America for Best Director. He is also the first Mexican-born director to have won the Prix de la mise en scene or best director award at Cannes (2006), the second one being Carlos Reygadas in 2012. His six feature films, 'Amores Perros' (2000), '21 Grams' (2003), 'Babel' (2006), 'Biutiful' (2010), 'Birdman' (2014) and 'The Revenant' (2015), have gained critical acclaim world-wide including two Academy Award nominations.Alejandro Gonz\\u00e1lez I\\u00f1\\u00e1rritu was born in Mexico City.Crossing the Atlantic Ocean on a cargo ship at the ages of seventeen and nineteen years, Gonz\\u00e1lez I\\u00f1\\u00e1rritu worked his way across Europe and Africa. He himself has noted that these early travels as a young man have had a great influence on him as a film-maker. The setting of his films have often been in the places he visited during this period.After his travels, Gonz\\u00e1lez I\\u00f1\\u00e1rritu returned to Mexico City and majored in communications at Universidad Iberoamericana. In 1984, he started his career as a radio host at the Mexican radio station WFM, a rock and eclectic music station. In 1988, he became the director of the station. Over the next five years, Gonz\\u00e1lez I\\u00f1\\u00e1rritu spent his time interviewing rock stars, transmitting live concerts, and making WFM the number one radio station in Mexico. From 1987 to 1989, he composed music for six Mexican feature films. He has stated that he believes music has had a bigger influence on him as an artist than film itself.In the nineties, Gonz\\u00e1lez I\\u00f1\\u00e1rritu created Z films with Raul Olvera in Mexico. Under Z Films, he started writing, producing and directing short films and advertisements. Making the final transition into T.V Film directing, he studied under well-known Polish theatre director Ludwik Margules, as well as Judith Weston in Los Angeles.In 1995, Gonz\\u00e1lez I\\u00f1\\u00e1rritu wrote and directed his first T.V pilot for Z Films, called Detras del dinero, -\\\"Behind the Money\\\", starring Miguel Bos\\u00e9. Z Films went on to be one of the biggest and strongest film production companies in Mexico, launching seven young directors in the feature film arena. In 1999, Gonz\\u00e1lez I\\u00f1\\u00e1rritu directed his first feature film Amores perros, written by Guillermo Arriaga. Amores perros explored Mexican society in Mexico City told via three intertwining stories. In 2000, Amores perros premiered at the Cannes Film Festival and won the Critics Weeks Grand Prize. It also introduced audiences for the first time to Gael Garc\\u00eda Bernal. Amores perros went on to be nominated for Best Foreign Film at the Academy Awards.After the success of Amores Perros, Gonz\\u00e1lez I\\u00f1\\u00e1rritu and Guillermo Arriaga revisited the intersecting story structure of Amores perros in Gonz\\u00e1lez I\\u00f1\\u00e1rritu's second film, 21 Grams. The film starred Benicio del Toro, Naomi Watts and Sean Penn, and was presented at the Venice Film Festival, winning the Volpi Cup for actor Sean Penn. At the 2004 Academy Awards, Del Toro and Watts received nominations for their performances.In 2005 Gonz\\u00e1lez I\\u00f1\\u00e1rritu embarked on his third film, Babel, set in 4 countries on 3 continents, and in 4 different languages. Babel consists of four stories set in Morocco, Mexico, the United States, and Japan. The film stars Brad Pitt, Cate Blanchett and Adriana Barraza. The majority of the rest of the cast, however, was made up of non-professional actors and some new actors, such as Rinko Kikuchi. It was presented at Cannes 2006, where Gonz\\u00e1lez I\\u00f1\\u00e1rritu earned the Best Director Prize (Prix de la mise en sc\\u00e8ne). Babel was released in November 2006 and received seven nominations at the 79th Annual Academy Awards, including Best Picture and Best Director. Gonz\\u00e1lez I\\u00f1\\u00e1rritu is the first Mexican director nominated for a DGA award and for an Academy Award. Babel went on to win Best Motion Picture in the drama category at the Golden Globe Awards on January 15, 2007. Gustavo Santaolalla won the Academy Award that year for Best Original Score. After Babel, Alejandro and his writing partner Guillermo Arriaga professionally parted ways, following Gonz\\u00e1lez I\\u00f1\\u00e1rritu barring Arriaga from the set during filming (Arriaga told the LA Times in 2009 \\\"It had to come to an end, but I still respect Gonz\\u00e1lez I\\u00f1\\u00e1rritu\\\").In 2008 and 2009, Gonz\\u00e1lez I\\u00f1\\u00e1rritu directed and produced Biutiful, starring Javier Bardem, written by Gonz\\u00e1lez I\\u00f1\\u00e1rritu, Armando Bo, and Nicolas Giacobone. The film premiered at the Cannes Film Festial on May 17, 2010. Bardem went on to win Best Actor (shared with Elio Germano for La nostra vita) at Cannes. Biutiful is Gonz\\u00e1lez I\\u00f1\\u00e1rritu's first film in his native Spanish since his debut feature Amores perros. For the second time in his career his film was nominated for Best Foreign Language Film at the 83rd Academy Awards. It was also nominated for the 2011 Golden Globes in the category of Best Foreign Film, for the 2011 BAFTA awards in the category of Best Film Not in the English Language and Best Actor. Javier Bardem's performance was also nominated for Academy Award for Best Actor.In 2014, Gonz\\u00e1lez I\\u00f1\\u00e1rritu directed Birdman, starring Michael Keaton, Naomi Watts, Edward Norton, Emma Stone, Zach Galifianakis, and Andrea Riseborough. The film is I\\u00f1\\u00e1rritu's first comedy. Birdman is about an actor who played an iconic superhero, and who tries to revive his career by doing a play based on the Raymond Carver short story What We Talk About When We Talk About Love. The film was released on October 17, 2014.In April 2014, it was announced that Gonz\\u00e1lez I\\u00f1\\u00e1rritu's next film as a director will be The Revenant, which he co-wrote with Mark L. Smith. It is based on the novel of same name by Michael Punke. The film stars Leonardo DiCaprio, Tom Hardy and Will Poulter with shooting began in September 2014, for a December 25, 2015 release.The Revenant is being filmed in Alberta and B.C. with production scheduled to wrap in February 2015. The film will be a 19th Century period piece, and is described as a \\\"gritty thriller\\\" about a fur trapper who seeks revenge against a group of men who robbed and abandoned him after he was mauled by a grizzly bear.From 2001 to 2011, Gonz\\u00e1lez I\\u00f1\\u00e1rritu directed several short films.In 2001, he directed an 11 minute film segment for 11.09.01- which is composed of several short films that explore the effects of the 9/11 terrorist attacks from different points of view around the world.In 2007, he made ANNA which screened at the 2007 Cannes Film Festival inside Chacun son cin\\u00e9ma. It was part of the 60th anniversary of the film festival and it was a series of shorts by 33 world-renown film directors.In 2012, he made the experimental short film Naran Ja: One Act Orange Dance - inspired by L.A Dance Project's premiere performance. The short features excerpts of the new choreography Benjamin Millepied crafted for Moving Parts. The story takes place in a secluded, dusty space and centers around LADP dancer Julia Eichten.In 2001/2002, Gonz\\u00e1lez I\\u00f1\\u00e1rritu directed \\\"Powder Keg\\\", an episode for the BMW film series The Hire, starring Clive Owen as the driver.In 2010, Gonz\\u00e1lez I\\u00f1\\u00e1rritu directed Write the Future, a football-themed commercial for Nike ahead of the 2010 FIFA World Cup, which went on to win Grand Prix at the Cannes Lions advertising festival.In 2012, he directed Procter and Gamble's \\\"Best Job\\\" commercial spot for the 2012 Olympic Ceremonies. It went on to win the Best Primetime Commercial Emmy at Creative Arts Emmy Awards. - IMDb Mini Biography By: Alejandro Gonz\\u00e1lez I\\u00f1\\u00e1rritu\"\n",
    "doc = nlp(test_doc)\n",
    "sents = doc.sents"
   ]
  },
  {
   "cell_type": "code",
   "execution_count": 232,
   "metadata": {},
   "outputs": [
    {
     "name": "stdout",
     "output_type": "stream",
     "text": [
      "August 15th, 1963\n",
      "2006\n",
      "2012\n",
      "2000\n",
      "2003\n",
      "2006\n",
      "2010\n",
      "2014\n",
      "2015\n",
      "seventeen and nineteen years\n",
      "1984\n",
      "1988\n",
      "the next five years\n",
      "1987 to 1989\n",
      "the nineties\n",
      "1995\n",
      "1999\n",
      "2000\n",
      "2005\n",
      "November 2006\n",
      "January 15, 2007\n",
      "that year\n",
      "2009\n",
      "2008\n",
      "2009\n",
      "May 17, 2010\n",
      "2011\n",
      "2011\n",
      "2014\n",
      "October 17\n",
      "April 2014\n",
      "September 2014\n",
      "December 25, 2015\n",
      "February 2015\n",
      "2001 to 2011\n",
      "2001\n",
      "11.09.01-\n",
      "2007\n",
      "2007\n",
      "2012\n",
      "2001/2002\n",
      "2010\n",
      "2010\n",
      "2012\n",
      "2012\n"
     ]
    }
   ],
   "source": [
    "for ent in doc.ents:\n",
    "    if ent.label_ == \"DATE\":\n",
    "        print(ent)\n"
   ]
  },
  {
   "cell_type": "code",
   "execution_count": 85,
   "metadata": {},
   "outputs": [],
   "source": [
    "def return_matches(doc, matches):\n",
    "    for match in matches:\n",
    "        if len(match)==2:\n",
    "            yield doc[match[1][0]:match[1][1]]\n",
    "        else:\n",
    "            yield doc[match[1]:match[2]]"
   ]
  },
  {
   "cell_type": "code",
   "execution_count": 71,
   "metadata": {},
   "outputs": [],
   "source": [
    "class Bio_Extractor:\n",
    "    def __init__(self, patterns: list, matcher=Matcher, greedy='LONGEST') -> None:\n",
    "        self.patterns = patterns\n",
    "        self.matcher = matcher(nlp.vocab)\n",
    "        if matcher != Matcher: self.matcher.add('pattern', self.patterns)\n",
    "        else: self.matcher.add('pattern', self.patterns, greedy=greedy)\n",
    "\n",
    "    def return_matches(self, doc, matches):\n",
    "        for match in matches:\n",
    "            yield doc[match[1]:match[2]]\n",
    "\n",
    "    def match(self, doc):\n",
    "        matches = list(return_matches(doc, self.matcher(doc)))\n",
    "        return matches"
   ]
  },
  {
   "cell_type": "code",
   "execution_count": 6,
   "metadata": {},
   "outputs": [],
   "source": [
    "ENT_TYPES = ['ORG', 'CARDINAL', 'DATE', 'GPE', 'PERSON', 'MONEY', 'PRODUCT', 'TIME', 'PERCENT', 'WORK_OF_ART', 'QUANTITY', 'NORP', 'LOC', 'EVENT', 'ORDINAL', 'FAC', 'LAW', 'LANGUAGE']\n",
    "general_ent_matcher = Bio_Extractor([[{'ENT_TYPE': ent_type, 'OP': '+'}] for ent_type in ENT_TYPES])"
   ]
  },
  {
   "cell_type": "code",
   "execution_count": 167,
   "metadata": {},
   "outputs": [],
   "source": [
    "def extract_from_bio(doc, extractors:list, ent_matcher=None):\n",
    "    \n",
    "    if ent_matcher:\n",
    "        results = set()\n",
    "        for extractor in extractors:\n",
    "            for match in extractor.match(doc):\n",
    "                entities = ent_matcher.match(match)\n",
    "                for ent in entities:\n",
    "                    results.add(ent.text)\n",
    "    else:\n",
    "        results = []\n",
    "        for extractor in extractors:\n",
    "            results += extractor.match(doc)\n",
    "        results = [i.text for i in results if type(i)==spacy.tokens.Span]\n",
    "        results = set(results)\n",
    "    return list(results)"
   ]
  },
  {
   "cell_type": "markdown",
   "metadata": {},
   "source": [
    "### Education"
   ]
  },
  {
   "cell_type": "code",
   "execution_count": 8,
   "metadata": {},
   "outputs": [],
   "source": [
    "ORG_matcher = Bio_Extractor([[{'ENT_TYPE': 'ORG', 'OP': '+'}]])"
   ]
  },
  {
   "cell_type": "code",
   "execution_count": 9,
   "metadata": {},
   "outputs": [],
   "source": [
    "results = set()"
   ]
  },
  {
   "cell_type": "markdown",
   "metadata": {},
   "source": [
    "#### Lexical"
   ]
  },
  {
   "cell_type": "code",
   "execution_count": 10,
   "metadata": {},
   "outputs": [],
   "source": [
    "patterns = [\n",
    "    [{'LOWER': 'was'}, {'LOWER':{'REGEX': '^educat\\w*$'}}, {'LOWER': 'at'}, {'IS_TITLE': True, 'OP': \"+\"}, {'LOWER': 'of', 'OP': '*'}, {'IS_TITLE': True, 'OP': \"*\"}],\n",
    "    [{'LOWER':{'REGEX': '^attend\\w*$'}}, {'IS_TITLE': True, 'OP': \"+\"}, {'LOWER': 'of', 'OP': '*'}, {'IS_TITLE': True, 'OP': \"*\"}]\n",
    "]"
   ]
  },
  {
   "cell_type": "code",
   "execution_count": 11,
   "metadata": {},
   "outputs": [],
   "source": [
    "edu_lex_extractor = Bio_Extractor(patterns)\n",
    "matches = edu_lex_extractor.match(doc)"
   ]
  },
  {
   "cell_type": "code",
   "execution_count": 12,
   "metadata": {},
   "outputs": [],
   "source": [
    "for i in [ORG_matcher.match(match)[-1] for match in matches]:\n",
    "    results.add(i)\n"
   ]
  },
  {
   "cell_type": "markdown",
   "metadata": {},
   "source": [
    "#### Syntactic"
   ]
  },
  {
   "cell_type": "code",
   "execution_count": 13,
   "metadata": {},
   "outputs": [],
   "source": [
    "patterns = [\n",
    "    [{'LEMMA': 'educate'}, {'LOWER': 'at'}, {'ENT_TYPE': 'ORG', 'OP': '+'}],\n",
    "    [{'LEMMA': 'attend'}, {'ENT_TYPE': 'ORG', 'OP': '+'}],\n",
    "    [{'LEMMA': 'study'}, {'LOWER': 'at'}, {'ENT_TYPE': 'ORG', 'OP': '+'}]\n",
    "]"
   ]
  },
  {
   "cell_type": "code",
   "execution_count": 14,
   "metadata": {},
   "outputs": [],
   "source": [
    "edu_syn_extractor = Bio_Extractor(patterns)\n",
    "matches = edu_syn_extractor.match(doc)"
   ]
  },
  {
   "cell_type": "code",
   "execution_count": 15,
   "metadata": {},
   "outputs": [],
   "source": [
    "for i in [ORG_matcher.match(match)[-1] for match in matches]:\n",
    "    results.add(i)"
   ]
  },
  {
   "cell_type": "code",
   "execution_count": 16,
   "metadata": {},
   "outputs": [
    {
     "data": {
      "text/plain": [
       "set()"
      ]
     },
     "execution_count": 16,
     "metadata": {},
     "output_type": "execute_result"
    }
   ],
   "source": [
    "results"
   ]
  },
  {
   "cell_type": "markdown",
   "metadata": {},
   "source": [
    "### Birthplace"
   ]
  },
  {
   "cell_type": "code",
   "execution_count": 149,
   "metadata": {},
   "outputs": [],
   "source": [
    "GPE_LOC_matcher = Bio_Extractor([[{'ENT_TYPE': 'LOC', 'OP': '+'}],[{'ENT_TYPE': 'GPE', 'OP': '+'}]])"
   ]
  },
  {
   "cell_type": "markdown",
   "metadata": {},
   "source": [
    "#### Lexical"
   ]
  },
  {
   "cell_type": "code",
   "execution_count": 150,
   "metadata": {},
   "outputs": [],
   "source": [
    "patterns = [\n",
    "    [{'LOWER':'born'}, {'LOWER': 'in'}, {'IS_TITLE': True, 'OP': \"+\"}],\n",
    "]"
   ]
  },
  {
   "cell_type": "code",
   "execution_count": 151,
   "metadata": {},
   "outputs": [],
   "source": [
    "bp_lex_extractor = Bio_Extractor(patterns)"
   ]
  },
  {
   "cell_type": "code",
   "execution_count": 158,
   "metadata": {},
   "outputs": [
    {
     "data": {
      "text/plain": [
       "[born in Copenhagen]"
      ]
     },
     "execution_count": 158,
     "metadata": {},
     "output_type": "execute_result"
    }
   ],
   "source": [
    "bp_lex_extractor.match(doc)"
   ]
  },
  {
   "cell_type": "markdown",
   "metadata": {},
   "source": [
    "#### Syntactic"
   ]
  },
  {
   "cell_type": "code",
   "execution_count": 152,
   "metadata": {},
   "outputs": [],
   "source": [
    "patterns = [\n",
    "    [{'LEMMA': 'born'}, {'POS': 'ADP'}, {'ENT_TYPE': 'LOC', 'OP': '+'}],\n",
    "]"
   ]
  },
  {
   "cell_type": "code",
   "execution_count": 153,
   "metadata": {},
   "outputs": [],
   "source": [
    "bp_syn_extractor = Bio_Extractor(patterns)"
   ]
  },
  {
   "cell_type": "code",
   "execution_count": 171,
   "metadata": {},
   "outputs": [
    {
     "data": {
      "text/plain": [
       "[]"
      ]
     },
     "execution_count": 171,
     "metadata": {},
     "output_type": "execute_result"
    }
   ],
   "source": [
    "extract_from_bio(doc, [bp_lex_extractor, bp_syn_extractor])"
   ]
  },
  {
   "cell_type": "markdown",
   "metadata": {},
   "source": [
    "### Movies"
   ]
  },
  {
   "cell_type": "markdown",
   "metadata": {},
   "source": [
    "#### Lexical"
   ]
  },
  {
   "cell_type": "code",
   "execution_count": 123,
   "metadata": {},
   "outputs": [],
   "source": [
    "patterns = [\n",
    "    [{'TEXT': '\"', 'OP': '*'}, {'TEXT': \"'\", 'OP': '*'}, {'IS_TITLE': True, 'OP': \"+\"}, {'TEXT': \"'\", 'OP': '*'}, {'TEXT': '\"', 'OP': '*'}, {'TEXT': '('}, {\"TEXT\": {\"REGEX\": \"[0-9]{4}\"}}, {'TEXT': ')'}]\n",
    "]"
   ]
  },
  {
   "cell_type": "code",
   "execution_count": 124,
   "metadata": {},
   "outputs": [],
   "source": [
    "movie_lex_extractor = Bio_Extractor(patterns)"
   ]
  },
  {
   "cell_type": "markdown",
   "metadata": {},
   "source": [
    "#### Syntactic"
   ]
  },
  {
   "cell_type": "code",
   "execution_count": 125,
   "metadata": {},
   "outputs": [],
   "source": [
    "patterns = [\n",
    "    [{'TEXT': '\"', 'OP': '*'}, {'TEXT': \"'\", 'OP': '*'}, {'IS_TITLE': True, 'OP': \"+\"}, {'TEXT': \"'\", 'OP': '*'}, {'TEXT': '\"', 'OP': '*'}, {'TEXT': '('}, {'ENT_TYPE': 'DATE'}, {'TEXT': ')'}]\n",
    "]"
   ]
  },
  {
   "cell_type": "code",
   "execution_count": 126,
   "metadata": {},
   "outputs": [],
   "source": [
    "movie_syn_extractor = Bio_Extractor(patterns)"
   ]
  },
  {
   "cell_type": "code",
   "execution_count": 127,
   "metadata": {},
   "outputs": [
    {
     "data": {
      "text/plain": [
       "{Cannes (2006),\n",
       " 'Amores Perros' (2000),\n",
       " Grams' (2003),\n",
       " 'Babel' (2006),\n",
       " 'Biutiful' (2010),\n",
       " 'Birdman' (2014),\n",
       " 'The Revenant' (2015)}"
      ]
     },
     "execution_count": 127,
     "metadata": {},
     "output_type": "execute_result"
    }
   ],
   "source": [
    "extract_from_bio(doc, [movie_syn_extractor, movie_syn_extractor])"
   ]
  },
  {
   "cell_type": "markdown",
   "metadata": {},
   "source": [
    "### Award"
   ]
  },
  {
   "cell_type": "markdown",
   "metadata": {},
   "source": [
    "#### Lexical"
   ]
  },
  {
   "cell_type": "code",
   "execution_count": 128,
   "metadata": {},
   "outputs": [],
   "source": [
    "patterns = [\n",
    "    [{'LOWER': 'the', 'OP': '*'}, {'IS_TITLE': True, 'OP': \"*\"}, {'LOWER': 'and', 'OP': '*'}, {'IS_TITLE': True, 'OP': \"+\"}, {'TEXT': \"'\", 'OP': '*'}, {'TEXT': \"'s\", 'OP': '*'}, {'LOWER': 'award'}, {'LOWER': 'for', 'OP': '*'}, {'IS_TITLE': True, 'OP': \"*\"}],\n",
    "    [{'LOWER': 'the', 'OP': '*'}, {'IS_TITLE': True, 'OP': \"*\"}, {'LOWER': 'and', 'OP': '*'}, {'IS_TITLE': True, 'OP': \"+\"}, {'TEXT': \"'\", 'OP': '*'}, {'TEXT': \"'s\", 'OP': '*'}, {'LOWER': 'awards'}, {'LOWER': 'for', 'OP': '*'}, {'IS_TITLE': True, 'OP': \"*\"}]\n",
    "]"
   ]
  },
  {
   "cell_type": "code",
   "execution_count": 129,
   "metadata": {},
   "outputs": [],
   "source": [
    "award_lex_extractor = Bio_Extractor(patterns)"
   ]
  },
  {
   "cell_type": "markdown",
   "metadata": {},
   "source": [
    "#### Syntactic"
   ]
  },
  {
   "cell_type": "code",
   "execution_count": 130,
   "metadata": {},
   "outputs": [],
   "source": [
    "patterns = [\n",
    "    #[{'LEMMA': 'win'}, {'ENT_TYPE': 'ORG', 'OP': '*'}, {'LEMMA': 'Award'}, {'ENT_TYPE': 'ORG', 'OP': '*'}]\n",
    "    [\n",
    "        {\n",
    "            \"RIGHT_ID\": \"win\",\n",
    "            \"RIGHT_ATTRS\": {\"LEMMA\": {\"IN\": [\"win\", \"won\"]}}\n",
    "        },\n",
    "        {\n",
    "            \"LEFT_ID\": \"win\",\n",
    "            \"REL_OP\": \">\",\n",
    "            \"RIGHT_ID\": \"subject\",\n",
    "            \"RIGHT_ATTRS\": {'ENT_TYPE': 'ORG'}\n",
    "        }\n",
    "    ]\n",
    "]"
   ]
  },
  {
   "cell_type": "code",
   "execution_count": 131,
   "metadata": {},
   "outputs": [],
   "source": [
    "award_syn_extractor = Bio_Extractor(patterns, matcher=DependencyMatcher)"
   ]
  },
  {
   "cell_type": "code",
   "execution_count": 132,
   "metadata": {},
   "outputs": [
    {
     "data": {
      "text/plain": [
       "{the Academy Award for Best Director,\n",
       " Academy Award,\n",
       " won the Critics Weeks Grand,\n",
       " the Academy Awards,\n",
       " Academy Awards,\n",
       " Annual Academy Awards,\n",
       " Academy Award,\n",
       " the Golden Globe Awards,\n",
       " won the Academy,\n",
       " the Academy Award,\n",
       " Academy Awards,\n",
       " Academy Award for Best Actor,\n",
       " Creative Arts Emmy Awards}"
      ]
     },
     "execution_count": 132,
     "metadata": {},
     "output_type": "execute_result"
    }
   ],
   "source": [
    "extract_from_bio(doc, [award_lex_extractor, award_syn_extractor])"
   ]
  },
  {
   "cell_type": "markdown",
   "metadata": {},
   "source": [
    "### Actors"
   ]
  },
  {
   "cell_type": "code",
   "execution_count": 133,
   "metadata": {},
   "outputs": [],
   "source": [
    "PERSON_matcher = Bio_Extractor([[{'ENT_TYPE': 'PERSON', 'OP': '+'}]])"
   ]
  },
  {
   "cell_type": "markdown",
   "metadata": {},
   "source": [
    "#### Lexical"
   ]
  },
  {
   "cell_type": "code",
   "execution_count": 134,
   "metadata": {},
   "outputs": [],
   "source": [
    "patterns = [\n",
    "    [{'LOWER': 'actor'}, {'IS_TITLE': True, 'OP': \"+\"}]\n",
    "]"
   ]
  },
  {
   "cell_type": "code",
   "execution_count": 135,
   "metadata": {},
   "outputs": [],
   "source": [
    "actors_lex_extractor = Bio_Extractor(patterns)"
   ]
  },
  {
   "cell_type": "markdown",
   "metadata": {},
   "source": [
    "#### Syntactic"
   ]
  },
  {
   "cell_type": "code",
   "execution_count": 136,
   "metadata": {},
   "outputs": [],
   "source": [
    "patterns = [\n",
    "    [{'LOWER': 'actor'}, {'ENT_TYPE': \"PERSON\", 'OP': \"+\"}]\n",
    "]"
   ]
  },
  {
   "cell_type": "code",
   "execution_count": 137,
   "metadata": {},
   "outputs": [],
   "source": [
    "actors_syn_extractor = Bio_Extractor(patterns)"
   ]
  },
  {
   "cell_type": "code",
   "execution_count": 138,
   "metadata": {},
   "outputs": [
    {
     "data": {
      "text/plain": [
       "{Sean Penn}"
      ]
     },
     "execution_count": 138,
     "metadata": {},
     "output_type": "execute_result"
    }
   ],
   "source": [
    "extract_from_bio(doc, [actors_lex_extractor, actors_syn_extractor], PERSON_matcher)"
   ]
  },
  {
   "cell_type": "markdown",
   "metadata": {},
   "source": [
    "## Aggregate"
   ]
  },
  {
   "cell_type": "markdown",
   "metadata": {},
   "source": [
    "### Import Data"
   ]
  },
  {
   "cell_type": "code",
   "execution_count": 113,
   "metadata": {},
   "outputs": [],
   "source": [
    "import json"
   ]
  },
  {
   "cell_type": "code",
   "execution_count": 116,
   "metadata": {},
   "outputs": [],
   "source": [
    "directors_crawl = []\n",
    "with open(\"Ruijie_Rao_hw01_director.jsonl\",\"r\") as file:\n",
    "    for line in file.readlines():\n",
    "        directors_crawl.append(json.loads(line))"
   ]
  },
  {
   "cell_type": "code",
   "execution_count": 168,
   "metadata": {},
   "outputs": [],
   "source": [
    "open(\"Ruijie_Rao_hw01_directorIE.jsonl\", \"w+\").close()\n",
    "with open(\"Ruijie_Rao_hw01_directorIE.jsonl\", \"a\") as file: \n",
    "    for director in directors_crawl:\n",
    "        if director[\"biography\"]:\n",
    "            doc = nlp(director[\"biography\"])\n",
    "        else: doc = nlp(\"\")\n",
    "        director_IE = {\n",
    "            \"name\": director[\"name\"],\n",
    "            \"education_lex\": extract_from_bio(doc, [edu_lex_extractor], general_ent_matcher),\n",
    "            \"education_syn\": extract_from_bio(doc, [edu_syn_extractor], general_ent_matcher),\n",
    "            \"birthplace_lex\": extract_from_bio(doc, [bp_lex_extractor], general_ent_matcher),\n",
    "            \"birthplace_syn\": extract_from_bio(doc, [bp_syn_extractor], general_ent_matcher),\n",
    "            \"movies_lex\": extract_from_bio(doc, [movie_lex_extractor]),\n",
    "            \"movies_syn\": extract_from_bio(doc, [movie_syn_extractor]),\n",
    "            \"awards_lex\": extract_from_bio(doc, [award_lex_extractor]),\n",
    "            \"awards_syn\": extract_from_bio(doc, [award_syn_extractor]),\n",
    "            \"actors_lex\": extract_from_bio(doc, [actors_lex_extractor], PERSON_matcher),\n",
    "            \"actors_syn\": extract_from_bio(doc, [actors_syn_extractor], PERSON_matcher),\n",
    "        }\n",
    "        line = json.dumps(director_IE) + \"\\n\"\n",
    "        file.write(line)\n"
   ]
  }
 ],
 "metadata": {
  "kernelspec": {
   "display_name": "Python 3.10.0 ('DS558')",
   "language": "python",
   "name": "python3"
  },
  "language_info": {
   "codemirror_mode": {
    "name": "ipython",
    "version": 3
   },
   "file_extension": ".py",
   "mimetype": "text/x-python",
   "name": "python",
   "nbconvert_exporter": "python",
   "pygments_lexer": "ipython3",
   "version": "3.10.4"
  },
  "orig_nbformat": 4,
  "vscode": {
   "interpreter": {
    "hash": "7d2ff20c00d4ac93ff3e3c3c2246f9d6a04344282adafe22c7a286cd6fb7db25"
   }
  }
 },
 "nbformat": 4,
 "nbformat_minor": 2
}
