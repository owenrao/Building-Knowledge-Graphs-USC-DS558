{
  "cells": [
    {
      "cell_type": "code",
      "execution_count": 1,
      "metadata": {
        "colab": {
          "base_uri": "https://localhost:8080/"
        },
        "id": "r6I4GCMhBDgv",
        "outputId": "549f7170-7241-442c-8490-172a9673d8e1"
      },
      "outputs": [
        {
          "name": "stdout",
          "output_type": "stream",
          "text": [
            "Looking in indexes: https://pypi.org/simple, https://us-python.pkg.dev/colab-wheels/public/simple/\n",
            "Requirement already satisfied: torch in /usr/local/lib/python3.7/dist-packages (1.12.1+cu113)\n",
            "Requirement already satisfied: typing-extensions in /usr/local/lib/python3.7/dist-packages (from torch) (4.1.1)\n",
            "1.12.1+cu113\n",
            "Looking in indexes: https://pypi.org/simple, https://us-python.pkg.dev/colab-wheels/public/simple/\n",
            "Requirement already satisfied: pandas in /usr/local/lib/python3.7/dist-packages (1.3.5)\n",
            "Requirement already satisfied: python-dateutil>=2.7.3 in /usr/local/lib/python3.7/dist-packages (from pandas) (2.8.2)\n",
            "Requirement already satisfied: pytz>=2017.3 in /usr/local/lib/python3.7/dist-packages (from pandas) (2022.6)\n",
            "Requirement already satisfied: numpy>=1.17.3 in /usr/local/lib/python3.7/dist-packages (from pandas) (1.21.6)\n",
            "Requirement already satisfied: six>=1.5 in /usr/local/lib/python3.7/dist-packages (from python-dateutil>=2.7.3->pandas) (1.15.0)\n"
          ]
        }
      ],
      "source": [
        "!pip install torch\n",
        "import torch\n",
        "print(torch.__version__)\n",
        "\n",
        "!pip install pandas"
      ]
    },
    {
      "cell_type": "markdown",
      "metadata": {
        "id": "C5Wm4DMxBNvz"
      },
      "source": [
        "Change torch.__version__ of following installation command.\n"
      ]
    },
    {
      "cell_type": "code",
      "execution_count": 2,
      "metadata": {
        "colab": {
          "base_uri": "https://localhost:8080/"
        },
        "id": "51cJq9pDBMY-",
        "outputId": "7dc9073d-33e0-4567-da8a-d3bdcd8836d6"
      },
      "outputs": [
        {
          "name": "stdout",
          "output_type": "stream",
          "text": [
            "Looking in indexes: https://pypi.org/simple, https://us-python.pkg.dev/colab-wheels/public/simple/\n",
            "Looking in links: https://data.pyg.org/whl/torch-1.12.1+cu113.html\n",
            "Collecting torch-geometric\n",
            "  Downloading torch_geometric-2.1.0.post1.tar.gz (467 kB)\n",
            "\u001b[K     |████████████████████████████████| 467 kB 4.3 MB/s \n",
            "\u001b[?25hCollecting torch-scatter\n",
            "  Downloading https://data.pyg.org/whl/torch-1.12.0%2Bcu113/torch_scatter-2.0.9-cp37-cp37m-linux_x86_64.whl (7.9 MB)\n",
            "\u001b[K     |████████████████████████████████| 7.9 MB 4.8 MB/s \n",
            "\u001b[?25hCollecting torch-sparse\n",
            "  Downloading https://data.pyg.org/whl/torch-1.12.0%2Bcu113/torch_sparse-0.6.15-cp37-cp37m-linux_x86_64.whl (3.5 MB)\n",
            "\u001b[K     |████████████████████████████████| 3.5 MB 55.4 MB/s \n",
            "\u001b[?25hRequirement already satisfied: tqdm in /usr/local/lib/python3.7/dist-packages (from torch-geometric) (4.64.1)\n",
            "Requirement already satisfied: numpy in /usr/local/lib/python3.7/dist-packages (from torch-geometric) (1.21.6)\n",
            "Requirement already satisfied: scipy in /usr/local/lib/python3.7/dist-packages (from torch-geometric) (1.7.3)\n",
            "Requirement already satisfied: jinja2 in /usr/local/lib/python3.7/dist-packages (from torch-geometric) (2.11.3)\n",
            "Requirement already satisfied: requests in /usr/local/lib/python3.7/dist-packages (from torch-geometric) (2.23.0)\n",
            "Requirement already satisfied: pyparsing in /usr/local/lib/python3.7/dist-packages (from torch-geometric) (3.0.9)\n",
            "Requirement already satisfied: scikit-learn in /usr/local/lib/python3.7/dist-packages (from torch-geometric) (1.0.2)\n",
            "Requirement already satisfied: MarkupSafe>=0.23 in /usr/local/lib/python3.7/dist-packages (from jinja2->torch-geometric) (2.0.1)\n",
            "Requirement already satisfied: chardet<4,>=3.0.2 in /usr/local/lib/python3.7/dist-packages (from requests->torch-geometric) (3.0.4)\n",
            "Requirement already satisfied: idna<3,>=2.5 in /usr/local/lib/python3.7/dist-packages (from requests->torch-geometric) (2.10)\n",
            "Requirement already satisfied: certifi>=2017.4.17 in /usr/local/lib/python3.7/dist-packages (from requests->torch-geometric) (2022.9.24)\n",
            "Requirement already satisfied: urllib3!=1.25.0,!=1.25.1,<1.26,>=1.21.1 in /usr/local/lib/python3.7/dist-packages (from requests->torch-geometric) (1.24.3)\n",
            "Requirement already satisfied: joblib>=0.11 in /usr/local/lib/python3.7/dist-packages (from scikit-learn->torch-geometric) (1.2.0)\n",
            "Requirement already satisfied: threadpoolctl>=2.0.0 in /usr/local/lib/python3.7/dist-packages (from scikit-learn->torch-geometric) (3.1.0)\n",
            "Building wheels for collected packages: torch-geometric\n",
            "  Building wheel for torch-geometric (setup.py) ... \u001b[?25l\u001b[?25hdone\n",
            "  Created wheel for torch-geometric: filename=torch_geometric-2.1.0.post1-py3-none-any.whl size=689857 sha256=fb86b1311f40dae2d48ea99296a0d7af273526083182c3ea0928fafaa9f835a4\n",
            "  Stored in directory: /root/.cache/pip/wheels/d1/cb/43/f7f2e472de4d7cff31bceddadc36d634e1e545fbc17961c282\n",
            "Successfully built torch-geometric\n",
            "Installing collected packages: torch-sparse, torch-scatter, torch-geometric\n",
            "Successfully installed torch-geometric-2.1.0.post1 torch-scatter-2.0.9 torch-sparse-0.6.15\n"
          ]
        }
      ],
      "source": [
        "!pip install torch-geometric torch-scatter torch-sparse -f https://data.pyg.org/whl/torch-{torch.__version__}.html"
      ]
    },
    {
      "cell_type": "code",
      "execution_count": 3,
      "metadata": {
        "colab": {
          "base_uri": "https://localhost:8080/"
        },
        "id": "uIFEeMlUW2jB",
        "outputId": "ae8f5c85-7562-42d8-f3b2-c27c0cc96e2a"
      },
      "outputs": [
        {
          "name": "stdout",
          "output_type": "stream",
          "text": [
            "Mounted at /content/gdrive\n"
          ]
        }
      ],
      "source": [
        "from google.colab import drive\n",
        "drive.mount('/content/gdrive')"
      ]
    },
    {
      "cell_type": "code",
      "execution_count": 6,
      "metadata": {
        "id": "YfI7nfzuW8b5"
      },
      "outputs": [],
      "source": [
        "dir = \"gdrive/MyDrive/USC/DS558/HW6_Neural_Symbolic/\""
      ]
    },
    {
      "cell_type": "markdown",
      "metadata": {
        "id": "f-5S1UVsBRa2"
      },
      "source": [
        "Preprocess data"
      ]
    },
    {
      "cell_type": "code",
      "execution_count": 7,
      "metadata": {
        "colab": {
          "base_uri": "https://localhost:8080/",
          "height": 243
        },
        "id": "f-dyiwPOBQYY",
        "outputId": "5cb9f5c9-734d-4a1c-9609-6289c3c908cc"
      },
      "outputs": [
        {
          "name": "stderr",
          "output_type": "stream",
          "text": [
            "/usr/local/lib/python3.7/dist-packages/IPython/core/interactiveshell.py:3326: DtypeWarning: Columns (3) have mixed types.Specify dtype option on import or set low_memory=False.\n",
            "  exec(code_obj, self.user_global_ns, self.user_ns)\n"
          ]
        },
        {
          "data": {
            "text/html": [
              "\n",
              "  <div id=\"df-d3361ea4-e68c-44c4-8eed-dd3541725e94\">\n",
              "    <div class=\"colab-df-container\">\n",
              "      <div>\n",
              "<style scoped>\n",
              "    .dataframe tbody tr th:only-of-type {\n",
              "        vertical-align: middle;\n",
              "    }\n",
              "\n",
              "    .dataframe tbody tr th {\n",
              "        vertical-align: top;\n",
              "    }\n",
              "\n",
              "    .dataframe thead th {\n",
              "        text-align: right;\n",
              "    }\n",
              "</style>\n",
              "<table border=\"1\" class=\"dataframe\">\n",
              "  <thead>\n",
              "    <tr style=\"text-align: right;\">\n",
              "      <th></th>\n",
              "      <th>session_id</th>\n",
              "      <th>timestamp</th>\n",
              "      <th>item_id</th>\n",
              "      <th>price</th>\n",
              "      <th>quantity</th>\n",
              "    </tr>\n",
              "  </thead>\n",
              "  <tbody>\n",
              "    <tr>\n",
              "      <th>0</th>\n",
              "      <td>420374</td>\n",
              "      <td>2014-04-06T18:44:58.314Z</td>\n",
              "      <td>214537888</td>\n",
              "      <td>12462</td>\n",
              "      <td>1</td>\n",
              "    </tr>\n",
              "    <tr>\n",
              "      <th>1</th>\n",
              "      <td>420374</td>\n",
              "      <td>2014-04-06T18:44:58.325Z</td>\n",
              "      <td>214537850</td>\n",
              "      <td>10471</td>\n",
              "      <td>1</td>\n",
              "    </tr>\n",
              "    <tr>\n",
              "      <th>2</th>\n",
              "      <td>281626</td>\n",
              "      <td>2014-04-06T09:40:13.032Z</td>\n",
              "      <td>214535653</td>\n",
              "      <td>1883</td>\n",
              "      <td>1</td>\n",
              "    </tr>\n",
              "    <tr>\n",
              "      <th>3</th>\n",
              "      <td>420368</td>\n",
              "      <td>2014-04-04T06:13:28.848Z</td>\n",
              "      <td>214530572</td>\n",
              "      <td>6073</td>\n",
              "      <td>1</td>\n",
              "    </tr>\n",
              "    <tr>\n",
              "      <th>4</th>\n",
              "      <td>420368</td>\n",
              "      <td>2014-04-04T06:13:28.858Z</td>\n",
              "      <td>214835025</td>\n",
              "      <td>2617</td>\n",
              "      <td>1</td>\n",
              "    </tr>\n",
              "  </tbody>\n",
              "</table>\n",
              "</div>\n",
              "      <button class=\"colab-df-convert\" onclick=\"convertToInteractive('df-d3361ea4-e68c-44c4-8eed-dd3541725e94')\"\n",
              "              title=\"Convert this dataframe to an interactive table.\"\n",
              "              style=\"display:none;\">\n",
              "        \n",
              "  <svg xmlns=\"http://www.w3.org/2000/svg\" height=\"24px\"viewBox=\"0 0 24 24\"\n",
              "       width=\"24px\">\n",
              "    <path d=\"M0 0h24v24H0V0z\" fill=\"none\"/>\n",
              "    <path d=\"M18.56 5.44l.94 2.06.94-2.06 2.06-.94-2.06-.94-.94-2.06-.94 2.06-2.06.94zm-11 1L8.5 8.5l.94-2.06 2.06-.94-2.06-.94L8.5 2.5l-.94 2.06-2.06.94zm10 10l.94 2.06.94-2.06 2.06-.94-2.06-.94-.94-2.06-.94 2.06-2.06.94z\"/><path d=\"M17.41 7.96l-1.37-1.37c-.4-.4-.92-.59-1.43-.59-.52 0-1.04.2-1.43.59L10.3 9.45l-7.72 7.72c-.78.78-.78 2.05 0 2.83L4 21.41c.39.39.9.59 1.41.59.51 0 1.02-.2 1.41-.59l7.78-7.78 2.81-2.81c.8-.78.8-2.07 0-2.86zM5.41 20L4 18.59l7.72-7.72 1.47 1.35L5.41 20z\"/>\n",
              "  </svg>\n",
              "      </button>\n",
              "      \n",
              "  <style>\n",
              "    .colab-df-container {\n",
              "      display:flex;\n",
              "      flex-wrap:wrap;\n",
              "      gap: 12px;\n",
              "    }\n",
              "\n",
              "    .colab-df-convert {\n",
              "      background-color: #E8F0FE;\n",
              "      border: none;\n",
              "      border-radius: 50%;\n",
              "      cursor: pointer;\n",
              "      display: none;\n",
              "      fill: #1967D2;\n",
              "      height: 32px;\n",
              "      padding: 0 0 0 0;\n",
              "      width: 32px;\n",
              "    }\n",
              "\n",
              "    .colab-df-convert:hover {\n",
              "      background-color: #E2EBFA;\n",
              "      box-shadow: 0px 1px 2px rgba(60, 64, 67, 0.3), 0px 1px 3px 1px rgba(60, 64, 67, 0.15);\n",
              "      fill: #174EA6;\n",
              "    }\n",
              "\n",
              "    [theme=dark] .colab-df-convert {\n",
              "      background-color: #3B4455;\n",
              "      fill: #D2E3FC;\n",
              "    }\n",
              "\n",
              "    [theme=dark] .colab-df-convert:hover {\n",
              "      background-color: #434B5C;\n",
              "      box-shadow: 0px 1px 3px 1px rgba(0, 0, 0, 0.15);\n",
              "      filter: drop-shadow(0px 1px 2px rgba(0, 0, 0, 0.3));\n",
              "      fill: #FFFFFF;\n",
              "    }\n",
              "  </style>\n",
              "\n",
              "      <script>\n",
              "        const buttonEl =\n",
              "          document.querySelector('#df-d3361ea4-e68c-44c4-8eed-dd3541725e94 button.colab-df-convert');\n",
              "        buttonEl.style.display =\n",
              "          google.colab.kernel.accessAllowed ? 'block' : 'none';\n",
              "\n",
              "        async function convertToInteractive(key) {\n",
              "          const element = document.querySelector('#df-d3361ea4-e68c-44c4-8eed-dd3541725e94');\n",
              "          const dataTable =\n",
              "            await google.colab.kernel.invokeFunction('convertToInteractive',\n",
              "                                                     [key], {});\n",
              "          if (!dataTable) return;\n",
              "\n",
              "          const docLinkHtml = 'Like what you see? Visit the ' +\n",
              "            '<a target=\"_blank\" href=https://colab.research.google.com/notebooks/data_table.ipynb>data table notebook</a>'\n",
              "            + ' to learn more about interactive tables.';\n",
              "          element.innerHTML = '';\n",
              "          dataTable['output_type'] = 'display_data';\n",
              "          await google.colab.output.renderOutput(dataTable, element);\n",
              "          const docLink = document.createElement('div');\n",
              "          docLink.innerHTML = docLinkHtml;\n",
              "          element.appendChild(docLink);\n",
              "        }\n",
              "      </script>\n",
              "    </div>\n",
              "  </div>\n",
              "  "
            ],
            "text/plain": [
              "   session_id                 timestamp    item_id  price  quantity\n",
              "0      420374  2014-04-06T18:44:58.314Z  214537888  12462         1\n",
              "1      420374  2014-04-06T18:44:58.325Z  214537850  10471         1\n",
              "2      281626  2014-04-06T09:40:13.032Z  214535653   1883         1\n",
              "3      420368  2014-04-04T06:13:28.848Z  214530572   6073         1\n",
              "4      420368  2014-04-04T06:13:28.858Z  214835025   2617         1"
            ]
          },
          "execution_count": 7,
          "metadata": {},
          "output_type": "execute_result"
        }
      ],
      "source": [
        "import pandas as pd\n",
        "\n",
        "# Load files. (You should change file name according to your storage path)\n",
        "clicks_df = pd.read_csv(dir+'clicks.dat', header=None)\n",
        "clicks_df.columns=['session_id','timestamp','item_id','category']\n",
        "clicks_df.head()\n",
        " \n",
        "buy_df = pd.read_csv(dir+'transaction.dat', header=None)\n",
        "buy_df.columns=['session_id','timestamp','item_id','price','quantity']\n",
        "buy_df.head()\n"
      ]
    },
    {
      "cell_type": "markdown",
      "metadata": {
        "id": "j8QQ9fR8BZrQ"
      },
      "source": [
        "Sample data: Randomly sample 100K sessions (due to huge file size)"
      ]
    },
    {
      "cell_type": "code",
      "execution_count": 8,
      "metadata": {
        "colab": {
          "base_uri": "https://localhost:8080/"
        },
        "id": "63wjAllJBbl7",
        "outputId": "54d9d7f9-f162-4606-c480-ea61a5e1d1ad"
      },
      "outputs": [
        {
          "data": {
            "text/plain": [
              "session_id    100000\n",
              "timestamp     356028\n",
              "item_id        20260\n",
              "category         116\n",
              "dtype: int64"
            ]
          },
          "execution_count": 8,
          "metadata": {},
          "output_type": "execute_result"
        }
      ],
      "source": [
        "import numpy as np\n",
        "sampled_session_id = np.random.choice(clicks_df.session_id.unique(), 100000, replace=False)\n",
        "clicks_df = clicks_df.loc[clicks_df.session_id.isin(sampled_session_id)]\n",
        "clicks_df.nunique()"
      ]
    },
    {
      "cell_type": "markdown",
      "metadata": {
        "id": "UITlTVcfBf0r"
      },
      "source": [
        "Encode labels with values between 0 to (num_classes - 1)"
      ]
    },
    {
      "cell_type": "code",
      "execution_count": 9,
      "metadata": {
        "colab": {
          "base_uri": "https://localhost:8080/",
          "height": 316
        },
        "id": "cjM6Yu6YBjcU",
        "outputId": "2520a442-9984-454c-e196-157595ef6ee9"
      },
      "outputs": [
        {
          "name": "stderr",
          "output_type": "stream",
          "text": [
            "/usr/local/lib/python3.7/dist-packages/ipykernel_launcher.py:9: SettingWithCopyWarning: \n",
            "A value is trying to be set on a copy of a slice from a DataFrame.\n",
            "Try using .loc[row_indexer,col_indexer] = value instead\n",
            "\n",
            "See the caveats in the documentation: https://pandas.pydata.org/pandas-docs/stable/user_guide/indexing.html#returning-a-view-versus-a-copy\n",
            "  if __name__ == '__main__':\n"
          ]
        },
        {
          "data": {
            "text/html": [
              "\n",
              "  <div id=\"df-a54e2199-83e8-40fc-b0d7-5a89ecc7a2e5\">\n",
              "    <div class=\"colab-df-container\">\n",
              "      <div>\n",
              "<style scoped>\n",
              "    .dataframe tbody tr th:only-of-type {\n",
              "        vertical-align: middle;\n",
              "    }\n",
              "\n",
              "    .dataframe tbody tr th {\n",
              "        vertical-align: top;\n",
              "    }\n",
              "\n",
              "    .dataframe thead th {\n",
              "        text-align: right;\n",
              "    }\n",
              "</style>\n",
              "<table border=\"1\" class=\"dataframe\">\n",
              "  <thead>\n",
              "    <tr style=\"text-align: right;\">\n",
              "      <th></th>\n",
              "      <th>session_id</th>\n",
              "      <th>timestamp</th>\n",
              "      <th>item_id</th>\n",
              "      <th>price</th>\n",
              "      <th>quantity</th>\n",
              "    </tr>\n",
              "  </thead>\n",
              "  <tbody>\n",
              "    <tr>\n",
              "      <th>315</th>\n",
              "      <td>70288</td>\n",
              "      <td>2014-04-05T08:59:57.800Z</td>\n",
              "      <td>11920</td>\n",
              "      <td>15603</td>\n",
              "      <td>1</td>\n",
              "    </tr>\n",
              "    <tr>\n",
              "      <th>588</th>\n",
              "      <td>742</td>\n",
              "      <td>2014-04-01T18:59:24.203Z</td>\n",
              "      <td>1563</td>\n",
              "      <td>26075</td>\n",
              "      <td>1</td>\n",
              "    </tr>\n",
              "    <tr>\n",
              "      <th>694</th>\n",
              "      <td>210548</td>\n",
              "      <td>2014-04-04T09:07:59.826Z</td>\n",
              "      <td>14923</td>\n",
              "      <td>1256</td>\n",
              "      <td>1</td>\n",
              "    </tr>\n",
              "    <tr>\n",
              "      <th>695</th>\n",
              "      <td>210548</td>\n",
              "      <td>2014-04-04T09:07:59.843Z</td>\n",
              "      <td>12574</td>\n",
              "      <td>4188</td>\n",
              "      <td>1</td>\n",
              "    </tr>\n",
              "    <tr>\n",
              "      <th>746</th>\n",
              "      <td>351401</td>\n",
              "      <td>2014-04-04T17:45:58.229Z</td>\n",
              "      <td>14320</td>\n",
              "      <td>941</td>\n",
              "      <td>1</td>\n",
              "    </tr>\n",
              "  </tbody>\n",
              "</table>\n",
              "</div>\n",
              "      <button class=\"colab-df-convert\" onclick=\"convertToInteractive('df-a54e2199-83e8-40fc-b0d7-5a89ecc7a2e5')\"\n",
              "              title=\"Convert this dataframe to an interactive table.\"\n",
              "              style=\"display:none;\">\n",
              "        \n",
              "  <svg xmlns=\"http://www.w3.org/2000/svg\" height=\"24px\"viewBox=\"0 0 24 24\"\n",
              "       width=\"24px\">\n",
              "    <path d=\"M0 0h24v24H0V0z\" fill=\"none\"/>\n",
              "    <path d=\"M18.56 5.44l.94 2.06.94-2.06 2.06-.94-2.06-.94-.94-2.06-.94 2.06-2.06.94zm-11 1L8.5 8.5l.94-2.06 2.06-.94-2.06-.94L8.5 2.5l-.94 2.06-2.06.94zm10 10l.94 2.06.94-2.06 2.06-.94-2.06-.94-.94-2.06-.94 2.06-2.06.94z\"/><path d=\"M17.41 7.96l-1.37-1.37c-.4-.4-.92-.59-1.43-.59-.52 0-1.04.2-1.43.59L10.3 9.45l-7.72 7.72c-.78.78-.78 2.05 0 2.83L4 21.41c.39.39.9.59 1.41.59.51 0 1.02-.2 1.41-.59l7.78-7.78 2.81-2.81c.8-.78.8-2.07 0-2.86zM5.41 20L4 18.59l7.72-7.72 1.47 1.35L5.41 20z\"/>\n",
              "  </svg>\n",
              "      </button>\n",
              "      \n",
              "  <style>\n",
              "    .colab-df-container {\n",
              "      display:flex;\n",
              "      flex-wrap:wrap;\n",
              "      gap: 12px;\n",
              "    }\n",
              "\n",
              "    .colab-df-convert {\n",
              "      background-color: #E8F0FE;\n",
              "      border: none;\n",
              "      border-radius: 50%;\n",
              "      cursor: pointer;\n",
              "      display: none;\n",
              "      fill: #1967D2;\n",
              "      height: 32px;\n",
              "      padding: 0 0 0 0;\n",
              "      width: 32px;\n",
              "    }\n",
              "\n",
              "    .colab-df-convert:hover {\n",
              "      background-color: #E2EBFA;\n",
              "      box-shadow: 0px 1px 2px rgba(60, 64, 67, 0.3), 0px 1px 3px 1px rgba(60, 64, 67, 0.15);\n",
              "      fill: #174EA6;\n",
              "    }\n",
              "\n",
              "    [theme=dark] .colab-df-convert {\n",
              "      background-color: #3B4455;\n",
              "      fill: #D2E3FC;\n",
              "    }\n",
              "\n",
              "    [theme=dark] .colab-df-convert:hover {\n",
              "      background-color: #434B5C;\n",
              "      box-shadow: 0px 1px 3px 1px rgba(0, 0, 0, 0.15);\n",
              "      filter: drop-shadow(0px 1px 2px rgba(0, 0, 0, 0.3));\n",
              "      fill: #FFFFFF;\n",
              "    }\n",
              "  </style>\n",
              "\n",
              "      <script>\n",
              "        const buttonEl =\n",
              "          document.querySelector('#df-a54e2199-83e8-40fc-b0d7-5a89ecc7a2e5 button.colab-df-convert');\n",
              "        buttonEl.style.display =\n",
              "          google.colab.kernel.accessAllowed ? 'block' : 'none';\n",
              "\n",
              "        async function convertToInteractive(key) {\n",
              "          const element = document.querySelector('#df-a54e2199-83e8-40fc-b0d7-5a89ecc7a2e5');\n",
              "          const dataTable =\n",
              "            await google.colab.kernel.invokeFunction('convertToInteractive',\n",
              "                                                     [key], {});\n",
              "          if (!dataTable) return;\n",
              "\n",
              "          const docLinkHtml = 'Like what you see? Visit the ' +\n",
              "            '<a target=\"_blank\" href=https://colab.research.google.com/notebooks/data_table.ipynb>data table notebook</a>'\n",
              "            + ' to learn more about interactive tables.';\n",
              "          element.innerHTML = '';\n",
              "          dataTable['output_type'] = 'display_data';\n",
              "          await google.colab.output.renderOutput(dataTable, element);\n",
              "          const docLink = document.createElement('div');\n",
              "          docLink.innerHTML = docLinkHtml;\n",
              "          element.appendChild(docLink);\n",
              "        }\n",
              "      </script>\n",
              "    </div>\n",
              "  </div>\n",
              "  "
            ],
            "text/plain": [
              "     session_id                 timestamp  item_id  price  quantity\n",
              "315       70288  2014-04-05T08:59:57.800Z    11920  15603         1\n",
              "588         742  2014-04-01T18:59:24.203Z     1563  26075         1\n",
              "694      210548  2014-04-04T09:07:59.826Z    14923   1256         1\n",
              "695      210548  2014-04-04T09:07:59.843Z    12574   4188         1\n",
              "746      351401  2014-04-04T17:45:58.229Z    14320    941         1"
            ]
          },
          "execution_count": 9,
          "metadata": {},
          "output_type": "execute_result"
        }
      ],
      "source": [
        "from sklearn.preprocessing import LabelEncoder\n",
        "item_encoder = LabelEncoder()\n",
        "category_encoder = LabelEncoder()\n",
        "clicks_df['item_id']=item_encoder.fit_transform(clicks_df.item_id)\n",
        "clicks_df['category']=category_encoder.fit_transform(clicks_df.category.apply(str))\n",
        "clicks_df.head()\n",
        " \n",
        "buy_df=buy_df.loc[buy_df.session_id.isin(clicks_df.session_id)]\n",
        "buy_df['item_id']=item_encoder.transform(buy_df.item_id)\n",
        "buy_df.head()"
      ]
    },
    {
      "cell_type": "markdown",
      "metadata": {
        "id": "EtvbuBATBqZn"
      },
      "source": [
        "Create session_id - Item dictionary (Who bought which item?)"
      ]
    },
    {
      "cell_type": "code",
      "execution_count": 10,
      "metadata": {
        "id": "mKub-eIyBr59"
      },
      "outputs": [],
      "source": [
        "buy_item_dict = dict(buy_df.groupby('session_id')['item_id'].apply(list))"
      ]
    },
    {
      "cell_type": "markdown",
      "metadata": {
        "id": "5KkjzffCBuDC"
      },
      "source": [
        "Define custom dataset class for train GNN\n",
        "Treat each item in a session as node → All items in the same session form a graph\n",
        "Items will be connected by edge.\n"
      ]
    },
    {
      "cell_type": "code",
      "execution_count": 11,
      "metadata": {
        "colab": {
          "base_uri": "https://localhost:8080/"
        },
        "id": "QAYmVf0BBwk0",
        "outputId": "c3bf610e-acde-4f9c-b4df-d7b26c5f62ad"
      },
      "outputs": [
        {
          "name": "stderr",
          "output_type": "stream",
          "text": [
            "Processing...\n",
            "  0%|          | 0/100000 [00:00<?, ?it/s]/usr/local/lib/python3.7/dist-packages/ipykernel_launcher.py:36: UserWarning: Creating a tensor from a list of numpy.ndarrays is extremely slow. Please consider converting the list to a single numpy.ndarray with numpy.array() before converting to a tensor. (Triggered internally at  ../torch/csrc/utils/tensor_new.cpp:201.)\n",
            "100%|██████████| 100000/100000 [05:38<00:00, 295.83it/s]\n",
            "Done!\n"
          ]
        }
      ],
      "source": [
        "from torch_geometric.data import InMemoryDataset\n",
        "from torch_geometric.data import Data\n",
        "\n",
        "from tqdm import tqdm\n",
        "class CustomDataset(InMemoryDataset):\n",
        "   def __init__(self, root, transform=None, pre_transform=None):\n",
        "       super(CustomDataset, self).__init__(root, transform, pre_transform)\n",
        "       self.data, self.slices = torch.load(self.processed_paths[0])\n",
        " \n",
        "   @property\n",
        "   def raw_file_names(self):\n",
        "       return []\n",
        " \n",
        "   @property\n",
        "   def processed_file_names(self):\n",
        "       return ['save.dataset']\n",
        " \n",
        "   def download(self):\n",
        "       pass\n",
        "  \n",
        "   def process(self):\n",
        "      \n",
        "       data_list = []\n",
        "       # process by session_id\n",
        "       grouped = clicks_df.groupby('session_id')\n",
        "       for session_id, group in tqdm(grouped):\n",
        "           le = LabelEncoder()\n",
        "           sess_item_id = le.fit_transform(group.item_id)\n",
        "           group = group.reset_index(drop=True)\n",
        "           group['sess_item_id'] = sess_item_id\n",
        "           node_features = group.loc[group.session_id==session_id,['sess_item_id','item_id','category']].sort_values('sess_item_id')[['item_id','category']].drop_duplicates().values\n",
        "           node_features = torch.LongTensor(node_features).unsqueeze(1)\n",
        "           target_nodes = group.sess_item_id.values[1:]\n",
        "           source_nodes = group.sess_item_id.values[:-1]\n",
        "           edge_index = torch.tensor([source_nodes,\n",
        "                                  target_nodes], dtype=torch.long)\n",
        "           x = node_features\n",
        " \n",
        "           if session_id in buy_item_dict:\n",
        "               positive_indices = le.transform(buy_item_dict[session_id])\n",
        "               label = np.zeros(len(node_features))\n",
        "               label[positive_indices] = 1\n",
        "           else:\n",
        "               label = [0] * len(node_features)\n",
        " \n",
        "           y = torch.FloatTensor(label)\n",
        "           data = Data(x=x, edge_index=edge_index, y=y)\n",
        " \n",
        "           data_list.append(data)\n",
        "      \n",
        "       data, slices = self.collate(data_list)\n",
        "       torch.save((data, slices), self.processed_paths[0])\n",
        " \n",
        "dataset = CustomDataset('../')\n"
      ]
    },
    {
      "cell_type": "markdown",
      "metadata": {
        "id": "T3l0_EGFDrnx"
      },
      "source": [
        "Model"
      ]
    },
    {
      "cell_type": "code",
      "execution_count": 23,
      "metadata": {
        "id": "egpGodZ8DrOL"
      },
      "outputs": [],
      "source": [
        "import torch\n",
        "from torch.nn import Linear\n",
        "import torch.nn.functional as F\n",
        "from torch_geometric.nn import GCNConv, GATConv\n",
        "from torch_geometric.nn import global_mean_pool\n",
        "\n",
        "num_items = clicks_df.item_id.max() +1\n",
        "num_categories = clicks_df.category.max()+1\n",
        "embed_dim = 128\n",
        "\n",
        "class Net(torch.nn.Module):\n",
        "    def __init__(self):\n",
        "        super().__init__()\n",
        "        self.item_embedding = torch.nn.Embedding(num_embeddings=num_items, embedding_dim=embed_dim)\n",
        "        self.category_embedding = torch.nn.Embedding(num_embeddings=num_categories, embedding_dim=embed_dim)        \n",
        "        self.conv1 = GCNConv(embed_dim * 2, embed_dim) # You can use other graph convolution layer\n",
        "        self.conv2 = GCNConv(embed_dim, embed_dim)\n",
        "        self.lin1 = Linear(embed_dim, 64) # You can multiple linear layers\n",
        "        self.lin2 = Linear(64, 1)\n",
        "        self.act1 = torch.nn.ReLU()\n",
        "\n",
        "    def forward(self, data):\n",
        "        x, edge_index, batch = data.x, data.edge_index, data.batch  \n",
        "        item_id = x[:,:,0]\n",
        "        category = x[:,:,1]\n",
        "\n",
        "        # Use item embedding & category embedding to solve the problem.\n",
        "        emb_item = self.item_embedding(item_id).squeeze(1)\n",
        "        emb_category = self.category_embedding(category).squeeze(1)\n",
        "        x = torch.cat([emb_item, emb_category], dim=1)\n",
        "\n",
        "        ### You can add layers or alter the model structure. See geometric documents which layer or model you can use.\n",
        "        x = self.conv1(x, edge_index) # x.shape = (number of edges in the batch of graphs, representation dimension)\n",
        "        x = self.act1(x)\n",
        "        x = self.conv2(x, edge_index)\n",
        "        x = self.act1(x)\n",
        "        x = self.lin1(x)\n",
        "        x = self.act1(x)\n",
        "        x = self.lin2(x)\n",
        "        ### Prediction score for each edge, range 0~1\n",
        "        x = torch.sigmoid(x).squeeze(1)\n",
        "        \n",
        "        return x  "
      ]
    },
    {
      "cell_type": "markdown",
      "metadata": {
        "id": "R0XrZBSUDcrj"
      },
      "source": [
        "Dataloader"
      ]
    },
    {
      "cell_type": "code",
      "execution_count": 13,
      "metadata": {
        "id": "Nk0Uz2SCDg4d"
      },
      "outputs": [],
      "source": [
        "### add train, val, test loader.\n",
        "from torch.utils.data import random_split\n",
        "from torch_geometric.loader import DataLoader\n",
        "### add train, val, test loader.\n",
        "train_dataset, val_dataset, test_dataset = random_split(dataset,[80000,10000,10000])\n",
        "train_loader = DataLoader(train_dataset, batch_size=32, shuffle=True)\n",
        "val_loader = DataLoader(val_dataset, batch_size=32, shuffle=False)\n",
        "test_loader = DataLoader(test_dataset, batch_size=32, shuffle=False)"
      ]
    },
    {
      "cell_type": "markdown",
      "metadata": {
        "id": "8EC3TdXzDhXC"
      },
      "source": [
        "Train"
      ]
    },
    {
      "cell_type": "code",
      "execution_count": 14,
      "metadata": {
        "id": "fVzx1dAdLrNl"
      },
      "outputs": [],
      "source": [
        "def train():\n",
        "    model.train()\n",
        "    criterion = torch.nn.BCELoss()\n",
        "    loss_all = 0\n",
        "    for data in train_loader:\n",
        "        data = data.to(device)\n",
        "        optimizer.zero_grad()\n",
        "        output = model(data)\n",
        "\n",
        "        label = data.y.to(device)\n",
        "        loss = criterion(output, label)\n",
        "        loss.backward()\n",
        "        loss_all += data.num_graphs * loss.item()\n",
        "        optimizer.step()\n",
        "    return loss_all / len(train_dataset)"
      ]
    },
    {
      "cell_type": "markdown",
      "metadata": {
        "id": "BhFAIgyHeEVx"
      },
      "source": [
        "Val"
      ]
    },
    {
      "cell_type": "code",
      "execution_count": 15,
      "metadata": {
        "id": "a90StPLjeDUE"
      },
      "outputs": [],
      "source": [
        "def val(loader):\n",
        "    model.eval()\n",
        "    criterion = torch.nn.BCELoss()\n",
        "    loss_all = 0\n",
        "    for data in loader:\n",
        "        data = data.to(device)\n",
        "        label = data.y.to(device)\n",
        "        output = model(data)\n",
        "        loss = criterion(output, label)\n",
        "        loss_all += loss.item() * data.num_graphs\n",
        "    return loss_all / len(train_dataset)"
      ]
    },
    {
      "cell_type": "code",
      "execution_count": 16,
      "metadata": {
        "id": "CV5zjZVegX23"
      },
      "outputs": [],
      "source": [
        "def val(loader):\n",
        "    model.eval()\n",
        "\n",
        "    predictions = []\n",
        "    labels = []\n",
        "\n",
        "    with torch.no_grad():\n",
        "        for data in loader:\n",
        "\n",
        "            data = data.to(device)\n",
        "            pred = model(data).detach().cpu().numpy()\n",
        "\n",
        "            label = data.y.detach().cpu().numpy()\n",
        "            predictions.append(pred)\n",
        "            labels.append(label)\n",
        "\n",
        "    predictions = np.hstack(predictions)\n",
        "    labels = np.hstack(labels)\n",
        "\n",
        "    return roc_auc_score(labels, predictions)"
      ]
    },
    {
      "cell_type": "markdown",
      "metadata": {
        "id": "xBwRNy8zLsKb"
      },
      "source": [
        "Test"
      ]
    },
    {
      "cell_type": "code",
      "execution_count": 17,
      "metadata": {
        "id": "bHYXPzblLsxD"
      },
      "outputs": [],
      "source": [
        "from sklearn.metrics import roc_auc_score\n",
        "def test(loader):\n",
        "    model.eval()\n",
        "\n",
        "    predictions = []\n",
        "    labels = []\n",
        "\n",
        "    with torch.no_grad():\n",
        "        for data in loader:\n",
        "\n",
        "            data = data.to(device)\n",
        "            pred = model(data).detach().cpu().numpy()\n",
        "\n",
        "            label = data.y.detach().cpu().numpy()\n",
        "            predictions.append(pred)\n",
        "            labels.append(label)\n",
        "\n",
        "    predictions = np.hstack(predictions)\n",
        "    labels = np.hstack(labels)\n",
        "\n",
        "    return roc_auc_score(labels, predictions)"
      ]
    },
    {
      "cell_type": "code",
      "execution_count": 18,
      "metadata": {
        "id": "8UewlmZ0ehqs"
      },
      "outputs": [],
      "source": [
        "def save_checkpoint(EPOCH, m, o, LOSS):\n",
        "  torch.save({\n",
        "            'epoch': EPOCH,\n",
        "            'model_state_dict': m.state_dict(),\n",
        "            'optimizer_state_dict': o.state_dict(),\n",
        "            'loss': LOSS,\n",
        "            }, dir+\"model_checkpoint.md\")"
      ]
    },
    {
      "cell_type": "code",
      "execution_count": 26,
      "metadata": {
        "colab": {
          "base_uri": "https://localhost:8080/"
        },
        "id": "4czoRZzIXEJI",
        "outputId": "c9638955-54fc-4e7d-e338-f1112206c44f"
      },
      "outputs": [
        {
          "name": "stdout",
          "output_type": "stream",
          "text": [
            "train_loss: 0.16428767057098448\n",
            "val_acc: 0.6032437228815849\n",
            "train_loss: 0.15302629987150432\n",
            "val_acc: 0.6416688600630107\n",
            "train_loss: 0.1448915508918464\n",
            "val_acc: 0.6542289848494928\n",
            "train_loss: 0.13900756259970368\n",
            "val_acc: 0.6506411507039926\n",
            "train_loss: 0.13348563874289393\n",
            "val_acc: 0.6526977183691824\n",
            "train_loss: 0.12972936278283595\n",
            "val_acc: 0.6467826933549161\n",
            "train_loss: 0.12619831148795785\n",
            "val_acc: 0.6513976257850476\n",
            "train_loss: 0.12226310273855924\n",
            "val_acc: 0.6483218210525947\n",
            "train_loss: 0.1189647931681946\n",
            "val_acc: 0.6511701278832288\n",
            "train_loss: 0.1156698925478384\n",
            "val_acc: 0.6501206871913399\n"
          ]
        }
      ],
      "source": [
        "model = Net()\n",
        "device = torch.device('cuda:0')\n",
        "model.to(device)\n",
        "optimizer = torch.optim.Adam(model.parameters(), lr=0.001)\n",
        "\n",
        "number_of_epochs = 10 # You can change.\n",
        "\n",
        "best_acc = 0\n",
        "for epoch in range(number_of_epochs):\n",
        "    train_loss = train()\n",
        "    print(\"train_loss:\",train_loss)\n",
        "    val_acc = val(val_loader)\n",
        "    print(\"val_acc:\",val_acc)\n",
        "    # Choose the lowest validation loss checkpoint (you can implement early stopping as well)\n",
        "    if val_acc > best_acc:\n",
        "      best_loss = val_acc\n",
        "      save_checkpoint(epoch,model,optimizer,best_acc)\n",
        "    if val_acc >= 0.67:\n",
        "      break\n",
        "# Load the lowest validation loss checkpoint and check the performance.\n"
      ]
    },
    {
      "cell_type": "code",
      "execution_count": 27,
      "metadata": {
        "id": "XQsgaHF-g8yL"
      },
      "outputs": [],
      "source": [
        "checkpoint = torch.load(dir+\"model_checkpoint.md\")\n",
        "model.load_state_dict(checkpoint['model_state_dict'])\n",
        "optimizer.load_state_dict(checkpoint['optimizer_state_dict'])\n",
        "epoch = checkpoint['epoch']\n",
        "loss = checkpoint['loss']\n",
        "test_acc = test(test_loader)"
      ]
    },
    {
      "cell_type": "code",
      "execution_count": 28,
      "metadata": {
        "colab": {
          "base_uri": "https://localhost:8080/"
        },
        "id": "fv5vlC2-UsOY",
        "outputId": "f807fec8-55e4-439f-94bf-8bdfe12b70e2"
      },
      "outputs": [
        {
          "data": {
            "text/plain": [
              "0.6548630911219"
            ]
          },
          "execution_count": 28,
          "metadata": {},
          "output_type": "execute_result"
        }
      ],
      "source": [
        "test_acc"
      ]
    }
  ],
  "metadata": {
    "accelerator": "GPU",
    "colab": {
      "provenance": []
    },
    "gpuClass": "standard",
    "kernelspec": {
      "display_name": "Python 3",
      "name": "python3"
    },
    "language_info": {
      "name": "python"
    }
  },
  "nbformat": 4,
  "nbformat_minor": 0
}
